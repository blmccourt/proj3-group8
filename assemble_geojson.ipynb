{
 "cells": [
  {
   "cell_type": "markdown",
   "id": "022b118b-fe8d-45c6-9807-9878c3b77642",
   "metadata": {},
   "source": [
    "### Establish GeoJSON Data for Use with Leaflet\n",
    "\n",
    "- Query SQL database for all data measured with Age as dimension (for children under 5 years)\n",
    "- Retrieve coordinates of each country in data for use in GeoJSON\n",
    "- Create DataFrames for each Anthropometric Indicator\n",
    "    - Overweight\n",
    "    - Underweight\n",
    "    - Stunting\n",
    "    - Wasting\n",
    "    - Wasting (Severe)\n",
    "- Convert Pandas DataFrames to GeoJSON data using GeoPandas library\n",
    "- Write GeoJSON data to file and embed in ./static/js/define_raw_geojson_data.js"
   ]
  },
  {
   "cell_type": "code",
   "execution_count": 1,
   "id": "440e33af-d0bc-4bbb-a8f2-105b764c6f7a",
   "metadata": {},
   "outputs": [],
   "source": [
    "## Import relevant modules. GeoPandas is used to convert DataFrame data into \n",
    "## GeoJSON data for use in web visualization\n",
    "import pandas as pd\n",
    "import numpy as np\n",
    "import sqlite3\n",
    "import requests\n",
    "import pprint\n",
    "\n",
    "import sys\n",
    "\n",
    "import geopandas as gpd\n",
    "from shapely.geometry import Point\n",
    "import pprint\n",
    "import geojson"
   ]
  },
  {
   "cell_type": "markdown",
   "id": "28e7c8fb-ddd3-4266-b41a-0907317f66f6",
   "metadata": {},
   "source": [
    "#### Retrieve Geographic Coordinates for Unique Countries"
   ]
  },
  {
   "cell_type": "code",
   "execution_count": 2,
   "id": "a8fe45d1-a835-49b5-b3e3-90692a4d5aca",
   "metadata": {},
   "outputs": [],
   "source": [
    "## Define a function which takes a 3-letter ISO country code, and returns the geographic\n",
    "## coordinates by retrieval them from an API endpoint\n",
    "def get_country_coordinates(iso_code):\n",
    "    # Establish API endpoint for coordinate retrieval based on country ISO code\n",
    "    url = f\"https://restcountries.com/v3.1/alpha/{iso_code}\"\n",
    "    \n",
    "    # Send request to formatted API URL to GET coordinates based on ISO code\n",
    "    response = requests.get(url)\n",
    "    \n",
    "    if response.status_code == 200:\n",
    "        data = response.json()\n",
    "        latlng = data[0]['latlng']\n",
    "        ## latlng is a list which contains [latitude, longtidue]\n",
    "        return latlng\n",
    "    else:\n",
    "        ## Return None if there's an erroneous response\n",
    "        return None"
   ]
  },
  {
   "cell_type": "code",
   "execution_count": 3,
   "id": "16172155-f81b-4825-bcd1-dea216e415db",
   "metadata": {},
   "outputs": [],
   "source": [
    "## Define some debugging flags for convenience in order to skip certain code snippets\n",
    "## during repeat runs\n",
    "skip_coords_retrieval = True\n",
    "write_coords_to_file = False\n",
    "verbose_retrieval_status = False"
   ]
  },
  {
   "cell_type": "code",
   "execution_count": 4,
   "id": "63cf3349-5f4c-47cf-b707-d3696c95ad69",
   "metadata": {},
   "outputs": [],
   "source": [
    "## Load coordinates from existing CSV depending on skip flag,\n",
    "## otherwise call get_country_coordinates for each country code\n",
    "if(skip_coords_retrieval == True):\n",
    "    coords_df = pd.read_csv(\"./data/coords.csv\")\n",
    "else:\n",
    "    ## If retrieving coordinates, first query clean_data table \n",
    "    ## to get unique countries/codes\n",
    "    conn = sqlite3.connect(\"./data/malnutrition_data.db\")\n",
    "    query = \"SELECT * FROM clean_data\"\n",
    "\n",
    "    data_df = pd.read_sql_query(query, conn)\n",
    "\n",
    "    ## Select all data where the measured dimension is Age (months)\n",
    "    filtered_data_df = data_df.query(\"Dimension == 'Age (months)'\")\n",
    "\n",
    "    unique_countries = filtered_data_df[\"Country\"].unique()\n",
    "    unique_codes = filtered_data_df[\"Country ISO-3 Code\"].unique()\n",
    "\n",
    "    ## Remove Chile (CHL) from the list because it's missing an anthopometric indicator\n",
    "    unique_countries = np.delete(unique_countries, 28)\n",
    "    unique_codes = np.delete(unique_codes, 28)\n",
    "\n",
    "    lats = []\n",
    "    longs = []\n",
    "    ## Populate lats and longs lists with coordinates from get_country_coordinates()\n",
    "    ## to subsequently place into DataFrame\n",
    "    if(verbose_retrieval_status == False):\n",
    "        print(\"populating coordinates lists using get_country_coordinates()...\")\n",
    "    for code in unique_codes:\n",
    "        temp_coords = get_country_coordinates(code)\n",
    "        lats.append(temp_coords[0])\n",
    "        longs.append(temp_coords[1])\n",
    "        if(verbose_retrieval_status == True):\n",
    "            print(f\"added coords for {code}...\")\n",
    "\n",
    "    ## Assemble coords_df for later use when creating GeoJSON\n",
    "    coords_df = pd.DataFrame();\n",
    "\n",
    "    coords_df['country'] = unique_countries;\n",
    "    coords_df['code'] = unique_codes;\n",
    "    coords_df['lat'] = lats;\n",
    "    coords_df['lon'] = longs;\n",
    "\n",
    "    pprint.pp(coords_df)\n",
    "    ## Write coordinates to file if flag is set\n",
    "    if(write_coords_to_file == True):\n",
    "        coords_df.to_csv(\"./data/coords.csv\", index=False)"
   ]
  },
  {
   "cell_type": "markdown",
   "id": "91587531-5a40-4ed9-a8c9-19f696d507da",
   "metadata": {},
   "source": [
    "#### Query Database and Filter Relevant Data"
   ]
  },
  {
   "cell_type": "code",
   "execution_count": 5,
   "id": "eacc13e5-8187-4234-8e38-dfa8ef3e3d77",
   "metadata": {},
   "outputs": [],
   "source": [
    "## Establish connection with SQL database and query all data from clean_data table\n",
    "conn = sqlite3.connect(\"./data/malnutrition_data.db\")\n",
    "query = \"SELECT * FROM clean_data\"\n",
    "\n",
    "data_df = pd.read_sql_query(query, conn)\n",
    "\n",
    "## Filter out data where measured dimension is Age (months)\n",
    "filtered_data_df = data_df.query(\"Dimension == 'Age (months)'\")"
   ]
  },
  {
   "cell_type": "code",
   "execution_count": 6,
   "id": "13c3a16d-f5c9-47db-bf7d-ed2536fd5bc1",
   "metadata": {},
   "outputs": [],
   "source": [
    "## Retrieve unique country and country code values\n",
    "unique_countries = filtered_data_df[\"Country\"].unique()\n",
    "unique_codes = filtered_data_df[\"Country ISO-3 Code\"].unique()\n",
    "\n",
    "## Remove Chile (CHL) from list due to missing data\n",
    "unique_countries = np.delete(unique_countries, 28)\n",
    "unique_codes = np.delete(unique_codes, 28)\n",
    "\n",
    "## Define empty list of DataFrames which will contains anthropometric indicators for each country\n",
    "## List will be populated with DataFrames, one for each unique country\n",
    "per_country_dfs = []"
   ]
  },
  {
   "cell_type": "markdown",
   "id": "ab722a89-509c-4d17-b05a-66e574cdef85",
   "metadata": {},
   "source": [
    "#### Enumerate Anthropometric Indicators for each Country (averaged through years)"
   ]
  },
  {
   "cell_type": "code",
   "execution_count": 7,
   "id": "bd631260-e61f-4e2d-bf2f-6f5191e7268b",
   "metadata": {},
   "outputs": [],
   "source": [
    "## Grab metrics for each country, then append to per_country_dfs[]\n",
    "for country_code in unique_codes:\n",
    "    temp_df = filtered_data_df.query(\"`Country ISO-3 Code` == @country_code\")\n",
    "    per_country_dfs.append(temp_df)\n",
    "\n",
    "## Define empty dictionary \n",
    "country_year_indicators_lookup_dict = {}\n",
    "\n",
    "## Populate country_year_indicators_lookup_dict{} with DataFrames containing averaged\n",
    "## anthropometric indicators across years\n",
    "##\n",
    "## Weights are maintained because researchers had 1 measurement per indicator, per year\n",
    "for country_code in unique_codes:\n",
    "    current_country_df = filtered_data_df.query(\"`Country ISO-3 Code` == @country_code\")\n",
    "    current_country_years = current_country_df[\"Year\"].unique()\n",
    "\n",
    "    for year in current_country_years:\n",
    "        grouped_by_indicator_df = current_country_df.groupby(\"Anthropometric Indicator\")[\"Prevalence Estimate %\"].mean().reset_index()\n",
    "        country_year_indicators_lookup_dict[country_code] = grouped_by_indicator_df"
   ]
  },
  {
   "cell_type": "code",
   "execution_count": 8,
   "id": "52ccf23e-a5a7-41f4-99d8-dbb5691d44ff",
   "metadata": {},
   "outputs": [],
   "source": [
    "## Create prevalence_df which will contain country codes and all 5 associated indicators as columns\n",
    "prevalence_df = pd.DataFrame()\n",
    "\n",
    "prevalence_df[\"code\"] = unique_codes;\n",
    "\n",
    "## prevalence_lists_by_indicator{} needed to be created in order to find out that\n",
    "## CHL (Chile) was missing an indicator\n",
    "indicators = [\"Overweight\", \"Stunting\", \"Underweight\", \"Wasting\", \"Wasting Severe\"]\n",
    "prevalence_lists_by_indicator = {}\n",
    "\n",
    "for indicator in indicators:\n",
    "    prevalence_lists_by_indicator[indicator] = []"
   ]
  },
  {
   "cell_type": "code",
   "execution_count": 9,
   "id": "bf024a01-cd2b-4db6-8bd2-c85efe9255df",
   "metadata": {},
   "outputs": [],
   "source": [
    "### DEBUGGING BLOCK\n",
    "\n",
    "## Iterate through items country_year_indicators_lookup_dict{} to find which country\n",
    "## was missing an indicator measurement\n",
    "for key, value in country_year_indicators_lookup_dict.items():\n",
    "    for indicator in indicators:\n",
    "        #print(value[value[\"Anthropometric Indicator\"] == indicator])\n",
    "        temp_list = value[value[\"Anthropometric Indicator\"] == indicator][\"Prevalence Estimate %\"].to_list()\n",
    "        if(len(temp_list) == 1):\n",
    "            prevalence_lists_by_indicator[indicator].append(temp_list[0])\n",
    "        else:\n",
    "            print(key)\n",
    "\n",
    "### END DEBUGGING BLOCK"
   ]
  },
  {
   "cell_type": "markdown",
   "id": "0f865133-fe2a-4070-89f2-cb2bee9ab61b",
   "metadata": {},
   "source": [
    "#### Create Lists of Prevalence Values and Populate DataFrame"
   ]
  },
  {
   "cell_type": "code",
   "execution_count": 10,
   "id": "967b5560-af9a-4140-86ec-d87b770ee143",
   "metadata": {},
   "outputs": [],
   "source": [
    "## Re-establish empty lists in prevalence_lists_by_indicator{}\n",
    "for indicator in indicators:\n",
    "    prevalence_lists_by_indicator[indicator] = []\n",
    "\n",
    "## Populate each list with all average prevalence values in same order as country codes\n",
    "for entry in country_year_indicators_lookup_dict.values():\n",
    "    for indicator in indicators:\n",
    "        prevalence = entry[entry[\"Anthropometric Indicator\"] == indicator][\"Prevalence Estimate %\"]\n",
    "\n",
    "        val = (prevalence.to_list())[0]\n",
    "        \n",
    "        prevalence_lists_by_indicator[indicator].append(val)"
   ]
  },
  {
   "cell_type": "code",
   "execution_count": 11,
   "id": "f1b96363-cf8a-45af-a004-5cc08dfb1db0",
   "metadata": {},
   "outputs": [],
   "source": [
    "## Populate prevalence_df with lists of indicators, such that each row now\n",
    "## contains a country code, and its 5 indicator averages\n",
    "for indicator in indicators:\n",
    "    prevalence_df[indicator] = prevalence_lists_by_indicator[indicator]"
   ]
  },
  {
   "cell_type": "markdown",
   "id": "3650233f-1d9e-41c1-9199-77592545b232",
   "metadata": {},
   "source": [
    "##### Print coordinate and prevalence DataFrames for reference"
   ]
  },
  {
   "cell_type": "code",
   "execution_count": 13,
   "id": "6fd5b92f-96a1-4bc4-bd43-c37760434466",
   "metadata": {},
   "outputs": [
    {
     "name": "stdout",
     "output_type": "stream",
     "text": [
      "                            country code        lat         lon\n",
      "0                       Afghanistan  AFG  33.000000   65.000000\n",
      "1                           Albania  ALB  41.000000   20.000000\n",
      "2                           Algeria  DZA  28.000000    3.000000\n",
      "3                            Angola  AGO -12.500000   18.500000\n",
      "4                         Argentina  ARG -34.000000  -64.000000\n",
      "..                              ...  ...        ...         ...\n",
      "146                        Viet Nam  VNM  16.166667  107.833333\n",
      "147                           Yemen  YEM  15.000000   48.000000\n",
      "148                          Zambia  ZMB -15.000000   30.000000\n",
      "149                        Zimbabwe  ZWE -20.000000   30.000000\n",
      "150  occupied Palestinian territory  PSE  31.900000   35.200000\n",
      "\n",
      "[151 rows x 4 columns]\n",
      "    code  Overweight   Stunting  Underweight    Wasting  Wasting Severe\n",
      "0    AFG    4.984954  42.385391    22.937286   7.276614        2.770802\n",
      "1    ALB   21.083658  21.440019     5.303072   7.021891        3.655698\n",
      "2    DZA   13.257227  18.228570     7.126181   6.515799        2.941191\n",
      "3    AGO    2.827835  39.770582    23.829020   7.692775        2.305255\n",
      "4    ARG   10.927755   8.281946     2.348195   1.770588        0.476633\n",
      "..   ...         ...        ...          ...        ...             ...\n",
      "146  VNM    3.383203  34.204936    22.548317   9.171107        2.372987\n",
      "147  YEM    4.246249  49.237196    37.990798  16.197609        5.807201\n",
      "148  ZMB    7.511327  43.643890    17.340884   6.035281        2.196591\n",
      "149  ZWE    6.979456  27.689701    10.465440   5.000796        1.711434\n",
      "150  PSE    7.626907   9.601088     2.625617   2.683735        0.928554\n",
      "\n",
      "[151 rows x 6 columns]\n"
     ]
    }
   ],
   "source": [
    "## Print coordinate and prevalence DataFrames for reference and sanity check\n",
    "pprint.pp(coords_df)\n",
    "pprint.pp(prevalence_df)"
   ]
  },
  {
   "cell_type": "markdown",
   "id": "404cb666-c558-4b66-b8d6-2222381144aa",
   "metadata": {},
   "source": [
    "#### Create Pandas DataFrame for each Anthropometric Indicator"
   ]
  },
  {
   "cell_type": "code",
   "execution_count": 14,
   "id": "29e6e897-6eee-41cf-af68-3360837db3ee",
   "metadata": {},
   "outputs": [
    {
     "name": "stdout",
     "output_type": "stream",
     "text": [
      "\n",
      "overweight layer DataFrame:\n",
      "                            country code        lat         lon  prevalence\n",
      "0                       Afghanistan  AFG  33.000000   65.000000    4.984954\n",
      "1                           Albania  ALB  41.000000   20.000000   21.083658\n",
      "2                           Algeria  DZA  28.000000    3.000000   13.257227\n",
      "3                            Angola  AGO -12.500000   18.500000    2.827835\n",
      "4                         Argentina  ARG -34.000000  -64.000000   10.927755\n",
      "..                              ...  ...        ...         ...         ...\n",
      "146                        Viet Nam  VNM  16.166667  107.833333    3.383203\n",
      "147                           Yemen  YEM  15.000000   48.000000    4.246249\n",
      "148                          Zambia  ZMB -15.000000   30.000000    7.511327\n",
      "149                        Zimbabwe  ZWE -20.000000   30.000000    6.979456\n",
      "150  occupied Palestinian territory  PSE  31.900000   35.200000    7.626907\n",
      "\n",
      "[151 rows x 5 columns]\n",
      "\n",
      "stunting layer DataFrame:\n",
      "                            country code        lat         lon  prevalence\n",
      "0                       Afghanistan  AFG  33.000000   65.000000   42.385391\n",
      "1                           Albania  ALB  41.000000   20.000000   21.440019\n",
      "2                           Algeria  DZA  28.000000    3.000000   18.228570\n",
      "3                            Angola  AGO -12.500000   18.500000   39.770582\n",
      "4                         Argentina  ARG -34.000000  -64.000000    8.281946\n",
      "..                              ...  ...        ...         ...         ...\n",
      "146                        Viet Nam  VNM  16.166667  107.833333   34.204936\n",
      "147                           Yemen  YEM  15.000000   48.000000   49.237196\n",
      "148                          Zambia  ZMB -15.000000   30.000000   43.643890\n",
      "149                        Zimbabwe  ZWE -20.000000   30.000000   27.689701\n",
      "150  occupied Palestinian territory  PSE  31.900000   35.200000    9.601088\n",
      "\n",
      "[151 rows x 5 columns]\n",
      "\n",
      "underweight layer DataFrame:\n",
      "                            country code        lat         lon  prevalence\n",
      "0                       Afghanistan  AFG  33.000000   65.000000   22.937286\n",
      "1                           Albania  ALB  41.000000   20.000000    5.303072\n",
      "2                           Algeria  DZA  28.000000    3.000000    7.126181\n",
      "3                            Angola  AGO -12.500000   18.500000   23.829020\n",
      "4                         Argentina  ARG -34.000000  -64.000000    2.348195\n",
      "..                              ...  ...        ...         ...         ...\n",
      "146                        Viet Nam  VNM  16.166667  107.833333   22.548317\n",
      "147                           Yemen  YEM  15.000000   48.000000   37.990798\n",
      "148                          Zambia  ZMB -15.000000   30.000000   17.340884\n",
      "149                        Zimbabwe  ZWE -20.000000   30.000000   10.465440\n",
      "150  occupied Palestinian territory  PSE  31.900000   35.200000    2.625617\n",
      "\n",
      "[151 rows x 5 columns]\n",
      "\n",
      "wasting layer DataFrame:\n",
      "                            country code        lat         lon  prevalence\n",
      "0                       Afghanistan  AFG  33.000000   65.000000    7.276614\n",
      "1                           Albania  ALB  41.000000   20.000000    7.021891\n",
      "2                           Algeria  DZA  28.000000    3.000000    6.515799\n",
      "3                            Angola  AGO -12.500000   18.500000    7.692775\n",
      "4                         Argentina  ARG -34.000000  -64.000000    1.770588\n",
      "..                              ...  ...        ...         ...         ...\n",
      "146                        Viet Nam  VNM  16.166667  107.833333    9.171107\n",
      "147                           Yemen  YEM  15.000000   48.000000   16.197609\n",
      "148                          Zambia  ZMB -15.000000   30.000000    6.035281\n",
      "149                        Zimbabwe  ZWE -20.000000   30.000000    5.000796\n",
      "150  occupied Palestinian territory  PSE  31.900000   35.200000    2.683735\n",
      "\n",
      "[151 rows x 5 columns]\n",
      "\n",
      "wasting severe layer DataFrame:\n",
      "                            country code        lat         lon  prevalence\n",
      "0                       Afghanistan  AFG  33.000000   65.000000    2.770802\n",
      "1                           Albania  ALB  41.000000   20.000000    3.655698\n",
      "2                           Algeria  DZA  28.000000    3.000000    2.941191\n",
      "3                            Angola  AGO -12.500000   18.500000    2.305255\n",
      "4                         Argentina  ARG -34.000000  -64.000000    0.476633\n",
      "..                              ...  ...        ...         ...         ...\n",
      "146                        Viet Nam  VNM  16.166667  107.833333    2.372987\n",
      "147                           Yemen  YEM  15.000000   48.000000    5.807201\n",
      "148                          Zambia  ZMB -15.000000   30.000000    2.196591\n",
      "149                        Zimbabwe  ZWE -20.000000   30.000000    1.711434\n",
      "150  occupied Palestinian territory  PSE  31.900000   35.200000    0.928554\n",
      "\n",
      "[151 rows x 5 columns]\n"
     ]
    }
   ],
   "source": [
    "## Create a DataFrame for each layer, containing country code, coordinates, and prevalence \n",
    "## for each indicator\n",
    "overweight_layer_df = coords_df.copy()\n",
    "overweight_layer_df[\"prevalence\"] = prevalence_df[\"Overweight\"]\n",
    "print(\"\\noverweight layer DataFrame:\")\n",
    "pprint.pp(overweight_layer_df)\n",
    "\n",
    "stunting_layer_df = coords_df.copy()\n",
    "stunting_layer_df[\"prevalence\"] = prevalence_df[\"Stunting\"]\n",
    "print(\"\\nstunting layer DataFrame:\")\n",
    "pprint.pp(stunting_layer_df)\n",
    "\n",
    "underweight_layer_df = coords_df.copy()\n",
    "underweight_layer_df[\"prevalence\"] = prevalence_df[\"Underweight\"]\n",
    "print(\"\\nunderweight layer DataFrame:\")\n",
    "pprint.pp(underweight_layer_df)\n",
    "\n",
    "wasting_layer_df = coords_df.copy()\n",
    "wasting_layer_df[\"prevalence\"] = prevalence_df[\"Wasting\"]\n",
    "print(\"\\nwasting layer DataFrame:\")\n",
    "pprint.pp(wasting_layer_df)\n",
    "\n",
    "wasting_severe_layer_df = coords_df.copy()\n",
    "wasting_severe_layer_df[\"prevalence\"] = prevalence_df[\"Wasting Severe\"]\n",
    "print(\"\\nwasting severe layer DataFrame:\")\n",
    "pprint.pp(wasting_severe_layer_df)\n"
   ]
  },
  {
   "cell_type": "markdown",
   "id": "6e087924-8ed3-408b-a4d0-0122ad710453",
   "metadata": {},
   "source": [
    "#### Convert DataFrames to GeoJSON data using GeoPandas library"
   ]
  },
  {
   "cell_type": "code",
   "execution_count": 15,
   "id": "ebdb535a-4e3c-4bfe-b46d-293bd78a590e",
   "metadata": {},
   "outputs": [],
   "source": [
    "## Establish geometry for use with GeoPandas, using lon and lat columns in overweight_layer_df\n",
    "##\n",
    "## (coordinates for 5 metrics are understandably the same, so we can use them for all \n",
    "## 5 indicators)\n",
    "geom = [Point(xy) for xy in zip(overweight_layer_df['lon'], overweight_layer_df['lat'])]"
   ]
  },
  {
   "cell_type": "code",
   "execution_count": 16,
   "id": "e01f66c9-c724-4ef8-8004-636ae5e30dce",
   "metadata": {},
   "outputs": [],
   "source": [
    "## Using GeoPandas, create a GeoDataFrame for each anthropometric indicator \n",
    "## (i.e., layer in Leaflet)\n",
    "##\n",
    "## Then, write each GeoDataFrame to a GeoJSON-formatted file in data/ directory\n",
    "\n",
    "overweight_gdf = gpd.GeoDataFrame(overweight_layer_df, geometry=geom)\n",
    "overweight_gdf.to_file(\"./data/overweight_gdf.geojson\", driver='GeoJSON')\n",
    "\n",
    "stunting_gdf = gpd.GeoDataFrame(stunting_layer_df, geometry=geom)\n",
    "stunting_gdf.to_file(\"./data/stunting_gdf.geojson\", driver='GeoJSON')\n",
    "\n",
    "underweight_gdf = gpd.GeoDataFrame(underweight_layer_df, geometry=geom)\n",
    "underweight_gdf.to_file(\"./data/underweight_gdf.geojson\", driver='GeoJSON')\n",
    "\n",
    "wasting_gdf = gpd.GeoDataFrame(wasting_layer_df, geometry=geom)\n",
    "wasting_gdf.to_file(\"./data/wasting_gdf.geojson\", driver='GeoJSON')\n",
    "\n",
    "wasting_severe_gdf = gpd.GeoDataFrame(wasting_severe_layer_df, geometry=geom)\n",
    "wasting_severe_gdf.to_file(\"./data/wasting_severe_gdf.geojson\", driver='GeoJSON')"
   ]
  }
 ],
 "metadata": {
  "kernelspec": {
   "display_name": "Python 3 (ipykernel)",
   "language": "python",
   "name": "python3"
  },
  "language_info": {
   "codemirror_mode": {
    "name": "ipython",
    "version": 3
   },
   "file_extension": ".py",
   "mimetype": "text/x-python",
   "name": "python",
   "nbconvert_exporter": "python",
   "pygments_lexer": "ipython3",
   "version": "3.12.5"
  }
 },
 "nbformat": 4,
 "nbformat_minor": 5
}
