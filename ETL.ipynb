{
 "cells": [
  {
   "cell_type": "markdown",
   "metadata": {},
   "source": [
    "## 1.0 Dependency loading"
   ]
  },
  {
   "cell_type": "code",
   "execution_count": 22,
   "metadata": {},
   "outputs": [],
   "source": [
    "# Import necessary libraries\n",
    "import pandas as pd\n",
    "import numpy as np"
   ]
  },
  {
   "cell_type": "markdown",
   "metadata": {},
   "source": [
    "## 2.0 Data extraction"
   ]
  },
  {
   "cell_type": "code",
   "execution_count": 2,
   "metadata": {},
   "outputs": [
    {
     "name": "stdout",
     "output_type": "stream",
     "text": [
      "Data loaded successfully.\n",
      "\n"
     ]
    }
   ],
   "source": [
    "# Read the data into a Pandas DataFrame\n",
    "\n",
    "try:\n",
    "    # Read the data into a Pandas DataFrame\n",
    "    raw_data_df = pd.read_excel('data/raw_data.xlsx')\n",
    "    print(\"Data loaded successfully.\\n\")\n",
    "except FileNotFoundError:\n",
    "    print(\"Error: The file 'data/raw_data.xlsx' was not found.\")\n",
    "except Exception as e:\n",
    "    print(f\"An unexpected error occurred: {e}\")"
   ]
  },
  {
   "cell_type": "code",
   "execution_count": 541,
   "metadata": {},
   "outputs": [
    {
     "name": "stdout",
     "output_type": "stream",
     "text": [
      "<class 'pandas.core.frame.DataFrame'>\n",
      "RangeIndex: 157095 entries, 0 to 157094\n",
      "Data columns (total 24 columns):\n",
      " #   Column                Non-Null Count   Dtype  \n",
      "---  ------                --------------   -----  \n",
      " 0   setting               157095 non-null  object \n",
      " 1   date                  157095 non-null  int64  \n",
      " 2   source                157095 non-null  object \n",
      " 3   indicator_abbr        157095 non-null  object \n",
      " 4   indicator_name        157095 non-null  object \n",
      " 5   dimension             157095 non-null  object \n",
      " 6   subgroup              157095 non-null  object \n",
      " 7   estimate              153334 non-null  float64\n",
      " 8   se                    136679 non-null  float64\n",
      " 9   ci_lb                 142754 non-null  float64\n",
      " 10  ci_ub                 142754 non-null  float64\n",
      " 11  population            147089 non-null  float64\n",
      " 12  flag                  157095 non-null  object \n",
      " 13  setting_average       157095 non-null  float64\n",
      " 14  iso3                  157095 non-null  object \n",
      " 15  favourable_indicator  157095 non-null  int64  \n",
      " 16  indicator_scale       157095 non-null  int64  \n",
      " 17  ordered_dimension     157095 non-null  int64  \n",
      " 18  subgroup_order        157095 non-null  int64  \n",
      " 19  reference_subgroup    157095 non-null  int64  \n",
      " 20  whoreg6               157095 non-null  object \n",
      " 21  wbincome2024          157095 non-null  object \n",
      " 22  dataset_id            157095 non-null  object \n",
      " 23  update                157095 non-null  object \n",
      "dtypes: float64(6), int64(6), object(12)\n",
      "memory usage: 28.8+ MB\n"
     ]
    }
   ],
   "source": [
    "# Get a brief summary of the raw_data DataFrame.\n",
    "raw_data_df.info()"
   ]
  },
  {
   "cell_type": "markdown",
   "metadata": {},
   "source": [
    "There are 157,095 records and 24 columns of raw data in our dataframe."
   ]
  },
  {
   "cell_type": "markdown",
   "metadata": {},
   "source": [
    "## 3.0 Data cleaning"
   ]
  },
  {
   "cell_type": "markdown",
   "metadata": {},
   "source": [
    "### 3.1 Check for any columns that are empty and drop them from the dataframe."
   ]
  },
  {
   "cell_type": "code",
   "execution_count": 4,
   "metadata": {},
   "outputs": [
    {
     "name": "stdout",
     "output_type": "stream",
     "text": [
      "Empty columns: Index([], dtype='object')\n",
      "DataFrame info after removing empty columns:\n",
      "<class 'pandas.core.frame.DataFrame'>\n",
      "RangeIndex: 157095 entries, 0 to 157094\n",
      "Data columns (total 24 columns):\n",
      " #   Column                Non-Null Count   Dtype  \n",
      "---  ------                --------------   -----  \n",
      " 0   setting               157095 non-null  object \n",
      " 1   date                  157095 non-null  int64  \n",
      " 2   source                157095 non-null  object \n",
      " 3   indicator_abbr        157095 non-null  object \n",
      " 4   indicator_name        157095 non-null  object \n",
      " 5   dimension             157095 non-null  object \n",
      " 6   subgroup              157095 non-null  object \n",
      " 7   estimate              153334 non-null  float64\n",
      " 8   se                    136679 non-null  float64\n",
      " 9   ci_lb                 142754 non-null  float64\n",
      " 10  ci_ub                 142754 non-null  float64\n",
      " 11  population            147089 non-null  float64\n",
      " 12  flag                  157095 non-null  object \n",
      " 13  setting_average       157095 non-null  float64\n",
      " 14  iso3                  157095 non-null  object \n",
      " 15  favourable_indicator  157095 non-null  int64  \n",
      " 16  indicator_scale       157095 non-null  int64  \n",
      " 17  ordered_dimension     157095 non-null  int64  \n",
      " 18  subgroup_order        157095 non-null  int64  \n",
      " 19  reference_subgroup    157095 non-null  int64  \n",
      " 20  whoreg6               157095 non-null  object \n",
      " 21  wbincome2024          157095 non-null  object \n",
      " 22  dataset_id            157095 non-null  object \n",
      " 23  update                157095 non-null  object \n",
      "dtypes: float64(6), int64(6), object(12)\n",
      "memory usage: 28.8+ MB\n"
     ]
    }
   ],
   "source": [
    "# Check for empty columns\n",
    "empty_columns = raw_data_df.columns[raw_data_df.isnull().all()]\n",
    "print(\"Empty columns:\", empty_columns)\n",
    "\n",
    "# Remove empty columns\n",
    "cleaned_df = raw_data_df.dropna(axis=1, how='all')\n",
    "\n",
    "# Verify data frame info\n",
    "print(\"DataFrame info after removing empty columns:\")\n",
    "cleaned_df.info()"
   ]
  },
  {
   "cell_type": "markdown",
   "metadata": {},
   "source": [
    "There are still 24 columns, so no empty columns were found."
   ]
  },
  {
   "cell_type": "markdown",
   "metadata": {},
   "source": [
    "### 3.2 Count the unique values in each column to check for single values, we can drop them from the dataframe.  Such columns will not provide any meaningful insights."
   ]
  },
  {
   "cell_type": "code",
   "execution_count": 543,
   "metadata": {},
   "outputs": [
    {
     "name": "stdout",
     "output_type": "stream",
     "text": [
      "DataFrame with the count of unique values in each column:\n"
     ]
    },
    {
     "data": {
      "text/html": [
       "<div>\n",
       "<style scoped>\n",
       "    .dataframe tbody tr th:only-of-type {\n",
       "        vertical-align: middle;\n",
       "    }\n",
       "\n",
       "    .dataframe tbody tr th {\n",
       "        vertical-align: top;\n",
       "    }\n",
       "\n",
       "    .dataframe thead th {\n",
       "        text-align: right;\n",
       "    }\n",
       "</style>\n",
       "<table border=\"1\" class=\"dataframe\">\n",
       "  <thead>\n",
       "    <tr style=\"text-align: right;\">\n",
       "      <th></th>\n",
       "      <th>Unique Count</th>\n",
       "    </tr>\n",
       "  </thead>\n",
       "  <tbody>\n",
       "    <tr>\n",
       "      <th>setting</th>\n",
       "      <td>156</td>\n",
       "    </tr>\n",
       "    <tr>\n",
       "      <th>date</th>\n",
       "      <td>34</td>\n",
       "    </tr>\n",
       "    <tr>\n",
       "      <th>source</th>\n",
       "      <td>19</td>\n",
       "    </tr>\n",
       "    <tr>\n",
       "      <th>indicator_abbr</th>\n",
       "      <td>15</td>\n",
       "    </tr>\n",
       "    <tr>\n",
       "      <th>indicator_name</th>\n",
       "      <td>15</td>\n",
       "    </tr>\n",
       "    <tr>\n",
       "      <th>dimension</th>\n",
       "      <td>6</td>\n",
       "    </tr>\n",
       "    <tr>\n",
       "      <th>subgroup</th>\n",
       "      <td>4517</td>\n",
       "    </tr>\n",
       "    <tr>\n",
       "      <th>estimate</th>\n",
       "      <td>130841</td>\n",
       "    </tr>\n",
       "    <tr>\n",
       "      <th>se</th>\n",
       "      <td>135364</td>\n",
       "    </tr>\n",
       "    <tr>\n",
       "      <th>ci_lb</th>\n",
       "      <td>136109</td>\n",
       "    </tr>\n",
       "    <tr>\n",
       "      <th>ci_ub</th>\n",
       "      <td>136147</td>\n",
       "    </tr>\n",
       "    <tr>\n",
       "      <th>population</th>\n",
       "      <td>73542</td>\n",
       "    </tr>\n",
       "    <tr>\n",
       "      <th>flag</th>\n",
       "      <td>1496</td>\n",
       "    </tr>\n",
       "    <tr>\n",
       "      <th>setting_average</th>\n",
       "      <td>11905</td>\n",
       "    </tr>\n",
       "    <tr>\n",
       "      <th>iso3</th>\n",
       "      <td>156</td>\n",
       "    </tr>\n",
       "    <tr>\n",
       "      <th>favourable_indicator</th>\n",
       "      <td>1</td>\n",
       "    </tr>\n",
       "    <tr>\n",
       "      <th>indicator_scale</th>\n",
       "      <td>1</td>\n",
       "    </tr>\n",
       "    <tr>\n",
       "      <th>ordered_dimension</th>\n",
       "      <td>2</td>\n",
       "    </tr>\n",
       "    <tr>\n",
       "      <th>subgroup_order</th>\n",
       "      <td>7</td>\n",
       "    </tr>\n",
       "    <tr>\n",
       "      <th>reference_subgroup</th>\n",
       "      <td>2</td>\n",
       "    </tr>\n",
       "    <tr>\n",
       "      <th>whoreg6</th>\n",
       "      <td>6</td>\n",
       "    </tr>\n",
       "    <tr>\n",
       "      <th>wbincome2024</th>\n",
       "      <td>4</td>\n",
       "    </tr>\n",
       "    <tr>\n",
       "      <th>dataset_id</th>\n",
       "      <td>1</td>\n",
       "    </tr>\n",
       "    <tr>\n",
       "      <th>update</th>\n",
       "      <td>1</td>\n",
       "    </tr>\n",
       "  </tbody>\n",
       "</table>\n",
       "</div>"
      ],
      "text/plain": [
       "                      Unique Count\n",
       "setting                        156\n",
       "date                            34\n",
       "source                          19\n",
       "indicator_abbr                  15\n",
       "indicator_name                  15\n",
       "dimension                        6\n",
       "subgroup                      4517\n",
       "estimate                    130841\n",
       "se                          135364\n",
       "ci_lb                       136109\n",
       "ci_ub                       136147\n",
       "population                   73542\n",
       "flag                          1496\n",
       "setting_average              11905\n",
       "iso3                           156\n",
       "favourable_indicator             1\n",
       "indicator_scale                  1\n",
       "ordered_dimension                2\n",
       "subgroup_order                   7\n",
       "reference_subgroup               2\n",
       "whoreg6                          6\n",
       "wbincome2024                     4\n",
       "dataset_id                       1\n",
       "update                           1"
      ]
     },
     "execution_count": 543,
     "metadata": {},
     "output_type": "execute_result"
    }
   ],
   "source": [
    "# Count the number of unique values in each column\n",
    "unique_counts = cleaned_df.nunique()\n",
    "\n",
    "# Create a new DataFrame to store the counts\n",
    "unique_counts_df = pd.DataFrame(unique_counts, columns=['Unique Count'])\n",
    "\n",
    "# Display the new DataFrame\n",
    "print(\"DataFrame with the count of unique values in each column:\")\n",
    "unique_counts_df"
   ]
  },
  {
   "cell_type": "markdown",
   "metadata": {},
   "source": [
    "Columns 'favourable indicator', 'indicator_scale', 'dataset_id', and 'update' have single values so we can drop them."
   ]
  },
  {
   "cell_type": "code",
   "execution_count": 5,
   "metadata": {},
   "outputs": [
    {
     "name": "stdout",
     "output_type": "stream",
     "text": [
      "DataFrame info after removing single value columns:\n",
      "\n",
      "<class 'pandas.core.frame.DataFrame'>\n",
      "RangeIndex: 157095 entries, 0 to 157094\n",
      "Data columns (total 20 columns):\n",
      " #   Column              Non-Null Count   Dtype  \n",
      "---  ------              --------------   -----  \n",
      " 0   setting             157095 non-null  object \n",
      " 1   date                157095 non-null  int64  \n",
      " 2   source              157095 non-null  object \n",
      " 3   indicator_abbr      157095 non-null  object \n",
      " 4   indicator_name      157095 non-null  object \n",
      " 5   dimension           157095 non-null  object \n",
      " 6   subgroup            157095 non-null  object \n",
      " 7   estimate            153334 non-null  float64\n",
      " 8   se                  136679 non-null  float64\n",
      " 9   ci_lb               142754 non-null  float64\n",
      " 10  ci_ub               142754 non-null  float64\n",
      " 11  population          147089 non-null  float64\n",
      " 12  flag                157095 non-null  object \n",
      " 13  setting_average     157095 non-null  float64\n",
      " 14  iso3                157095 non-null  object \n",
      " 15  ordered_dimension   157095 non-null  int64  \n",
      " 16  subgroup_order      157095 non-null  int64  \n",
      " 17  reference_subgroup  157095 non-null  int64  \n",
      " 18  whoreg6             157095 non-null  object \n",
      " 19  wbincome2024        157095 non-null  object \n",
      "dtypes: float64(6), int64(4), object(10)\n",
      "memory usage: 24.0+ MB\n"
     ]
    }
   ],
   "source": [
    "# Remove columns with a single value from the DataFrame\n",
    "cleaned_df = cleaned_df.drop(columns=['favourable_indicator', 'indicator_scale', 'dataset_id', 'update'])\n",
    "\n",
    "# Display the updated DataFrame\n",
    "print(\"DataFrame info after removing single value columns:\\n\")\n",
    "cleaned_df.info()"
   ]
  },
  {
   "cell_type": "markdown",
   "metadata": {},
   "source": [
    "The four single value columns were correctly dropped.  We now have 20 columns in the dataframe."
   ]
  },
  {
   "cell_type": "markdown",
   "metadata": {},
   "source": [
    "### 3.3 Check remaining columns for relevance.\n",
    "\n",
    "1. The *flag* column includes notes, author, and reference title.\n",
    "2. The *source* column includes a code for reprenting the source data type.\n",
    "3. The meaning of the *reference_subgroup* column is unknown.\n",
    "4. The *se* column refers to the standard error in the prevalence estimate.\n",
    "5. The *ci_lb* and *ci_ub* columns refer to confidence intervals upper and lower bounds respectively.\n",
    "6. The *ordered_dimension* column is a boolean flag that indicates if the *dimension* column is a nominal or ordinal variable.  In this dataset, *0* represents a nominal variable and *1* represents an ordinal variable.  Nominal variables are for the dimensions of *sex*, *place of residence*, and *subnational region*.  Ordinal variables are for the dimensions of *age*, *economic status*, and *education level*. Ordinal dimensions use the *subgroup_order* column to denote the specific ordering.\n",
    "7. The *wbincome2024* column is an income group classification provided by The World Bank.  It is a classification of the subnational region dimension.  This is extra data since economic status is already a covered dimension.\n",
    "8. The *indicator_name* column is a description for *indicator_abbr*.\n",
    "\n",
    "None data is needed for our analysis, so we will drop it from the dataframe."
   ]
  },
  {
   "cell_type": "code",
   "execution_count": 545,
   "metadata": {},
   "outputs": [
    {
     "name": "stdout",
     "output_type": "stream",
     "text": [
      "DataFrame info after removing the unecessary columns:\n",
      "\n",
      "<class 'pandas.core.frame.DataFrame'>\n",
      "RangeIndex: 157095 entries, 0 to 157094\n",
      "Data columns (total 11 columns):\n",
      " #   Column           Non-Null Count   Dtype  \n",
      "---  ------           --------------   -----  \n",
      " 0   setting          157095 non-null  object \n",
      " 1   date             157095 non-null  int64  \n",
      " 2   indicator_abbr   157095 non-null  object \n",
      " 3   dimension        157095 non-null  object \n",
      " 4   subgroup         157095 non-null  object \n",
      " 5   estimate         153334 non-null  float64\n",
      " 6   population       147089 non-null  float64\n",
      " 7   setting_average  157095 non-null  float64\n",
      " 8   iso3             157095 non-null  object \n",
      " 9   subgroup_order   157095 non-null  int64  \n",
      " 10  whoreg6          157095 non-null  object \n",
      "dtypes: float64(3), int64(2), object(6)\n",
      "memory usage: 13.2+ MB\n"
     ]
    }
   ],
   "source": [
    "# Remove 'flag' column from the DataFrame\n",
    "cleaned_df = cleaned_df.drop(columns=['flag', 'source', 'reference_subgroup', 'se', 'ci_lb', 'ci_ub', 'ordered_dimension', 'wbincome2024', 'indicator_name'])\n",
    "\n",
    "# Display the updated DataFrame\n",
    "print(\"DataFrame info after removing the unecessary columns:\\n\")\n",
    "cleaned_df.info()"
   ]
  },
  {
   "cell_type": "markdown",
   "metadata": {},
   "source": [
    "### 3.4 Rename the columns with more intuitive titles and reorder them."
   ]
  },
  {
   "cell_type": "code",
   "execution_count": 6,
   "metadata": {},
   "outputs": [
    {
     "name": "stdout",
     "output_type": "stream",
     "text": [
      "<class 'pandas.core.frame.DataFrame'>\n",
      "RangeIndex: 157095 entries, 0 to 157094\n",
      "Data columns (total 11 columns):\n",
      " #   Column                    Non-Null Count   Dtype  \n",
      "---  ------                    --------------   -----  \n",
      " 0   Region                    157095 non-null  object \n",
      " 1   Country ISO-3 Code        157095 non-null  object \n",
      " 2   Country                   157095 non-null  object \n",
      " 3   Year                      157095 non-null  int64  \n",
      " 4   Dimension                 157095 non-null  object \n",
      " 5   Dimension Value           157095 non-null  object \n",
      " 6   Dimension Value Order     157095 non-null  int64  \n",
      " 7   Anthropometric Indicator  157095 non-null  object \n",
      " 8   Prevalence Estimate %     153334 non-null  float64\n",
      " 9   Weighted Sample Size      147089 non-null  float64\n",
      " 10  Country Avg               157095 non-null  float64\n",
      "dtypes: float64(3), int64(2), object(6)\n",
      "memory usage: 13.2+ MB\n"
     ]
    }
   ],
   "source": [
    "# Rename the columns\n",
    "cleaned_df = cleaned_df.rename(columns={\n",
    "    'setting': 'Country',\n",
    "    'date': 'Year',\n",
    "    'indicator_abbr': 'Anthropometric Indicator',\n",
    "    'dimension': 'Dimension',\n",
    "    'subgroup': 'Dimension Value',\n",
    "    'subgroup_order': 'Dimension Value Order',\n",
    "    'setting_average': 'Country Avg',\n",
    "    'iso3': 'Country ISO-3 Code',\n",
    "    'whoreg6': 'Region',\n",
    "    'estimate': 'Prevalence Estimate %',\n",
    "    'population': 'Weighted Sample Size'\n",
    "})\n",
    "\n",
    "# Reorder the columns\n",
    "cleaned_df = cleaned_df[\n",
    "    [\n",
    "        'Region',\n",
    "        'Country ISO-3 Code',\n",
    "        'Country',\n",
    "        'Year',\n",
    "        'Dimension',\n",
    "        'Dimension Value',\n",
    "        'Dimension Value Order',\n",
    "        'Anthropometric Indicator',\n",
    "        'Prevalence Estimate %',\n",
    "        'Weighted Sample Size',\n",
    "        'Country Avg'\n",
    "    ]\n",
    "]\n",
    "\n",
    "# Check the DataFrame information\n",
    "cleaned_df.info()"
   ]
  },
  {
   "cell_type": "markdown",
   "metadata": {},
   "source": [
    "### 3.5 From the summary information, we see that columns Prevalence Estimate % and Weighted Sample Size have empty values.  Those rows need to be removed from the dataframe."
   ]
  },
  {
   "cell_type": "code",
   "execution_count": 7,
   "metadata": {},
   "outputs": [
    {
     "name": "stdout",
     "output_type": "stream",
     "text": [
      "<class 'pandas.core.frame.DataFrame'>\n",
      "Index: 147089 entries, 1 to 157094\n",
      "Data columns (total 11 columns):\n",
      " #   Column                    Non-Null Count   Dtype  \n",
      "---  ------                    --------------   -----  \n",
      " 0   Region                    147089 non-null  object \n",
      " 1   Country ISO-3 Code        147089 non-null  object \n",
      " 2   Country                   147089 non-null  object \n",
      " 3   Year                      147089 non-null  int64  \n",
      " 4   Dimension                 147089 non-null  object \n",
      " 5   Dimension Value           147089 non-null  object \n",
      " 6   Dimension Value Order     147089 non-null  int64  \n",
      " 7   Anthropometric Indicator  147089 non-null  object \n",
      " 8   Prevalence Estimate %     147089 non-null  float64\n",
      " 9   Weighted Sample Size      147089 non-null  float64\n",
      " 10  Country Avg               147089 non-null  float64\n",
      "dtypes: float64(3), int64(2), object(6)\n",
      "memory usage: 13.5+ MB\n"
     ]
    }
   ],
   "source": [
    "# Remove rows where 'Weighted Sample Size' and 'Prevalence Estimate %' are empty\n",
    "cleaned_df = cleaned_df.dropna(subset=['Weighted Sample Size', 'Prevalence Estimate %'])\n",
    "\n",
    "# Check the DataFrame after dropping rows\n",
    "cleaned_df.info()"
   ]
  },
  {
   "cell_type": "markdown",
   "metadata": {},
   "source": [
    "### 3.6 The Child's Age dimension includes additional indicators that append _M and _F to the Anthropometric Indicator.  These entries are redundant to our analysis as we already have aggregate data for the dimension of Sex.  We remove these rows."
   ]
  },
  {
   "cell_type": "code",
   "execution_count": 8,
   "metadata": {},
   "outputs": [
    {
     "name": "stdout",
     "output_type": "stream",
     "text": [
      "<class 'pandas.core.frame.DataFrame'>\n",
      "Index: 100770 entries, 1 to 157082\n",
      "Data columns (total 11 columns):\n",
      " #   Column                    Non-Null Count   Dtype  \n",
      "---  ------                    --------------   -----  \n",
      " 0   Region                    100770 non-null  object \n",
      " 1   Country ISO-3 Code        100770 non-null  object \n",
      " 2   Country                   100770 non-null  object \n",
      " 3   Year                      100770 non-null  int64  \n",
      " 4   Dimension                 100770 non-null  object \n",
      " 5   Dimension Value           100770 non-null  object \n",
      " 6   Dimension Value Order     100770 non-null  int64  \n",
      " 7   Anthropometric Indicator  100770 non-null  object \n",
      " 8   Prevalence Estimate %     100770 non-null  float64\n",
      " 9   Weighted Sample Size      100770 non-null  float64\n",
      " 10  Country Avg               100770 non-null  float64\n",
      "dtypes: float64(3), int64(2), object(6)\n",
      "memory usage: 9.2+ MB\n"
     ]
    }
   ],
   "source": [
    "# Remove rows where 'Anthropometric Indicator' ends with '_F' or '_M'\n",
    "cleaned_df = cleaned_df[~cleaned_df['Anthropometric Indicator'].str.endswith(('_F', '_M'))]\n",
    "\n",
    "# Check the DataFrame after dropping rows\n",
    "cleaned_df.info()"
   ]
  },
  {
   "cell_type": "markdown",
   "metadata": {},
   "source": [
    "### 3.7 The Sub-national Region dimension value is irrelevant to our analysis and only tied to the World Bank Income Group column, so those rows will be removed."
   ]
  },
  {
   "cell_type": "code",
   "execution_count": 9,
   "metadata": {},
   "outputs": [
    {
     "name": "stdout",
     "output_type": "stream",
     "text": [
      "<class 'pandas.core.frame.DataFrame'>\n",
      "Index: 56618 entries, 1 to 157082\n",
      "Data columns (total 11 columns):\n",
      " #   Column                    Non-Null Count  Dtype  \n",
      "---  ------                    --------------  -----  \n",
      " 0   Region                    56618 non-null  object \n",
      " 1   Country ISO-3 Code        56618 non-null  object \n",
      " 2   Country                   56618 non-null  object \n",
      " 3   Year                      56618 non-null  int64  \n",
      " 4   Dimension                 56618 non-null  object \n",
      " 5   Dimension Value           56618 non-null  object \n",
      " 6   Dimension Value Order     56618 non-null  int64  \n",
      " 7   Anthropometric Indicator  56618 non-null  object \n",
      " 8   Prevalence Estimate %     56618 non-null  float64\n",
      " 9   Weighted Sample Size      56618 non-null  float64\n",
      " 10  Country Avg               56618 non-null  float64\n",
      "dtypes: float64(3), int64(2), object(6)\n",
      "memory usage: 5.2+ MB\n"
     ]
    }
   ],
   "source": [
    "# Remove entries where 'Dimension' is 'Subnational Region'\n",
    "cleaned_df = cleaned_df[cleaned_df['Dimension'] != 'Subnational region']\n",
    "\n",
    "# Check the DataFrame after dropping rows\n",
    "cleaned_df.info()"
   ]
  },
  {
   "cell_type": "markdown",
   "metadata": {},
   "source": [
    "### 3.8 After removing unecessary data, as well as empty rows, we are left with 56,618 rows and 11 columns."
   ]
  },
  {
   "cell_type": "code",
   "execution_count": 10,
   "metadata": {},
   "outputs": [
    {
     "data": {
      "text/html": [
       "<div>\n",
       "<style scoped>\n",
       "    .dataframe tbody tr th:only-of-type {\n",
       "        vertical-align: middle;\n",
       "    }\n",
       "\n",
       "    .dataframe tbody tr th {\n",
       "        vertical-align: top;\n",
       "    }\n",
       "\n",
       "    .dataframe thead th {\n",
       "        text-align: right;\n",
       "    }\n",
       "</style>\n",
       "<table border=\"1\" class=\"dataframe\">\n",
       "  <thead>\n",
       "    <tr style=\"text-align: right;\">\n",
       "      <th></th>\n",
       "      <th>Region</th>\n",
       "      <th>Country ISO-3 Code</th>\n",
       "      <th>Country</th>\n",
       "      <th>Year</th>\n",
       "      <th>Dimension</th>\n",
       "      <th>Dimension Value</th>\n",
       "      <th>Dimension Value Order</th>\n",
       "      <th>Anthropometric Indicator</th>\n",
       "      <th>Prevalence Estimate %</th>\n",
       "      <th>Weighted Sample Size</th>\n",
       "      <th>Country Avg</th>\n",
       "    </tr>\n",
       "  </thead>\n",
       "  <tbody>\n",
       "    <tr>\n",
       "      <th>1</th>\n",
       "      <td>Eastern Mediterranean</td>\n",
       "      <td>AFG</td>\n",
       "      <td>Afghanistan</td>\n",
       "      <td>2004</td>\n",
       "      <td>Child's age (6 groups) (0-59m)</td>\n",
       "      <td>12-23 months</td>\n",
       "      <td>3</td>\n",
       "      <td>overweight</td>\n",
       "      <td>4.3</td>\n",
       "      <td>189.0</td>\n",
       "      <td>4.6</td>\n",
       "    </tr>\n",
       "    <tr>\n",
       "      <th>2</th>\n",
       "      <td>Eastern Mediterranean</td>\n",
       "      <td>AFG</td>\n",
       "      <td>Afghanistan</td>\n",
       "      <td>2004</td>\n",
       "      <td>Child's age (6 groups) (0-59m)</td>\n",
       "      <td>24-35 months</td>\n",
       "      <td>4</td>\n",
       "      <td>overweight</td>\n",
       "      <td>3.0</td>\n",
       "      <td>182.0</td>\n",
       "      <td>4.6</td>\n",
       "    </tr>\n",
       "    <tr>\n",
       "      <th>3</th>\n",
       "      <td>Eastern Mediterranean</td>\n",
       "      <td>AFG</td>\n",
       "      <td>Afghanistan</td>\n",
       "      <td>2004</td>\n",
       "      <td>Child's age (6 groups) (0-59m)</td>\n",
       "      <td>36-47 months</td>\n",
       "      <td>5</td>\n",
       "      <td>overweight</td>\n",
       "      <td>5.6</td>\n",
       "      <td>227.0</td>\n",
       "      <td>4.6</td>\n",
       "    </tr>\n",
       "    <tr>\n",
       "      <th>4</th>\n",
       "      <td>Eastern Mediterranean</td>\n",
       "      <td>AFG</td>\n",
       "      <td>Afghanistan</td>\n",
       "      <td>2004</td>\n",
       "      <td>Child's age (6 groups) (0-59m)</td>\n",
       "      <td>48-59 months</td>\n",
       "      <td>6</td>\n",
       "      <td>overweight</td>\n",
       "      <td>6.4</td>\n",
       "      <td>241.0</td>\n",
       "      <td>4.6</td>\n",
       "    </tr>\n",
       "    <tr>\n",
       "      <th>5</th>\n",
       "      <td>Eastern Mediterranean</td>\n",
       "      <td>AFG</td>\n",
       "      <td>Afghanistan</td>\n",
       "      <td>2004</td>\n",
       "      <td>Child's age (6 groups) (0-59m)</td>\n",
       "      <td>6-11 months</td>\n",
       "      <td>2</td>\n",
       "      <td>overweight</td>\n",
       "      <td>1.9</td>\n",
       "      <td>107.0</td>\n",
       "      <td>4.6</td>\n",
       "    </tr>\n",
       "  </tbody>\n",
       "</table>\n",
       "</div>"
      ],
      "text/plain": [
       "                  Region Country ISO-3 Code      Country  Year  \\\n",
       "1  Eastern Mediterranean                AFG  Afghanistan  2004   \n",
       "2  Eastern Mediterranean                AFG  Afghanistan  2004   \n",
       "3  Eastern Mediterranean                AFG  Afghanistan  2004   \n",
       "4  Eastern Mediterranean                AFG  Afghanistan  2004   \n",
       "5  Eastern Mediterranean                AFG  Afghanistan  2004   \n",
       "\n",
       "                        Dimension Dimension Value  Dimension Value Order  \\\n",
       "1  Child's age (6 groups) (0-59m)    12-23 months                      3   \n",
       "2  Child's age (6 groups) (0-59m)    24-35 months                      4   \n",
       "3  Child's age (6 groups) (0-59m)    36-47 months                      5   \n",
       "4  Child's age (6 groups) (0-59m)    48-59 months                      6   \n",
       "5  Child's age (6 groups) (0-59m)     6-11 months                      2   \n",
       "\n",
       "  Anthropometric Indicator  Prevalence Estimate %  Weighted Sample Size  \\\n",
       "1               overweight                    4.3                 189.0   \n",
       "2               overweight                    3.0                 182.0   \n",
       "3               overweight                    5.6                 227.0   \n",
       "4               overweight                    6.4                 241.0   \n",
       "5               overweight                    1.9                 107.0   \n",
       "\n",
       "   Country Avg  \n",
       "1          4.6  \n",
       "2          4.6  \n",
       "3          4.6  \n",
       "4          4.6  \n",
       "5          4.6  "
      ]
     },
     "execution_count": 10,
     "metadata": {},
     "output_type": "execute_result"
    }
   ],
   "source": [
    "# Check the clean data\n",
    "cleaned_df.head()"
   ]
  },
  {
   "cell_type": "markdown",
   "metadata": {},
   "source": [
    "### 3.9 Clean up"
   ]
  },
  {
   "cell_type": "code",
   "execution_count": 11,
   "metadata": {},
   "outputs": [
    {
     "name": "stdout",
     "output_type": "stream",
     "text": [
      "['Overweight' 'Stunting' 'Underweight' 'Wasting' 'Wasting Severe']\n"
     ]
    }
   ],
   "source": [
    "# Apply proper capitalization to Anthropometric Indicator values\n",
    "mapping = {\n",
    "    'overweight': 'Overweight',\n",
    "    'stunting': 'Stunting',\n",
    "    'underweight': 'Underweight',\n",
    "    'wasting': 'Wasting',\n",
    "    'wastingsev': 'Wasting Severe'\n",
    "}\n",
    "\n",
    "# Map the values in the 'Anthropometric Indicator' column\n",
    "cleaned_df['Anthropometric Indicator'] = cleaned_df['Anthropometric Indicator'].replace(mapping)\n",
    "\n",
    "# Check the unique values in the 'Anthropometric Indicator' column\n",
    "unique_values = cleaned_df['Anthropometric Indicator'].unique()\n",
    "print(unique_values)"
   ]
  },
  {
   "cell_type": "code",
   "execution_count": 12,
   "metadata": {},
   "outputs": [
    {
     "name": "stdout",
     "output_type": "stream",
     "text": [
      "['Age (months)' 'Sex' 'Place of residence'\n",
      " 'Economic status (wealth quintile)' 'Education (mother)']\n"
     ]
    }
   ],
   "source": [
    "# Clean up dimension names using a dictionary\n",
    "dimension_mapping = {\n",
    "    \"Child's age (6 groups) (0-59m)\": 'Age (months)',\n",
    "    \"Education (3 groups)\": \"Education (mother)\"\n",
    "}\n",
    "\n",
    "# Apply the mapping to the 'Dimension' column\n",
    "cleaned_df['Dimension'] = cleaned_df['Dimension'].replace(dimension_mapping)\n",
    "\n",
    "# Check the unique values in the column\n",
    "unique_values = cleaned_df['Dimension'].unique()\n",
    "print(unique_values)"
   ]
  },
  {
   "cell_type": "code",
   "execution_count": 13,
   "metadata": {},
   "outputs": [],
   "source": [
    "# Export cleaned_df as CSV file\n",
    "cleaned_df.to_csv(\"data/clean_data.csv\", index=False)"
   ]
  },
  {
   "cell_type": "markdown",
   "metadata": {},
   "source": [
    "## 4.0 Data normalization\n",
    "For each of the attributes and dimensions, we create dataframes by filtering the unique values and creating unique IDs for each.  These dataframes will be loaded into the database as tables for future use."
   ]
  },
  {
   "cell_type": "markdown",
   "metadata": {},
   "source": [
    "### 4.1 Attributes"
   ]
  },
  {
   "cell_type": "markdown",
   "metadata": {},
   "source": [
    "#### Country attribute"
   ]
  },
  {
   "cell_type": "code",
   "execution_count": 511,
   "metadata": {},
   "outputs": [
    {
     "name": "stdout",
     "output_type": "stream",
     "text": [
      "       Country ISO-3 Code                         Country\n",
      "1                     AFG                     Afghanistan\n",
      "1005                  ALB                         Albania\n",
      "1555                  DZA                         Algeria\n",
      "2600                  AGO                          Angola\n",
      "3164                  ARG                       Argentina\n",
      "...                   ...                             ...\n",
      "144521                VNM                        Viet Nam\n",
      "151646                YEM                           Yemen\n",
      "153070                ZMB                          Zambia\n",
      "154420                ZWE                        Zimbabwe\n",
      "156020                PSE  occupied Palestinian territory\n",
      "\n",
      "[154 rows x 2 columns]\n"
     ]
    }
   ],
   "source": [
    "# Create a new DataFrame with unique values from 'Country ISO-3 Code' and 'Country' columns\n",
    "country_df = cleaned_df[['Country ISO-3 Code', 'Country']].drop_duplicates()\n",
    "# Display the new DataFrame\n",
    "print(country_df)\n"
   ]
  },
  {
   "cell_type": "code",
   "execution_count": 512,
   "metadata": {},
   "outputs": [
    {
     "name": "stdout",
     "output_type": "stream",
     "text": [
      "[  1   2   3   4   5   6   7   8   9  10  11  12  13  14  15  16  17  18\n",
      "  19  20  21  22  23  24  25  26  27  28  29  30  31  32  33  34  35  36\n",
      "  37  38  39  40  41  42  43  44  45  46  47  48  49  50  51  52  53  54\n",
      "  55  56  57  58  59  60  61  62  63  64  65  66  67  68  69  70  71  72\n",
      "  73  74  75  76  77  78  79  80  81  82  83  84  85  86  87  88  89  90\n",
      "  91  92  93  94  95  96  97  98  99 100 101 102 103 104 105 106 107 108\n",
      " 109 110 111 112 113 114 115 116 117 118 119 120 121 122 123 124 125 126\n",
      " 127 128 129 130 131 132 133 134 135 136 137 138 139 140 141 142 143 144\n",
      " 145 146 147 148 149 150 151 152 153 154]\n"
     ]
    }
   ],
   "source": [
    "# Create numpy array for each of the countries\n",
    "country_ids = np.arange(1, len(country_df) + 1)\n",
    "print(country_ids)"
   ]
  },
  {
   "cell_type": "code",
   "execution_count": 513,
   "metadata": {},
   "outputs": [
    {
     "name": "stdout",
     "output_type": "stream",
     "text": [
      "['ctry1', 'ctry2', 'ctry3', 'ctry4', 'ctry5', 'ctry6', 'ctry7', 'ctry8', 'ctry9', 'ctry10', 'ctry11', 'ctry12', 'ctry13', 'ctry14', 'ctry15', 'ctry16', 'ctry17', 'ctry18', 'ctry19', 'ctry20', 'ctry21', 'ctry22', 'ctry23', 'ctry24', 'ctry25', 'ctry26', 'ctry27', 'ctry28', 'ctry29', 'ctry30', 'ctry31', 'ctry32', 'ctry33', 'ctry34', 'ctry35', 'ctry36', 'ctry37', 'ctry38', 'ctry39', 'ctry40', 'ctry41', 'ctry42', 'ctry43', 'ctry44', 'ctry45', 'ctry46', 'ctry47', 'ctry48', 'ctry49', 'ctry50', 'ctry51', 'ctry52', 'ctry53', 'ctry54', 'ctry55', 'ctry56', 'ctry57', 'ctry58', 'ctry59', 'ctry60', 'ctry61', 'ctry62', 'ctry63', 'ctry64', 'ctry65', 'ctry66', 'ctry67', 'ctry68', 'ctry69', 'ctry70', 'ctry71', 'ctry72', 'ctry73', 'ctry74', 'ctry75', 'ctry76', 'ctry77', 'ctry78', 'ctry79', 'ctry80', 'ctry81', 'ctry82', 'ctry83', 'ctry84', 'ctry85', 'ctry86', 'ctry87', 'ctry88', 'ctry89', 'ctry90', 'ctry91', 'ctry92', 'ctry93', 'ctry94', 'ctry95', 'ctry96', 'ctry97', 'ctry98', 'ctry99', 'ctry100', 'ctry101', 'ctry102', 'ctry103', 'ctry104', 'ctry105', 'ctry106', 'ctry107', 'ctry108', 'ctry109', 'ctry110', 'ctry111', 'ctry112', 'ctry113', 'ctry114', 'ctry115', 'ctry116', 'ctry117', 'ctry118', 'ctry119', 'ctry120', 'ctry121', 'ctry122', 'ctry123', 'ctry124', 'ctry125', 'ctry126', 'ctry127', 'ctry128', 'ctry129', 'ctry130', 'ctry131', 'ctry132', 'ctry133', 'ctry134', 'ctry135', 'ctry136', 'ctry137', 'ctry138', 'ctry139', 'ctry140', 'ctry141', 'ctry142', 'ctry143', 'ctry144', 'ctry145', 'ctry146', 'ctry147', 'ctry148', 'ctry149', 'ctry150', 'ctry151', 'ctry152', 'ctry153', 'ctry154']\n"
     ]
    }
   ],
   "source": [
    "# Use a list comprehension to add \"ctry\" to each country_id.\n",
    "ctry_ids = [\"ctry\" + str(ctry_id) for ctry_id in country_ids]\n",
    "\n",
    "print(ctry_ids)"
   ]
  },
  {
   "cell_type": "code",
   "execution_count": 514,
   "metadata": {},
   "outputs": [
    {
     "name": "stdout",
     "output_type": "stream",
     "text": [
      "       Country ISO-3 Code                         Country Country ID\n",
      "1                     AFG                     Afghanistan      ctry1\n",
      "1005                  ALB                         Albania      ctry2\n",
      "1555                  DZA                         Algeria      ctry3\n",
      "2600                  AGO                          Angola      ctry4\n",
      "3164                  ARG                       Argentina      ctry5\n",
      "...                   ...                             ...        ...\n",
      "144521                VNM                        Viet Nam    ctry150\n",
      "151646                YEM                           Yemen    ctry151\n",
      "153070                ZMB                          Zambia    ctry152\n",
      "154420                ZWE                        Zimbabwe    ctry153\n",
      "156020                PSE  occupied Palestinian territory    ctry154\n",
      "\n",
      "[154 rows x 3 columns]\n"
     ]
    }
   ],
   "source": [
    "# Add the ctry_ids list as a new column\n",
    "country_df['Country ID'] = ctry_ids\n",
    "print(country_df)"
   ]
  },
  {
   "cell_type": "code",
   "execution_count": 515,
   "metadata": {},
   "outputs": [
    {
     "data": {
      "text/html": [
       "<div>\n",
       "<style scoped>\n",
       "    .dataframe tbody tr th:only-of-type {\n",
       "        vertical-align: middle;\n",
       "    }\n",
       "\n",
       "    .dataframe tbody tr th {\n",
       "        vertical-align: top;\n",
       "    }\n",
       "\n",
       "    .dataframe thead th {\n",
       "        text-align: right;\n",
       "    }\n",
       "</style>\n",
       "<table border=\"1\" class=\"dataframe\">\n",
       "  <thead>\n",
       "    <tr style=\"text-align: right;\">\n",
       "      <th></th>\n",
       "      <th>Country ID</th>\n",
       "      <th>Country ISO-3 Code</th>\n",
       "      <th>Country</th>\n",
       "    </tr>\n",
       "  </thead>\n",
       "  <tbody>\n",
       "    <tr>\n",
       "      <th>1</th>\n",
       "      <td>ctry1</td>\n",
       "      <td>AFG</td>\n",
       "      <td>Afghanistan</td>\n",
       "    </tr>\n",
       "    <tr>\n",
       "      <th>1005</th>\n",
       "      <td>ctry2</td>\n",
       "      <td>ALB</td>\n",
       "      <td>Albania</td>\n",
       "    </tr>\n",
       "    <tr>\n",
       "      <th>1555</th>\n",
       "      <td>ctry3</td>\n",
       "      <td>DZA</td>\n",
       "      <td>Algeria</td>\n",
       "    </tr>\n",
       "    <tr>\n",
       "      <th>2600</th>\n",
       "      <td>ctry4</td>\n",
       "      <td>AGO</td>\n",
       "      <td>Angola</td>\n",
       "    </tr>\n",
       "    <tr>\n",
       "      <th>3164</th>\n",
       "      <td>ctry5</td>\n",
       "      <td>ARG</td>\n",
       "      <td>Argentina</td>\n",
       "    </tr>\n",
       "    <tr>\n",
       "      <th>...</th>\n",
       "      <td>...</td>\n",
       "      <td>...</td>\n",
       "      <td>...</td>\n",
       "    </tr>\n",
       "    <tr>\n",
       "      <th>144521</th>\n",
       "      <td>ctry150</td>\n",
       "      <td>VNM</td>\n",
       "      <td>Viet Nam</td>\n",
       "    </tr>\n",
       "    <tr>\n",
       "      <th>151646</th>\n",
       "      <td>ctry151</td>\n",
       "      <td>YEM</td>\n",
       "      <td>Yemen</td>\n",
       "    </tr>\n",
       "    <tr>\n",
       "      <th>153070</th>\n",
       "      <td>ctry152</td>\n",
       "      <td>ZMB</td>\n",
       "      <td>Zambia</td>\n",
       "    </tr>\n",
       "    <tr>\n",
       "      <th>154420</th>\n",
       "      <td>ctry153</td>\n",
       "      <td>ZWE</td>\n",
       "      <td>Zimbabwe</td>\n",
       "    </tr>\n",
       "    <tr>\n",
       "      <th>156020</th>\n",
       "      <td>ctry154</td>\n",
       "      <td>PSE</td>\n",
       "      <td>occupied Palestinian territory</td>\n",
       "    </tr>\n",
       "  </tbody>\n",
       "</table>\n",
       "<p>154 rows × 3 columns</p>\n",
       "</div>"
      ],
      "text/plain": [
       "       Country ID Country ISO-3 Code                         Country\n",
       "1           ctry1                AFG                     Afghanistan\n",
       "1005        ctry2                ALB                         Albania\n",
       "1555        ctry3                DZA                         Algeria\n",
       "2600        ctry4                AGO                          Angola\n",
       "3164        ctry5                ARG                       Argentina\n",
       "...           ...                ...                             ...\n",
       "144521    ctry150                VNM                        Viet Nam\n",
       "151646    ctry151                YEM                           Yemen\n",
       "153070    ctry152                ZMB                          Zambia\n",
       "154420    ctry153                ZWE                        Zimbabwe\n",
       "156020    ctry154                PSE  occupied Palestinian territory\n",
       "\n",
       "[154 rows x 3 columns]"
      ]
     },
     "execution_count": 515,
     "metadata": {},
     "output_type": "execute_result"
    }
   ],
   "source": [
    "# Reorder the columns so that 'Country ID' is first\n",
    "country_df = country_df[['Country ID', 'Country ISO-3 Code', 'Country']]\n",
    "\n",
    "# Display the updated DataFrame\n",
    "country_df"
   ]
  },
  {
   "cell_type": "markdown",
   "metadata": {},
   "source": [
    "#### Indicator attribute"
   ]
  },
  {
   "cell_type": "code",
   "execution_count": 30,
   "metadata": {},
   "outputs": [
    {
     "name": "stdout",
     "output_type": "stream",
     "text": [
      "   Anthropometric Indicator\n",
      "1                Overweight\n",
      "21                 Stunting\n",
      "41              Underweight\n",
      "61                  Wasting\n",
      "81           Wasting Severe\n"
     ]
    }
   ],
   "source": [
    "# Create a new DataFrame with unique values from 'Anthropometric Indicator' and 'Indicator Description' columns\n",
    "indicator_df = cleaned_df[['Anthropometric Indicator']].drop_duplicates()\n",
    "\n",
    "# Display the new DataFrame\n",
    "print(indicator_df)"
   ]
  },
  {
   "cell_type": "code",
   "execution_count": 518,
   "metadata": {},
   "outputs": [
    {
     "name": "stdout",
     "output_type": "stream",
     "text": [
      "[1 2 3 4 5]\n"
     ]
    }
   ],
   "source": [
    "# Create numpy array for each of the indicators\n",
    "indicator_ids = np.arange(1, len(indicator_df) + 1)\n",
    "print(indicator_ids)"
   ]
  },
  {
   "cell_type": "code",
   "execution_count": 519,
   "metadata": {},
   "outputs": [
    {
     "name": "stdout",
     "output_type": "stream",
     "text": [
      "['ind1', 'ind2', 'ind3', 'ind4', 'ind5']\n"
     ]
    }
   ],
   "source": [
    "# Use a list comprehension to add \"ind\" to each ind_id.\n",
    "ind_ids = [\"ind\" + str(ind_id) for ind_id in indicator_ids]\n",
    "\n",
    "print(ind_ids)"
   ]
  },
  {
   "cell_type": "code",
   "execution_count": 520,
   "metadata": {},
   "outputs": [
    {
     "name": "stdout",
     "output_type": "stream",
     "text": [
      "   Anthropometric Indicator Indicator ID\n",
      "1                Overweight         ind1\n",
      "21                 Stunting         ind2\n",
      "41              Underweight         ind3\n",
      "61                  Wasting         ind4\n",
      "81           Wasting Severe         ind5\n"
     ]
    }
   ],
   "source": [
    "# Add the ind_ids list as a new column\n",
    "indicator_df['Indicator ID'] = ind_ids\n",
    "\n",
    "print(indicator_df)"
   ]
  },
  {
   "cell_type": "code",
   "execution_count": 521,
   "metadata": {},
   "outputs": [
    {
     "data": {
      "text/html": [
       "<div>\n",
       "<style scoped>\n",
       "    .dataframe tbody tr th:only-of-type {\n",
       "        vertical-align: middle;\n",
       "    }\n",
       "\n",
       "    .dataframe tbody tr th {\n",
       "        vertical-align: top;\n",
       "    }\n",
       "\n",
       "    .dataframe thead th {\n",
       "        text-align: right;\n",
       "    }\n",
       "</style>\n",
       "<table border=\"1\" class=\"dataframe\">\n",
       "  <thead>\n",
       "    <tr style=\"text-align: right;\">\n",
       "      <th></th>\n",
       "      <th>Indicator ID</th>\n",
       "      <th>Anthropometric Indicator</th>\n",
       "    </tr>\n",
       "  </thead>\n",
       "  <tbody>\n",
       "    <tr>\n",
       "      <th>1</th>\n",
       "      <td>ind1</td>\n",
       "      <td>Overweight</td>\n",
       "    </tr>\n",
       "    <tr>\n",
       "      <th>21</th>\n",
       "      <td>ind2</td>\n",
       "      <td>Stunting</td>\n",
       "    </tr>\n",
       "    <tr>\n",
       "      <th>41</th>\n",
       "      <td>ind3</td>\n",
       "      <td>Underweight</td>\n",
       "    </tr>\n",
       "    <tr>\n",
       "      <th>61</th>\n",
       "      <td>ind4</td>\n",
       "      <td>Wasting</td>\n",
       "    </tr>\n",
       "    <tr>\n",
       "      <th>81</th>\n",
       "      <td>ind5</td>\n",
       "      <td>Wasting Severe</td>\n",
       "    </tr>\n",
       "  </tbody>\n",
       "</table>\n",
       "</div>"
      ],
      "text/plain": [
       "   Indicator ID Anthropometric Indicator\n",
       "1          ind1               Overweight\n",
       "21         ind2                 Stunting\n",
       "41         ind3              Underweight\n",
       "61         ind4                  Wasting\n",
       "81         ind5           Wasting Severe"
      ]
     },
     "execution_count": 521,
     "metadata": {},
     "output_type": "execute_result"
    }
   ],
   "source": [
    "# Reorder the columns so that 'Indicator ID' is first\n",
    "indicator_df = indicator_df[['Indicator ID', 'Anthropometric Indicator']]\n",
    "\n",
    "# Display the updated DataFrame\n",
    "indicator_df"
   ]
  },
  {
   "cell_type": "markdown",
   "metadata": {},
   "source": [
    "#### Region attribute"
   ]
  },
  {
   "cell_type": "code",
   "execution_count": 535,
   "metadata": {},
   "outputs": [
    {
     "name": "stdout",
     "output_type": "stream",
     "text": [
      "                     Region\n",
      "1     Eastern Mediterranean\n",
      "1005               European\n",
      "1555                African\n",
      "3164               Americas\n",
      "4525        Western Pacific\n",
      "5308        South-East Asia\n"
     ]
    }
   ],
   "source": [
    "# Create a new DataFrame with unique values from the 'Region' column\n",
    "region_df = cleaned_df[['Region']].drop_duplicates()\n",
    "\n",
    "# Display the new DataFrame\n",
    "print(region_df)"
   ]
  },
  {
   "cell_type": "code",
   "execution_count": 536,
   "metadata": {},
   "outputs": [
    {
     "name": "stdout",
     "output_type": "stream",
     "text": [
      "[1 2 3 4 5 6]\n"
     ]
    }
   ],
   "source": [
    "# Create numpy array for each of the regions\n",
    "region_ids = np.arange(1, len(region_df) + 1)\n",
    "print(region_ids)"
   ]
  },
  {
   "cell_type": "code",
   "execution_count": 537,
   "metadata": {},
   "outputs": [
    {
     "name": "stdout",
     "output_type": "stream",
     "text": [
      "['reg1', 'reg2', 'reg3', 'reg4', 'reg5', 'reg6']\n"
     ]
    }
   ],
   "source": [
    "# Use a list comprehension to add \"reg\" to each region_ids.\n",
    "reg_ids = [\"reg\" + str(reg_id) for reg_id in region_ids]\n",
    "\n",
    "print(reg_ids)"
   ]
  },
  {
   "cell_type": "code",
   "execution_count": 538,
   "metadata": {},
   "outputs": [
    {
     "name": "stdout",
     "output_type": "stream",
     "text": [
      "                     Region Region ID\n",
      "1     Eastern Mediterranean      reg1\n",
      "1005               European      reg2\n",
      "1555                African      reg3\n",
      "3164               Americas      reg4\n",
      "4525        Western Pacific      reg5\n",
      "5308        South-East Asia      reg6\n"
     ]
    }
   ],
   "source": [
    "# Add the reg_ids list as a new column\n",
    "region_df['Region ID'] = reg_ids\n",
    "\n",
    "print(region_df)"
   ]
  },
  {
   "cell_type": "code",
   "execution_count": 539,
   "metadata": {},
   "outputs": [
    {
     "data": {
      "text/html": [
       "<div>\n",
       "<style scoped>\n",
       "    .dataframe tbody tr th:only-of-type {\n",
       "        vertical-align: middle;\n",
       "    }\n",
       "\n",
       "    .dataframe tbody tr th {\n",
       "        vertical-align: top;\n",
       "    }\n",
       "\n",
       "    .dataframe thead th {\n",
       "        text-align: right;\n",
       "    }\n",
       "</style>\n",
       "<table border=\"1\" class=\"dataframe\">\n",
       "  <thead>\n",
       "    <tr style=\"text-align: right;\">\n",
       "      <th></th>\n",
       "      <th>Region ID</th>\n",
       "      <th>Region</th>\n",
       "    </tr>\n",
       "  </thead>\n",
       "  <tbody>\n",
       "    <tr>\n",
       "      <th>1</th>\n",
       "      <td>reg1</td>\n",
       "      <td>Eastern Mediterranean</td>\n",
       "    </tr>\n",
       "    <tr>\n",
       "      <th>1005</th>\n",
       "      <td>reg2</td>\n",
       "      <td>European</td>\n",
       "    </tr>\n",
       "    <tr>\n",
       "      <th>1555</th>\n",
       "      <td>reg3</td>\n",
       "      <td>African</td>\n",
       "    </tr>\n",
       "    <tr>\n",
       "      <th>3164</th>\n",
       "      <td>reg4</td>\n",
       "      <td>Americas</td>\n",
       "    </tr>\n",
       "    <tr>\n",
       "      <th>4525</th>\n",
       "      <td>reg5</td>\n",
       "      <td>Western Pacific</td>\n",
       "    </tr>\n",
       "    <tr>\n",
       "      <th>5308</th>\n",
       "      <td>reg6</td>\n",
       "      <td>South-East Asia</td>\n",
       "    </tr>\n",
       "  </tbody>\n",
       "</table>\n",
       "</div>"
      ],
      "text/plain": [
       "     Region ID                 Region\n",
       "1         reg1  Eastern Mediterranean\n",
       "1005      reg2               European\n",
       "1555      reg3                African\n",
       "3164      reg4               Americas\n",
       "4525      reg5        Western Pacific\n",
       "5308      reg6        South-East Asia"
      ]
     },
     "execution_count": 539,
     "metadata": {},
     "output_type": "execute_result"
    }
   ],
   "source": [
    "# Reorder the columns so that 'Region ID' is first\n",
    "region_df = region_df[['Region ID', 'Region']]\n",
    "\n",
    "# Display the updated DataFrame\n",
    "region_df"
   ]
  },
  {
   "cell_type": "markdown",
   "metadata": {},
   "source": [
    "### 4.2 Dimensions"
   ]
  },
  {
   "cell_type": "markdown",
   "metadata": {},
   "source": [
    "#### General"
   ]
  },
  {
   "cell_type": "code",
   "execution_count": 523,
   "metadata": {},
   "outputs": [
    {
     "name": "stdout",
     "output_type": "stream",
     "text": [
      "                             Dimension\n",
      "1                         Age (months)\n",
      "6                                  Sex\n",
      "106                 Place of residence\n",
      "386  Economic status (wealth quintile)\n",
      "391                 Education (mother)\n"
     ]
    }
   ],
   "source": [
    "# Create a new DataFrame with unique values from the 'Dimension' column\n",
    "dimension_df = cleaned_df[['Dimension']].drop_duplicates()\n",
    "\n",
    "# Display the new DataFrame\n",
    "print(dimension_df)"
   ]
  },
  {
   "cell_type": "code",
   "execution_count": 524,
   "metadata": {},
   "outputs": [
    {
     "name": "stdout",
     "output_type": "stream",
     "text": [
      "[1 2 3 4 5]\n"
     ]
    }
   ],
   "source": [
    "# Create numpy array for each of the Dimensions\n",
    "dimension_ids = np.arange(1, len(dimension_df) + 1)\n",
    "print(dimension_ids)"
   ]
  },
  {
   "cell_type": "code",
   "execution_count": 525,
   "metadata": {},
   "outputs": [
    {
     "name": "stdout",
     "output_type": "stream",
     "text": [
      "['dim1', 'dim2', 'dim3', 'dim4', 'dim5']\n"
     ]
    }
   ],
   "source": [
    "# Use a list comprehension to add \"dim\" to each dimension_id.\n",
    "dim_ids = [\"dim\" + str(dim_id) for dim_id in dimension_ids]\n",
    "\n",
    "print(dim_ids)"
   ]
  },
  {
   "cell_type": "code",
   "execution_count": 526,
   "metadata": {},
   "outputs": [
    {
     "name": "stdout",
     "output_type": "stream",
     "text": [
      "                             Dimension Dimension ID\n",
      "1                         Age (months)         dim1\n",
      "6                                  Sex         dim2\n",
      "106                 Place of residence         dim3\n",
      "386  Economic status (wealth quintile)         dim4\n",
      "391                 Education (mother)         dim5\n"
     ]
    }
   ],
   "source": [
    "# Add the dimension_ids list as a new column\n",
    "dimension_df['Dimension ID'] = dim_ids\n",
    "\n",
    "print(dimension_df)"
   ]
  },
  {
   "cell_type": "code",
   "execution_count": 527,
   "metadata": {},
   "outputs": [
    {
     "data": {
      "text/html": [
       "<div>\n",
       "<style scoped>\n",
       "    .dataframe tbody tr th:only-of-type {\n",
       "        vertical-align: middle;\n",
       "    }\n",
       "\n",
       "    .dataframe tbody tr th {\n",
       "        vertical-align: top;\n",
       "    }\n",
       "\n",
       "    .dataframe thead th {\n",
       "        text-align: right;\n",
       "    }\n",
       "</style>\n",
       "<table border=\"1\" class=\"dataframe\">\n",
       "  <thead>\n",
       "    <tr style=\"text-align: right;\">\n",
       "      <th></th>\n",
       "      <th>Dimension ID</th>\n",
       "      <th>Dimension</th>\n",
       "    </tr>\n",
       "  </thead>\n",
       "  <tbody>\n",
       "    <tr>\n",
       "      <th>1</th>\n",
       "      <td>dim1</td>\n",
       "      <td>Age (months)</td>\n",
       "    </tr>\n",
       "    <tr>\n",
       "      <th>6</th>\n",
       "      <td>dim2</td>\n",
       "      <td>Sex</td>\n",
       "    </tr>\n",
       "    <tr>\n",
       "      <th>106</th>\n",
       "      <td>dim3</td>\n",
       "      <td>Place of residence</td>\n",
       "    </tr>\n",
       "    <tr>\n",
       "      <th>386</th>\n",
       "      <td>dim4</td>\n",
       "      <td>Economic status (wealth quintile)</td>\n",
       "    </tr>\n",
       "    <tr>\n",
       "      <th>391</th>\n",
       "      <td>dim5</td>\n",
       "      <td>Education (mother)</td>\n",
       "    </tr>\n",
       "  </tbody>\n",
       "</table>\n",
       "</div>"
      ],
      "text/plain": [
       "    Dimension ID                          Dimension\n",
       "1           dim1                       Age (months)\n",
       "6           dim2                                Sex\n",
       "106         dim3                 Place of residence\n",
       "386         dim4  Economic status (wealth quintile)\n",
       "391         dim5                 Education (mother)"
      ]
     },
     "execution_count": 527,
     "metadata": {},
     "output_type": "execute_result"
    }
   ],
   "source": [
    "# Reorder the columns so that 'Dimension ID' is first, then 'Dimension'\n",
    "dimension_df = dimension_df[['Dimension ID', 'Dimension']]\n",
    "\n",
    "# Display the updated DataFrame\n",
    "dimension_df"
   ]
  },
  {
   "cell_type": "markdown",
   "metadata": {},
   "source": [
    "#### Age"
   ]
  },
  {
   "cell_type": "code",
   "execution_count": 599,
   "metadata": {},
   "outputs": [
    {
     "name": "stdout",
     "output_type": "stream",
     "text": [
      "    Dimension Value\n",
      "1      12-23 months\n",
      "2      24-35 months\n",
      "3      36-47 months\n",
      "4      48-59 months\n",
      "5       6-11 months\n",
      "100      0-5 months\n"
     ]
    }
   ],
   "source": [
    "# Step 1: Filter cleaned_df where Dimension is 'Age (months)'\n",
    "age_group_df = cleaned_df[cleaned_df['Dimension'] == 'Age (months)']\n",
    "\n",
    "# Step 2: Remove duplicates based on the 'Dimension Value' column\n",
    "age_df = age_group_df[['Dimension Value']].drop_duplicates()\n",
    "\n",
    "# Display the new DataFrame\n",
    "print(age_df)\n"
   ]
  },
  {
   "cell_type": "code",
   "execution_count": 600,
   "metadata": {},
   "outputs": [
    {
     "name": "stdout",
     "output_type": "stream",
     "text": [
      "[1 2 3 4 5 6]\n"
     ]
    }
   ],
   "source": [
    "# Create numpy array for each of the age dimension values\n",
    "age_ids = np.arange(1, len(age_df) + 1)\n",
    "print(age_ids)"
   ]
  },
  {
   "cell_type": "code",
   "execution_count": 601,
   "metadata": {},
   "outputs": [
    {
     "name": "stdout",
     "output_type": "stream",
     "text": [
      "['ageval1', 'ageval2', 'ageval3', 'ageval4', 'ageval5', 'ageval6']\n"
     ]
    }
   ],
   "source": [
    "# Use a list comprehension to add \"ageval\" to each age value ID.\n",
    "ageval_ids = [\"ageval\" + str(ageval_id) for ageval_id in age_ids]\n",
    "\n",
    "print(ageval_ids)"
   ]
  },
  {
   "cell_type": "code",
   "execution_count": 602,
   "metadata": {},
   "outputs": [
    {
     "name": "stdout",
     "output_type": "stream",
     "text": [
      "    Dimension Value   Age ID\n",
      "1      12-23 months  ageval1\n",
      "2      24-35 months  ageval2\n",
      "3      36-47 months  ageval3\n",
      "4      48-59 months  ageval4\n",
      "5       6-11 months  ageval5\n",
      "100      0-5 months  ageval6\n"
     ]
    }
   ],
   "source": [
    "# Add the ageval_ids list as a new column\n",
    "age_df['Age ID'] = ageval_ids\n",
    "\n",
    "print(age_df)"
   ]
  },
  {
   "cell_type": "code",
   "execution_count": 604,
   "metadata": {},
   "outputs": [
    {
     "data": {
      "text/html": [
       "<div>\n",
       "<style scoped>\n",
       "    .dataframe tbody tr th:only-of-type {\n",
       "        vertical-align: middle;\n",
       "    }\n",
       "\n",
       "    .dataframe tbody tr th {\n",
       "        vertical-align: top;\n",
       "    }\n",
       "\n",
       "    .dataframe thead th {\n",
       "        text-align: right;\n",
       "    }\n",
       "</style>\n",
       "<table border=\"1\" class=\"dataframe\">\n",
       "  <thead>\n",
       "    <tr style=\"text-align: right;\">\n",
       "      <th></th>\n",
       "      <th>Age ID</th>\n",
       "      <th>Dimension Value</th>\n",
       "    </tr>\n",
       "  </thead>\n",
       "  <tbody>\n",
       "    <tr>\n",
       "      <th>1</th>\n",
       "      <td>ageval1</td>\n",
       "      <td>12-23 months</td>\n",
       "    </tr>\n",
       "    <tr>\n",
       "      <th>2</th>\n",
       "      <td>ageval2</td>\n",
       "      <td>24-35 months</td>\n",
       "    </tr>\n",
       "    <tr>\n",
       "      <th>3</th>\n",
       "      <td>ageval3</td>\n",
       "      <td>36-47 months</td>\n",
       "    </tr>\n",
       "    <tr>\n",
       "      <th>4</th>\n",
       "      <td>ageval4</td>\n",
       "      <td>48-59 months</td>\n",
       "    </tr>\n",
       "    <tr>\n",
       "      <th>5</th>\n",
       "      <td>ageval5</td>\n",
       "      <td>6-11 months</td>\n",
       "    </tr>\n",
       "    <tr>\n",
       "      <th>100</th>\n",
       "      <td>ageval6</td>\n",
       "      <td>0-5 months</td>\n",
       "    </tr>\n",
       "  </tbody>\n",
       "</table>\n",
       "</div>"
      ],
      "text/plain": [
       "      Age ID Dimension Value\n",
       "1    ageval1    12-23 months\n",
       "2    ageval2    24-35 months\n",
       "3    ageval3    36-47 months\n",
       "4    ageval4    48-59 months\n",
       "5    ageval5     6-11 months\n",
       "100  ageval6      0-5 months"
      ]
     },
     "execution_count": 604,
     "metadata": {},
     "output_type": "execute_result"
    }
   ],
   "source": [
    "# Reorder the columns so that 'Age ID' is first\n",
    "age_df = age_df[['Age ID', 'Dimension Value']]\n",
    "\n",
    "# Display the updated DataFrame\n",
    "age_df"
   ]
  },
  {
   "cell_type": "markdown",
   "metadata": {},
   "source": [
    "#### Sex"
   ]
  },
  {
   "cell_type": "code",
   "execution_count": 606,
   "metadata": {},
   "outputs": [
    {
     "name": "stdout",
     "output_type": "stream",
     "text": [
      "  Dimension Value\n",
      "6          Female\n",
      "7            Male\n"
     ]
    }
   ],
   "source": [
    "# Step 1: Filter cleaned_df where Dimension is 'Sex'\n",
    "sex_group_df = cleaned_df[cleaned_df['Dimension'] == 'Sex']\n",
    "\n",
    "# Step 2: Remove duplicates based on the 'Dimension Value' column\n",
    "sex_df = sex_group_df[['Dimension Value']].drop_duplicates()\n",
    "\n",
    "# Display the new DataFrame\n",
    "print(sex_df)\n"
   ]
  },
  {
   "cell_type": "code",
   "execution_count": 610,
   "metadata": {},
   "outputs": [
    {
     "name": "stdout",
     "output_type": "stream",
     "text": [
      "[1 2]\n"
     ]
    }
   ],
   "source": [
    "# Create numpy array for each of the dimension values\n",
    "sex_ids = np.arange(1, len(sex_df) + 1)\n",
    "print(sex_ids)"
   ]
  },
  {
   "cell_type": "code",
   "execution_count": 612,
   "metadata": {},
   "outputs": [
    {
     "name": "stdout",
     "output_type": "stream",
     "text": [
      "['sex1', 'sex2']\n"
     ]
    }
   ],
   "source": [
    "# Use a list comprehension to add \"sex\" to each sex ID.\n",
    "sex_ids = [\"sex\" + str(sex_id) for sex_id in sex_ids]\n",
    "\n",
    "print(sex_ids)"
   ]
  },
  {
   "cell_type": "code",
   "execution_count": 613,
   "metadata": {},
   "outputs": [
    {
     "name": "stdout",
     "output_type": "stream",
     "text": [
      "  Dimension Value Sex ID\n",
      "6          Female   sex1\n",
      "7            Male   sex2\n"
     ]
    }
   ],
   "source": [
    "# Add the sex_ids list as a new column\n",
    "sex_df['Sex ID'] = sex_ids\n",
    "\n",
    "print(sex_df)"
   ]
  },
  {
   "cell_type": "code",
   "execution_count": 614,
   "metadata": {},
   "outputs": [
    {
     "data": {
      "text/html": [
       "<div>\n",
       "<style scoped>\n",
       "    .dataframe tbody tr th:only-of-type {\n",
       "        vertical-align: middle;\n",
       "    }\n",
       "\n",
       "    .dataframe tbody tr th {\n",
       "        vertical-align: top;\n",
       "    }\n",
       "\n",
       "    .dataframe thead th {\n",
       "        text-align: right;\n",
       "    }\n",
       "</style>\n",
       "<table border=\"1\" class=\"dataframe\">\n",
       "  <thead>\n",
       "    <tr style=\"text-align: right;\">\n",
       "      <th></th>\n",
       "      <th>Sex ID</th>\n",
       "      <th>Dimension Value</th>\n",
       "    </tr>\n",
       "  </thead>\n",
       "  <tbody>\n",
       "    <tr>\n",
       "      <th>6</th>\n",
       "      <td>sex1</td>\n",
       "      <td>Female</td>\n",
       "    </tr>\n",
       "    <tr>\n",
       "      <th>7</th>\n",
       "      <td>sex2</td>\n",
       "      <td>Male</td>\n",
       "    </tr>\n",
       "  </tbody>\n",
       "</table>\n",
       "</div>"
      ],
      "text/plain": [
       "  Sex ID Dimension Value\n",
       "6   sex1          Female\n",
       "7   sex2            Male"
      ]
     },
     "execution_count": 614,
     "metadata": {},
     "output_type": "execute_result"
    }
   ],
   "source": [
    "# Reorder the columns so that 'Sex ID' is first\n",
    "sex_df = sex_df[['Sex ID', 'Dimension Value']]\n",
    "\n",
    "# Display the updated DataFrame\n",
    "sex_df"
   ]
  },
  {
   "cell_type": "markdown",
   "metadata": {},
   "source": [
    "#### Place of residence"
   ]
  },
  {
   "cell_type": "code",
   "execution_count": 607,
   "metadata": {},
   "outputs": [
    {
     "name": "stdout",
     "output_type": "stream",
     "text": [
      "    Dimension Value\n",
      "106           Rural\n",
      "107           Urban\n"
     ]
    }
   ],
   "source": [
    "# Step 1: Filter cleaned_df where Dimension is 'Place of residence'\n",
    "residence_group_df = cleaned_df[cleaned_df['Dimension'] == 'Place of residence']\n",
    "\n",
    "# Step 2: Remove duplicates based on the 'Dimension Value' column\n",
    "residence_df = residence_group_df[['Dimension Value']].drop_duplicates()\n",
    "\n",
    "# Display the new DataFrame\n",
    "print(residence_df)\n"
   ]
  },
  {
   "cell_type": "code",
   "execution_count": 616,
   "metadata": {},
   "outputs": [
    {
     "name": "stdout",
     "output_type": "stream",
     "text": [
      "[1 2]\n"
     ]
    }
   ],
   "source": [
    "# Create numpy array for each of the dimension values\n",
    "residence_ids = np.arange(1, len(residence_df) + 1)\n",
    "print(residence_ids)"
   ]
  },
  {
   "cell_type": "code",
   "execution_count": 617,
   "metadata": {},
   "outputs": [
    {
     "name": "stdout",
     "output_type": "stream",
     "text": [
      "['res1', 'res2']\n"
     ]
    }
   ],
   "source": [
    "# Use a list comprehension to add \"res\" to each residence ID.\n",
    "residence_ids = [\"res\" + str(residence_id) for residence_id in residence_ids]\n",
    "\n",
    "print(residence_ids)"
   ]
  },
  {
   "cell_type": "code",
   "execution_count": 618,
   "metadata": {},
   "outputs": [
    {
     "name": "stdout",
     "output_type": "stream",
     "text": [
      "    Dimension Value Residence ID\n",
      "106           Rural         res1\n",
      "107           Urban         res2\n"
     ]
    }
   ],
   "source": [
    "# Add the residence_ids list as a new column\n",
    "residence_df['Residence ID'] = residence_ids\n",
    "\n",
    "print(residence_df)"
   ]
  },
  {
   "cell_type": "code",
   "execution_count": 619,
   "metadata": {},
   "outputs": [
    {
     "data": {
      "text/html": [
       "<div>\n",
       "<style scoped>\n",
       "    .dataframe tbody tr th:only-of-type {\n",
       "        vertical-align: middle;\n",
       "    }\n",
       "\n",
       "    .dataframe tbody tr th {\n",
       "        vertical-align: top;\n",
       "    }\n",
       "\n",
       "    .dataframe thead th {\n",
       "        text-align: right;\n",
       "    }\n",
       "</style>\n",
       "<table border=\"1\" class=\"dataframe\">\n",
       "  <thead>\n",
       "    <tr style=\"text-align: right;\">\n",
       "      <th></th>\n",
       "      <th>Residence ID</th>\n",
       "      <th>Dimension Value</th>\n",
       "    </tr>\n",
       "  </thead>\n",
       "  <tbody>\n",
       "    <tr>\n",
       "      <th>106</th>\n",
       "      <td>res1</td>\n",
       "      <td>Rural</td>\n",
       "    </tr>\n",
       "    <tr>\n",
       "      <th>107</th>\n",
       "      <td>res2</td>\n",
       "      <td>Urban</td>\n",
       "    </tr>\n",
       "  </tbody>\n",
       "</table>\n",
       "</div>"
      ],
      "text/plain": [
       "    Residence ID Dimension Value\n",
       "106         res1           Rural\n",
       "107         res2           Urban"
      ]
     },
     "execution_count": 619,
     "metadata": {},
     "output_type": "execute_result"
    }
   ],
   "source": [
    "# Reorder the columns so that 'Residence ID' is first\n",
    "residence_df = residence_df[['Residence ID', 'Dimension Value']]\n",
    "\n",
    "# Display the updated DataFrame\n",
    "residence_df"
   ]
  },
  {
   "cell_type": "markdown",
   "metadata": {},
   "source": [
    "#### Economic status"
   ]
  },
  {
   "cell_type": "code",
   "execution_count": 608,
   "metadata": {},
   "outputs": [
    {
     "name": "stdout",
     "output_type": "stream",
     "text": [
      "          Dimension Value\n",
      "386  Quintile 1 (poorest)\n",
      "387            Quintile 2\n",
      "388            Quintile 3\n",
      "389            Quintile 4\n",
      "390  Quintile 5 (richest)\n"
     ]
    }
   ],
   "source": [
    "# Step 1: Filter cleaned_df where Dimension is 'Economic status (wealth quintile)'\n",
    "economic_status_group_df = cleaned_df[cleaned_df['Dimension'] == 'Economic status (wealth quintile)']\n",
    "\n",
    "# Step 2: Remove duplicates based on the 'Dimension Value' column\n",
    "economic_status_df = economic_status_group_df[['Dimension Value']].drop_duplicates()\n",
    "\n",
    "# Display the new DataFrame\n",
    "print(economic_status_df)\n"
   ]
  },
  {
   "cell_type": "code",
   "execution_count": 621,
   "metadata": {},
   "outputs": [
    {
     "name": "stdout",
     "output_type": "stream",
     "text": [
      "[1 2 3 4 5]\n"
     ]
    }
   ],
   "source": [
    "# Create numpy array for each of the dimension values\n",
    "economic_status_ids = np.arange(1, len(economic_status_df) + 1)\n",
    "print(economic_status_ids)"
   ]
  },
  {
   "cell_type": "code",
   "execution_count": 622,
   "metadata": {},
   "outputs": [
    {
     "name": "stdout",
     "output_type": "stream",
     "text": [
      "['econ1', 'econ2', 'econ3', 'econ4', 'econ5']\n"
     ]
    }
   ],
   "source": [
    "# Use a list comprehension to add \"econ\" to each economic status ID.\n",
    "economic_status_ids = [\"econ\" + str(economic_status_id) for economic_status_id in economic_status_ids]\n",
    "\n",
    "print(economic_status_ids)"
   ]
  },
  {
   "cell_type": "code",
   "execution_count": 623,
   "metadata": {},
   "outputs": [
    {
     "name": "stdout",
     "output_type": "stream",
     "text": [
      "          Dimension Value Economic Status ID\n",
      "386  Quintile 1 (poorest)              econ1\n",
      "387            Quintile 2              econ2\n",
      "388            Quintile 3              econ3\n",
      "389            Quintile 4              econ4\n",
      "390  Quintile 5 (richest)              econ5\n"
     ]
    }
   ],
   "source": [
    "# Add the economic_status_ids list as a new column\n",
    "economic_status_df['Economic Status ID'] = economic_status_ids\n",
    "\n",
    "print(economic_status_df)"
   ]
  },
  {
   "cell_type": "code",
   "execution_count": 624,
   "metadata": {},
   "outputs": [
    {
     "data": {
      "text/html": [
       "<div>\n",
       "<style scoped>\n",
       "    .dataframe tbody tr th:only-of-type {\n",
       "        vertical-align: middle;\n",
       "    }\n",
       "\n",
       "    .dataframe tbody tr th {\n",
       "        vertical-align: top;\n",
       "    }\n",
       "\n",
       "    .dataframe thead th {\n",
       "        text-align: right;\n",
       "    }\n",
       "</style>\n",
       "<table border=\"1\" class=\"dataframe\">\n",
       "  <thead>\n",
       "    <tr style=\"text-align: right;\">\n",
       "      <th></th>\n",
       "      <th>Economic Status ID</th>\n",
       "      <th>Dimension Value</th>\n",
       "    </tr>\n",
       "  </thead>\n",
       "  <tbody>\n",
       "    <tr>\n",
       "      <th>386</th>\n",
       "      <td>econ1</td>\n",
       "      <td>Quintile 1 (poorest)</td>\n",
       "    </tr>\n",
       "    <tr>\n",
       "      <th>387</th>\n",
       "      <td>econ2</td>\n",
       "      <td>Quintile 2</td>\n",
       "    </tr>\n",
       "    <tr>\n",
       "      <th>388</th>\n",
       "      <td>econ3</td>\n",
       "      <td>Quintile 3</td>\n",
       "    </tr>\n",
       "    <tr>\n",
       "      <th>389</th>\n",
       "      <td>econ4</td>\n",
       "      <td>Quintile 4</td>\n",
       "    </tr>\n",
       "    <tr>\n",
       "      <th>390</th>\n",
       "      <td>econ5</td>\n",
       "      <td>Quintile 5 (richest)</td>\n",
       "    </tr>\n",
       "  </tbody>\n",
       "</table>\n",
       "</div>"
      ],
      "text/plain": [
       "    Economic Status ID       Dimension Value\n",
       "386              econ1  Quintile 1 (poorest)\n",
       "387              econ2            Quintile 2\n",
       "388              econ3            Quintile 3\n",
       "389              econ4            Quintile 4\n",
       "390              econ5  Quintile 5 (richest)"
      ]
     },
     "execution_count": 624,
     "metadata": {},
     "output_type": "execute_result"
    }
   ],
   "source": [
    "# Reorder the columns so that 'ID' is first\n",
    "economic_status_df = economic_status_df[['Economic Status ID', 'Dimension Value']]\n",
    "\n",
    "# Display the updated DataFrame\n",
    "economic_status_df"
   ]
  },
  {
   "cell_type": "markdown",
   "metadata": {},
   "source": [
    "#### Education"
   ]
  },
  {
   "cell_type": "code",
   "execution_count": 32,
   "metadata": {},
   "outputs": [
    {
     "name": "stdout",
     "output_type": "stream",
     "text": [
      "                   Dimension Value\n",
      "391                   No education\n",
      "392              Primary education\n",
      "393  Secondary or higher education\n"
     ]
    }
   ],
   "source": [
    "# Step 1: Filter cleaned_df where Dimension is 'Education (mother)'\n",
    "education_group_df = cleaned_df[cleaned_df['Dimension'] == 'Education (mother)']\n",
    "\n",
    "# Step 2: Remove duplicates based on the 'Dimension Value' column\n",
    "education_df = education_group_df[['Dimension Value']].drop_duplicates()\n",
    "\n",
    "# Display the new DataFrame\n",
    "print(education_df)\n"
   ]
  },
  {
   "cell_type": "code",
   "execution_count": 33,
   "metadata": {},
   "outputs": [
    {
     "name": "stdout",
     "output_type": "stream",
     "text": [
      "[1 2 3]\n"
     ]
    }
   ],
   "source": [
    "# Create numpy array for each of the dimension values\n",
    "education_ids = np.arange(1, len(education_df) + 1)\n",
    "print(education_ids)"
   ]
  },
  {
   "cell_type": "code",
   "execution_count": 34,
   "metadata": {},
   "outputs": [
    {
     "name": "stdout",
     "output_type": "stream",
     "text": [
      "['edu1', 'edu2', 'edu3']\n"
     ]
    }
   ],
   "source": [
    "# Use a list comprehension to add \"edu\" to each education ID.\n",
    "education_ids = [\"edu\" + str(education_id) for education_id in education_ids]\n",
    "\n",
    "print(education_ids)"
   ]
  },
  {
   "cell_type": "code",
   "execution_count": 35,
   "metadata": {},
   "outputs": [
    {
     "name": "stdout",
     "output_type": "stream",
     "text": [
      "                   Dimension Value Education ID\n",
      "391                   No education         edu1\n",
      "392              Primary education         edu2\n",
      "393  Secondary or higher education         edu3\n"
     ]
    }
   ],
   "source": [
    "# Add the economic_status_ids list as a new column\n",
    "education_df['Education ID'] = education_ids\n",
    "\n",
    "print(education_df)"
   ]
  },
  {
   "cell_type": "code",
   "execution_count": 36,
   "metadata": {},
   "outputs": [
    {
     "data": {
      "text/html": [
       "<div>\n",
       "<style scoped>\n",
       "    .dataframe tbody tr th:only-of-type {\n",
       "        vertical-align: middle;\n",
       "    }\n",
       "\n",
       "    .dataframe tbody tr th {\n",
       "        vertical-align: top;\n",
       "    }\n",
       "\n",
       "    .dataframe thead th {\n",
       "        text-align: right;\n",
       "    }\n",
       "</style>\n",
       "<table border=\"1\" class=\"dataframe\">\n",
       "  <thead>\n",
       "    <tr style=\"text-align: right;\">\n",
       "      <th></th>\n",
       "      <th>Education ID</th>\n",
       "      <th>Dimension Value</th>\n",
       "    </tr>\n",
       "  </thead>\n",
       "  <tbody>\n",
       "    <tr>\n",
       "      <th>391</th>\n",
       "      <td>edu1</td>\n",
       "      <td>No education</td>\n",
       "    </tr>\n",
       "    <tr>\n",
       "      <th>392</th>\n",
       "      <td>edu2</td>\n",
       "      <td>Primary education</td>\n",
       "    </tr>\n",
       "    <tr>\n",
       "      <th>393</th>\n",
       "      <td>edu3</td>\n",
       "      <td>Secondary or higher education</td>\n",
       "    </tr>\n",
       "  </tbody>\n",
       "</table>\n",
       "</div>"
      ],
      "text/plain": [
       "    Education ID                Dimension Value\n",
       "391         edu1                   No education\n",
       "392         edu2              Primary education\n",
       "393         edu3  Secondary or higher education"
      ]
     },
     "execution_count": 36,
     "metadata": {},
     "output_type": "execute_result"
    }
   ],
   "source": [
    "# Reorder the columns so that 'ID' is first\n",
    "education_df = education_df[['Education ID', 'Dimension Value']]\n",
    "\n",
    "# Display the updated DataFrame\n",
    "education_df"
   ]
  },
  {
   "cell_type": "markdown",
   "metadata": {},
   "source": [
    "## 5.0 Data loading\n",
    "Load dataframes for the cleaned dataset, attributes, and dimensions into the SQLite database."
   ]
  },
  {
   "cell_type": "markdown",
   "metadata": {},
   "source": [
    "### 5.1 Establish connection to SQLite database"
   ]
  },
  {
   "cell_type": "code",
   "execution_count": 37,
   "metadata": {},
   "outputs": [
    {
     "name": "stdout",
     "output_type": "stream",
     "text": [
      "Connection to the database established successfully.\n"
     ]
    }
   ],
   "source": [
    "import sqlite3\n",
    "\n",
    "try:\n",
    "    # Establish a SQLite connection\n",
    "    conn = sqlite3.connect('data/malnutrition_data.db')\n",
    "    print(\"Connection to the database established successfully.\")\n",
    "except sqlite3.OperationalError as e:\n",
    "    print(f\"Operational error: {e}\")\n",
    "except sqlite3.DatabaseError as e:\n",
    "    print(f\"Database error: {e}\")\n",
    "except Exception as e:\n",
    "    print(f\"An unexpected error occurred: {e}\")"
   ]
  },
  {
   "cell_type": "markdown",
   "metadata": {},
   "source": [
    "### 5.2 Load clean data"
   ]
  },
  {
   "cell_type": "code",
   "execution_count": 15,
   "metadata": {},
   "outputs": [
    {
     "name": "stdout",
     "output_type": "stream",
     "text": [
      "Data saved to the database successfully.\n",
      "Data retrieved from the database successfully.\n",
      "                  Region Country ISO-3 Code      Country  Year     Dimension  \\\n",
      "0  Eastern Mediterranean                AFG  Afghanistan  2004  Age (months)   \n",
      "1  Eastern Mediterranean                AFG  Afghanistan  2004  Age (months)   \n",
      "2  Eastern Mediterranean                AFG  Afghanistan  2004  Age (months)   \n",
      "3  Eastern Mediterranean                AFG  Afghanistan  2004  Age (months)   \n",
      "4  Eastern Mediterranean                AFG  Afghanistan  2004  Age (months)   \n",
      "\n",
      "  Dimension Value  Dimension Value Order Anthropometric Indicator  \\\n",
      "0    12-23 months                      3               Overweight   \n",
      "1    24-35 months                      4               Overweight   \n",
      "2    36-47 months                      5               Overweight   \n",
      "3    48-59 months                      6               Overweight   \n",
      "4     6-11 months                      2               Overweight   \n",
      "\n",
      "   Prevalence Estimate %  Weighted Sample Size  Country Avg  \n",
      "0                    4.3                 189.0          4.6  \n",
      "1                    3.0                 182.0          4.6  \n",
      "2                    5.6                 227.0          4.6  \n",
      "3                    6.4                 241.0          4.6  \n",
      "4                    1.9                 107.0          4.6  \n"
     ]
    }
   ],
   "source": [
    "try:\n",
    "    # Save the cleaned dataset dataframe to the SQLite database\n",
    "    cleaned_df.to_sql('clean_data', conn, if_exists='replace', index=False)\n",
    "    print(\"Data saved to the database successfully.\")\n",
    "\n",
    "    # Query to ensure the data was stored correctly\n",
    "    df_from_db = pd.read_sql('SELECT * FROM clean_data', conn)\n",
    "    print(\"Data retrieved from the database successfully.\")\n",
    "    print(df_from_db.head())\n",
    "except ValueError as e:\n",
    "    print(f\"Value error: {e}\")\n",
    "except sqlite3.DatabaseError as e:\n",
    "    print(f\"Database error: {e}\")\n",
    "except Exception as e:\n",
    "    print(f\"An unexpected error occurred: {e}\")"
   ]
  },
  {
   "cell_type": "markdown",
   "metadata": {},
   "source": [
    "### 5.3 Load attributes"
   ]
  },
  {
   "cell_type": "code",
   "execution_count": 660,
   "metadata": {},
   "outputs": [
    {
     "name": "stdout",
     "output_type": "stream",
     "text": [
      "Data saved to the database successfully.\n",
      "Data retrieved from the database successfully.\n",
      "  Country ID Country ISO-3 Code      Country\n",
      "0      ctry1                AFG  Afghanistan\n",
      "1      ctry2                ALB      Albania\n",
      "2      ctry3                DZA      Algeria\n",
      "3      ctry4                AGO       Angola\n",
      "4      ctry5                ARG    Argentina\n"
     ]
    }
   ],
   "source": [
    "try:\n",
    "    # Save the country dataframe to the SQLite database\n",
    "    country_df.to_sql('country', conn, if_exists='replace', index=False)\n",
    "    print(\"Data saved to the database successfully.\")\n",
    "\n",
    "    # Query to ensure the data was stored correctly\n",
    "    df_from_db = pd.read_sql('SELECT * FROM country', conn)\n",
    "    print(\"Data retrieved from the database successfully.\")\n",
    "    print(df_from_db.head())\n",
    "except ValueError as e:\n",
    "    print(f\"Value error: {e}\")\n",
    "except sqlite3.DatabaseError as e:\n",
    "    print(f\"Database error: {e}\")\n",
    "except Exception as e:\n",
    "    print(f\"An unexpected error occurred: {e}\")"
   ]
  },
  {
   "cell_type": "code",
   "execution_count": 661,
   "metadata": {},
   "outputs": [
    {
     "name": "stdout",
     "output_type": "stream",
     "text": [
      "Data saved to the database successfully.\n",
      "Data retrieved from the database successfully.\n",
      "  Indicator ID Anthropometric Indicator\n",
      "0         ind1               Overweight\n",
      "1         ind2                 Stunting\n",
      "2         ind3              Underweight\n",
      "3         ind4                  Wasting\n",
      "4         ind5           Wasting Severe\n"
     ]
    }
   ],
   "source": [
    "try:\n",
    "    # Save the indicator dataset dataframe to the SQLite database\n",
    "    indicator_df.to_sql('indicator', conn, if_exists='replace', index=False)\n",
    "    print(\"Data saved to the database successfully.\")\n",
    "\n",
    "    # Query to ensure the data was stored correctly\n",
    "    df_from_db = pd.read_sql('SELECT * FROM indicator', conn)\n",
    "    print(\"Data retrieved from the database successfully.\")\n",
    "    print(df_from_db.head())\n",
    "except ValueError as e:\n",
    "    print(f\"Value error: {e}\")\n",
    "except sqlite3.DatabaseError as e:\n",
    "    print(f\"Database error: {e}\")\n",
    "except Exception as e:\n",
    "    print(f\"An unexpected error occurred: {e}\")"
   ]
  },
  {
   "cell_type": "code",
   "execution_count": 662,
   "metadata": {},
   "outputs": [
    {
     "name": "stdout",
     "output_type": "stream",
     "text": [
      "Data saved to the database successfully.\n",
      "Data retrieved from the database successfully.\n",
      "  Region ID                 Region\n",
      "0      reg1  Eastern Mediterranean\n",
      "1      reg2               European\n",
      "2      reg3                African\n",
      "3      reg4               Americas\n",
      "4      reg5        Western Pacific\n"
     ]
    }
   ],
   "source": [
    "try:\n",
    "    # Save the region dataframe to the SQLite database\n",
    "    region_df.to_sql('region', conn, if_exists='replace', index=False)\n",
    "    print(\"Data saved to the database successfully.\")\n",
    "\n",
    "    # Query to ensure the data was stored correctly\n",
    "    df_from_db = pd.read_sql('SELECT * FROM region', conn)\n",
    "    print(\"Data retrieved from the database successfully.\")\n",
    "    print(df_from_db.head())\n",
    "except ValueError as e:\n",
    "    print(f\"Value error: {e}\")\n",
    "except sqlite3.DatabaseError as e:\n",
    "    print(f\"Database error: {e}\")\n",
    "except Exception as e:\n",
    "    print(f\"An unexpected error occurred: {e}\")"
   ]
  },
  {
   "cell_type": "markdown",
   "metadata": {},
   "source": [
    "### 5.4 Load dimensions"
   ]
  },
  {
   "cell_type": "code",
   "execution_count": 663,
   "metadata": {},
   "outputs": [
    {
     "name": "stdout",
     "output_type": "stream",
     "text": [
      "Data saved to the database successfully.\n",
      "Data retrieved from the database successfully.\n",
      "  Dimension ID                          Dimension\n",
      "0         dim1                       Age (months)\n",
      "1         dim2                                Sex\n",
      "2         dim3                 Place of residence\n",
      "3         dim4  Economic status (wealth quintile)\n",
      "4         dim5                 Education (mother)\n"
     ]
    }
   ],
   "source": [
    "try:\n",
    "    # Save the dimension dataframe to the SQLite database\n",
    "    dimension_df.to_sql('dimension', conn, if_exists='replace', index=False)\n",
    "    print(\"Data saved to the database successfully.\")\n",
    "\n",
    "    # Query to ensure the data was stored correctly\n",
    "    df_from_db = pd.read_sql('SELECT * FROM dimension', conn)\n",
    "    print(\"Data retrieved from the database successfully.\")\n",
    "    print(df_from_db.head())\n",
    "except ValueError as e:\n",
    "    print(f\"Value error: {e}\")\n",
    "except sqlite3.DatabaseError as e:\n",
    "    print(f\"Database error: {e}\")\n",
    "except Exception as e:\n",
    "    print(f\"An unexpected error occurred: {e}\")"
   ]
  },
  {
   "cell_type": "code",
   "execution_count": 664,
   "metadata": {},
   "outputs": [
    {
     "name": "stdout",
     "output_type": "stream",
     "text": [
      "Data saved to the database successfully.\n",
      "Data retrieved from the database successfully.\n",
      "    Age ID Dimension Value\n",
      "0  ageval1    12-23 months\n",
      "1  ageval2    24-35 months\n",
      "2  ageval3    36-47 months\n",
      "3  ageval4    48-59 months\n",
      "4  ageval5     6-11 months\n"
     ]
    }
   ],
   "source": [
    "try:\n",
    "    # Save the age dataframe to the SQLite database\n",
    "    age_df.to_sql('age', conn, if_exists='replace', index=False)\n",
    "    print(\"Data saved to the database successfully.\")\n",
    "\n",
    "    # Query to ensure the data was stored correctly\n",
    "    df_from_db = pd.read_sql('SELECT * FROM age', conn)\n",
    "    print(\"Data retrieved from the database successfully.\")\n",
    "    print(df_from_db.head())\n",
    "except ValueError as e:\n",
    "    print(f\"Value error: {e}\")\n",
    "except sqlite3.DatabaseError as e:\n",
    "    print(f\"Database error: {e}\")\n",
    "except Exception as e:\n",
    "    print(f\"An unexpected error occurred: {e}\")"
   ]
  },
  {
   "cell_type": "code",
   "execution_count": 665,
   "metadata": {},
   "outputs": [
    {
     "name": "stdout",
     "output_type": "stream",
     "text": [
      "Data saved to the database successfully.\n",
      "Data retrieved from the database successfully.\n",
      "  Sex ID Dimension Value\n",
      "0   sex1          Female\n",
      "1   sex2            Male\n"
     ]
    }
   ],
   "source": [
    "try:\n",
    "    # Save the sex dataframe to the SQLite database\n",
    "    sex_df.to_sql('sex', conn, if_exists='replace', index=False)\n",
    "    print(\"Data saved to the database successfully.\")\n",
    "\n",
    "    # Query to ensure the data was stored correctly\n",
    "    df_from_db = pd.read_sql('SELECT * FROM sex', conn)\n",
    "    print(\"Data retrieved from the database successfully.\")\n",
    "    print(df_from_db.head())\n",
    "except ValueError as e:\n",
    "    print(f\"Value error: {e}\")\n",
    "except sqlite3.DatabaseError as e:\n",
    "    print(f\"Database error: {e}\")\n",
    "except Exception as e:\n",
    "    print(f\"An unexpected error occurred: {e}\")"
   ]
  },
  {
   "cell_type": "code",
   "execution_count": 666,
   "metadata": {},
   "outputs": [
    {
     "name": "stdout",
     "output_type": "stream",
     "text": [
      "Data saved to the database successfully.\n",
      "Data retrieved from the database successfully.\n",
      "  Residence ID Dimension Value\n",
      "0         res1           Rural\n",
      "1         res2           Urban\n"
     ]
    }
   ],
   "source": [
    "try:\n",
    "    # Save the residence dataframe to the SQLite database\n",
    "    residence_df.to_sql('residence', conn, if_exists='replace', index=False)\n",
    "    print(\"Data saved to the database successfully.\")\n",
    "\n",
    "    # Query to ensure the data was stored correctly\n",
    "    df_from_db = pd.read_sql('SELECT * FROM residence', conn)\n",
    "    print(\"Data retrieved from the database successfully.\")\n",
    "    print(df_from_db.head())\n",
    "except ValueError as e:\n",
    "    print(f\"Value error: {e}\")\n",
    "except sqlite3.DatabaseError as e:\n",
    "    print(f\"Database error: {e}\")\n",
    "except Exception as e:\n",
    "    print(f\"An unexpected error occurred: {e}\")"
   ]
  },
  {
   "cell_type": "code",
   "execution_count": 667,
   "metadata": {},
   "outputs": [
    {
     "name": "stdout",
     "output_type": "stream",
     "text": [
      "Data saved to the database successfully.\n",
      "Data retrieved from the database successfully.\n",
      "  Economic Status ID       Dimension Value\n",
      "0              econ1  Quintile 1 (poorest)\n",
      "1              econ2            Quintile 2\n",
      "2              econ3            Quintile 3\n",
      "3              econ4            Quintile 4\n",
      "4              econ5  Quintile 5 (richest)\n"
     ]
    }
   ],
   "source": [
    "try:\n",
    "    # Save the economic status dataframe to the SQLite database\n",
    "    economic_status_df.to_sql('economic_status', conn, if_exists='replace', index=False)\n",
    "    print(\"Data saved to the database successfully.\")\n",
    "\n",
    "    # Query to ensure the data was stored correctly\n",
    "    df_from_db = pd.read_sql('SELECT * FROM economic_status', conn)\n",
    "    print(\"Data retrieved from the database successfully.\")\n",
    "    print(df_from_db.head())\n",
    "except ValueError as e:\n",
    "    print(f\"Value error: {e}\")\n",
    "except sqlite3.DatabaseError as e:\n",
    "    print(f\"Database error: {e}\")\n",
    "except Exception as e:\n",
    "    print(f\"An unexpected error occurred: {e}\")"
   ]
  },
  {
   "cell_type": "code",
   "execution_count": 40,
   "metadata": {},
   "outputs": [
    {
     "name": "stdout",
     "output_type": "stream",
     "text": [
      "Data saved to the database successfully.\n",
      "Data retrieved from the database successfully.\n",
      "  Education ID                Dimension Value\n",
      "0         edu1                   No education\n",
      "1         edu2              Primary education\n",
      "2         edu3  Secondary or higher education\n"
     ]
    }
   ],
   "source": [
    "try:\n",
    "    # Save the education dataframe to the SQLite database\n",
    "    education_df.to_sql('education', conn, if_exists='replace', index=False)\n",
    "    print(\"Data saved to the database successfully.\")\n",
    "\n",
    "    # Query to ensure the data was stored correctly\n",
    "    df_from_db = pd.read_sql('SELECT * FROM education', conn)\n",
    "    print(\"Data retrieved from the database successfully.\")\n",
    "    print(df_from_db.head())\n",
    "except ValueError as e:\n",
    "    print(f\"Value error: {e}\")\n",
    "except sqlite3.DatabaseError as e:\n",
    "    print(f\"Database error: {e}\")\n",
    "except Exception as e:\n",
    "    print(f\"An unexpected error occurred: {e}\")"
   ]
  },
  {
   "cell_type": "markdown",
   "metadata": {},
   "source": [
    "### 5.5 Close connection to SQLite database"
   ]
  },
  {
   "cell_type": "code",
   "execution_count": 41,
   "metadata": {},
   "outputs": [
    {
     "name": "stdout",
     "output_type": "stream",
     "text": [
      "Database connection closed.\n"
     ]
    }
   ],
   "source": [
    "if conn:\n",
    "    conn.close()\n",
    "    print(\"Database connection closed.\")"
   ]
  },
  {
   "cell_type": "markdown",
   "metadata": {},
   "source": [
    "## EXAMPLES: Data extraction from SQLite database (DELETE BEFORE SUBMITTING)"
   ]
  },
  {
   "cell_type": "code",
   "execution_count": 568,
   "metadata": {},
   "outputs": [
    {
     "data": {
      "text/html": [
       "<div>\n",
       "<style scoped>\n",
       "    .dataframe tbody tr th:only-of-type {\n",
       "        vertical-align: middle;\n",
       "    }\n",
       "\n",
       "    .dataframe tbody tr th {\n",
       "        vertical-align: top;\n",
       "    }\n",
       "\n",
       "    .dataframe thead th {\n",
       "        text-align: right;\n",
       "    }\n",
       "</style>\n",
       "<table border=\"1\" class=\"dataframe\">\n",
       "  <thead>\n",
       "    <tr style=\"text-align: right;\">\n",
       "      <th></th>\n",
       "      <th>Region</th>\n",
       "      <th>Country ISO-3 Code</th>\n",
       "      <th>Country</th>\n",
       "      <th>Year</th>\n",
       "      <th>Dimension</th>\n",
       "      <th>Dimension Value</th>\n",
       "      <th>Dimension Value Order</th>\n",
       "      <th>Anthropometric Indicator</th>\n",
       "      <th>Prevalence Estimate %</th>\n",
       "      <th>Under-Five Population (million)</th>\n",
       "      <th>Country Avg</th>\n",
       "    </tr>\n",
       "  </thead>\n",
       "  <tbody>\n",
       "    <tr>\n",
       "      <th>0</th>\n",
       "      <td>Eastern Mediterranean</td>\n",
       "      <td>AFG</td>\n",
       "      <td>Afghanistan</td>\n",
       "      <td>2004</td>\n",
       "      <td>Age (months)</td>\n",
       "      <td>12-23 months</td>\n",
       "      <td>3</td>\n",
       "      <td>Overweight</td>\n",
       "      <td>4.3</td>\n",
       "      <td>189.0</td>\n",
       "      <td>4.6</td>\n",
       "    </tr>\n",
       "    <tr>\n",
       "      <th>1</th>\n",
       "      <td>Eastern Mediterranean</td>\n",
       "      <td>AFG</td>\n",
       "      <td>Afghanistan</td>\n",
       "      <td>2004</td>\n",
       "      <td>Age (months)</td>\n",
       "      <td>24-35 months</td>\n",
       "      <td>4</td>\n",
       "      <td>Overweight</td>\n",
       "      <td>3.0</td>\n",
       "      <td>182.0</td>\n",
       "      <td>4.6</td>\n",
       "    </tr>\n",
       "    <tr>\n",
       "      <th>2</th>\n",
       "      <td>Eastern Mediterranean</td>\n",
       "      <td>AFG</td>\n",
       "      <td>Afghanistan</td>\n",
       "      <td>2004</td>\n",
       "      <td>Age (months)</td>\n",
       "      <td>36-47 months</td>\n",
       "      <td>5</td>\n",
       "      <td>Overweight</td>\n",
       "      <td>5.6</td>\n",
       "      <td>227.0</td>\n",
       "      <td>4.6</td>\n",
       "    </tr>\n",
       "    <tr>\n",
       "      <th>3</th>\n",
       "      <td>Eastern Mediterranean</td>\n",
       "      <td>AFG</td>\n",
       "      <td>Afghanistan</td>\n",
       "      <td>2004</td>\n",
       "      <td>Age (months)</td>\n",
       "      <td>48-59 months</td>\n",
       "      <td>6</td>\n",
       "      <td>Overweight</td>\n",
       "      <td>6.4</td>\n",
       "      <td>241.0</td>\n",
       "      <td>4.6</td>\n",
       "    </tr>\n",
       "    <tr>\n",
       "      <th>4</th>\n",
       "      <td>Eastern Mediterranean</td>\n",
       "      <td>AFG</td>\n",
       "      <td>Afghanistan</td>\n",
       "      <td>2004</td>\n",
       "      <td>Age (months)</td>\n",
       "      <td>6-11 months</td>\n",
       "      <td>2</td>\n",
       "      <td>Overweight</td>\n",
       "      <td>1.9</td>\n",
       "      <td>107.0</td>\n",
       "      <td>4.6</td>\n",
       "    </tr>\n",
       "  </tbody>\n",
       "</table>\n",
       "</div>"
      ],
      "text/plain": [
       "                  Region Country ISO-3 Code      Country  Year     Dimension  \\\n",
       "0  Eastern Mediterranean                AFG  Afghanistan  2004  Age (months)   \n",
       "1  Eastern Mediterranean                AFG  Afghanistan  2004  Age (months)   \n",
       "2  Eastern Mediterranean                AFG  Afghanistan  2004  Age (months)   \n",
       "3  Eastern Mediterranean                AFG  Afghanistan  2004  Age (months)   \n",
       "4  Eastern Mediterranean                AFG  Afghanistan  2004  Age (months)   \n",
       "\n",
       "  Dimension Value  Dimension Value Order Anthropometric Indicator  \\\n",
       "0    12-23 months                      3               Overweight   \n",
       "1    24-35 months                      4               Overweight   \n",
       "2    36-47 months                      5               Overweight   \n",
       "3    48-59 months                      6               Overweight   \n",
       "4     6-11 months                      2               Overweight   \n",
       "\n",
       "   Prevalence Estimate %  Under-Five Population (million)  Country Avg  \n",
       "0                    4.3                            189.0          4.6  \n",
       "1                    3.0                            182.0          4.6  \n",
       "2                    5.6                            227.0          4.6  \n",
       "3                    6.4                            241.0          4.6  \n",
       "4                    1.9                            107.0          4.6  "
      ]
     },
     "execution_count": 568,
     "metadata": {},
     "output_type": "execute_result"
    }
   ],
   "source": [
    "# Query the database from the clean data table by the age dimension and create a dataframe\n",
    "age_df_from_db = pd.read_sql(\"SELECT * FROM clean_data WHERE Dimension == 'Age (months)'\", conn)\n",
    "age_df_from_db.head()"
   ]
  },
  {
   "cell_type": "code",
   "execution_count": 577,
   "metadata": {},
   "outputs": [
    {
     "data": {
      "text/html": [
       "<div>\n",
       "<style scoped>\n",
       "    .dataframe tbody tr th:only-of-type {\n",
       "        vertical-align: middle;\n",
       "    }\n",
       "\n",
       "    .dataframe tbody tr th {\n",
       "        vertical-align: top;\n",
       "    }\n",
       "\n",
       "    .dataframe thead th {\n",
       "        text-align: right;\n",
       "    }\n",
       "</style>\n",
       "<table border=\"1\" class=\"dataframe\">\n",
       "  <thead>\n",
       "    <tr style=\"text-align: right;\">\n",
       "      <th></th>\n",
       "      <th>Region</th>\n",
       "      <th>Country ISO-3 Code</th>\n",
       "      <th>Country</th>\n",
       "      <th>Year</th>\n",
       "      <th>Dimension</th>\n",
       "      <th>Dimension Value</th>\n",
       "      <th>Dimension Value Order</th>\n",
       "      <th>Anthropometric Indicator</th>\n",
       "      <th>Prevalence Estimate %</th>\n",
       "      <th>Under-Five Population (million)</th>\n",
       "      <th>Country Avg</th>\n",
       "    </tr>\n",
       "  </thead>\n",
       "  <tbody>\n",
       "    <tr>\n",
       "      <th>0</th>\n",
       "      <td>Eastern Mediterranean</td>\n",
       "      <td>AFG</td>\n",
       "      <td>Afghanistan</td>\n",
       "      <td>2018</td>\n",
       "      <td>Economic status (wealth quintile)</td>\n",
       "      <td>Quintile 1 (poorest)</td>\n",
       "      <td>1</td>\n",
       "      <td>Overweight</td>\n",
       "      <td>4.486930</td>\n",
       "      <td>3576.301514</td>\n",
       "      <td>4.112625</td>\n",
       "    </tr>\n",
       "    <tr>\n",
       "      <th>1</th>\n",
       "      <td>Eastern Mediterranean</td>\n",
       "      <td>AFG</td>\n",
       "      <td>Afghanistan</td>\n",
       "      <td>2018</td>\n",
       "      <td>Economic status (wealth quintile)</td>\n",
       "      <td>Quintile 2</td>\n",
       "      <td>2</td>\n",
       "      <td>Overweight</td>\n",
       "      <td>4.670275</td>\n",
       "      <td>3767.884277</td>\n",
       "      <td>4.112625</td>\n",
       "    </tr>\n",
       "    <tr>\n",
       "      <th>2</th>\n",
       "      <td>Eastern Mediterranean</td>\n",
       "      <td>AFG</td>\n",
       "      <td>Afghanistan</td>\n",
       "      <td>2018</td>\n",
       "      <td>Economic status (wealth quintile)</td>\n",
       "      <td>Quintile 3</td>\n",
       "      <td>3</td>\n",
       "      <td>Overweight</td>\n",
       "      <td>4.078213</td>\n",
       "      <td>4178.454102</td>\n",
       "      <td>4.112625</td>\n",
       "    </tr>\n",
       "    <tr>\n",
       "      <th>3</th>\n",
       "      <td>Eastern Mediterranean</td>\n",
       "      <td>AFG</td>\n",
       "      <td>Afghanistan</td>\n",
       "      <td>2018</td>\n",
       "      <td>Economic status (wealth quintile)</td>\n",
       "      <td>Quintile 4</td>\n",
       "      <td>4</td>\n",
       "      <td>Overweight</td>\n",
       "      <td>3.264172</td>\n",
       "      <td>4315.422852</td>\n",
       "      <td>4.112625</td>\n",
       "    </tr>\n",
       "    <tr>\n",
       "      <th>4</th>\n",
       "      <td>Eastern Mediterranean</td>\n",
       "      <td>AFG</td>\n",
       "      <td>Afghanistan</td>\n",
       "      <td>2018</td>\n",
       "      <td>Economic status (wealth quintile)</td>\n",
       "      <td>Quintile 5 (richest)</td>\n",
       "      <td>5</td>\n",
       "      <td>Overweight</td>\n",
       "      <td>4.254687</td>\n",
       "      <td>3575.646240</td>\n",
       "      <td>4.112625</td>\n",
       "    </tr>\n",
       "  </tbody>\n",
       "</table>\n",
       "</div>"
      ],
      "text/plain": [
       "                  Region Country ISO-3 Code      Country  Year  \\\n",
       "0  Eastern Mediterranean                AFG  Afghanistan  2018   \n",
       "1  Eastern Mediterranean                AFG  Afghanistan  2018   \n",
       "2  Eastern Mediterranean                AFG  Afghanistan  2018   \n",
       "3  Eastern Mediterranean                AFG  Afghanistan  2018   \n",
       "4  Eastern Mediterranean                AFG  Afghanistan  2018   \n",
       "\n",
       "                           Dimension       Dimension Value  \\\n",
       "0  Economic status (wealth quintile)  Quintile 1 (poorest)   \n",
       "1  Economic status (wealth quintile)            Quintile 2   \n",
       "2  Economic status (wealth quintile)            Quintile 3   \n",
       "3  Economic status (wealth quintile)            Quintile 4   \n",
       "4  Economic status (wealth quintile)  Quintile 5 (richest)   \n",
       "\n",
       "   Dimension Value Order Anthropometric Indicator  Prevalence Estimate %  \\\n",
       "0                      1               Overweight               4.486930   \n",
       "1                      2               Overweight               4.670275   \n",
       "2                      3               Overweight               4.078213   \n",
       "3                      4               Overweight               3.264172   \n",
       "4                      5               Overweight               4.254687   \n",
       "\n",
       "   Under-Five Population (million)  Country Avg  \n",
       "0                      3576.301514     4.112625  \n",
       "1                      3767.884277     4.112625  \n",
       "2                      4178.454102     4.112625  \n",
       "3                      4315.422852     4.112625  \n",
       "4                      3575.646240     4.112625  "
      ]
     },
     "execution_count": 577,
     "metadata": {},
     "output_type": "execute_result"
    }
   ],
   "source": [
    "# Query the database from the clean data table by age and create a dataframe\n",
    "economic_status_df_from_db = pd.read_sql(\"SELECT * FROM clean_data WHERE Dimension == 'Economic status (wealth quintile)'\", conn)\n",
    "economic_status_df_from_db.head()"
   ]
  },
  {
   "cell_type": "code",
   "execution_count": 578,
   "metadata": {},
   "outputs": [
    {
     "data": {
      "text/html": [
       "<div>\n",
       "<style scoped>\n",
       "    .dataframe tbody tr th:only-of-type {\n",
       "        vertical-align: middle;\n",
       "    }\n",
       "\n",
       "    .dataframe tbody tr th {\n",
       "        vertical-align: top;\n",
       "    }\n",
       "\n",
       "    .dataframe thead th {\n",
       "        text-align: right;\n",
       "    }\n",
       "</style>\n",
       "<table border=\"1\" class=\"dataframe\">\n",
       "  <thead>\n",
       "    <tr style=\"text-align: right;\">\n",
       "      <th></th>\n",
       "      <th>Region</th>\n",
       "      <th>Country ISO-3 Code</th>\n",
       "      <th>Country</th>\n",
       "      <th>Year</th>\n",
       "      <th>Dimension</th>\n",
       "      <th>Dimension Value</th>\n",
       "      <th>Dimension Value Order</th>\n",
       "      <th>Anthropometric Indicator</th>\n",
       "      <th>Prevalence Estimate %</th>\n",
       "      <th>Under-Five Population (million)</th>\n",
       "      <th>Country Avg</th>\n",
       "    </tr>\n",
       "  </thead>\n",
       "  <tbody>\n",
       "    <tr>\n",
       "      <th>0</th>\n",
       "      <td>Eastern Mediterranean</td>\n",
       "      <td>AFG</td>\n",
       "      <td>Afghanistan</td>\n",
       "      <td>2018</td>\n",
       "      <td>Education (mother)</td>\n",
       "      <td>No education</td>\n",
       "      <td>1</td>\n",
       "      <td>Overweight</td>\n",
       "      <td>4.183403</td>\n",
       "      <td>16289.356445</td>\n",
       "      <td>4.112625</td>\n",
       "    </tr>\n",
       "    <tr>\n",
       "      <th>1</th>\n",
       "      <td>Eastern Mediterranean</td>\n",
       "      <td>AFG</td>\n",
       "      <td>Afghanistan</td>\n",
       "      <td>2018</td>\n",
       "      <td>Education (mother)</td>\n",
       "      <td>Primary education</td>\n",
       "      <td>2</td>\n",
       "      <td>Overweight</td>\n",
       "      <td>2.141115</td>\n",
       "      <td>1341.238159</td>\n",
       "      <td>4.112625</td>\n",
       "    </tr>\n",
       "    <tr>\n",
       "      <th>2</th>\n",
       "      <td>Eastern Mediterranean</td>\n",
       "      <td>AFG</td>\n",
       "      <td>Afghanistan</td>\n",
       "      <td>2018</td>\n",
       "      <td>Education (mother)</td>\n",
       "      <td>Secondary or higher education</td>\n",
       "      <td>3</td>\n",
       "      <td>Overweight</td>\n",
       "      <td>4.753134</td>\n",
       "      <td>1926.877563</td>\n",
       "      <td>4.112625</td>\n",
       "    </tr>\n",
       "    <tr>\n",
       "      <th>3</th>\n",
       "      <td>Eastern Mediterranean</td>\n",
       "      <td>AFG</td>\n",
       "      <td>Afghanistan</td>\n",
       "      <td>2018</td>\n",
       "      <td>Education (mother)</td>\n",
       "      <td>No education</td>\n",
       "      <td>1</td>\n",
       "      <td>Stunting</td>\n",
       "      <td>40.559396</td>\n",
       "      <td>15851.871094</td>\n",
       "      <td>38.192776</td>\n",
       "    </tr>\n",
       "    <tr>\n",
       "      <th>4</th>\n",
       "      <td>Eastern Mediterranean</td>\n",
       "      <td>AFG</td>\n",
       "      <td>Afghanistan</td>\n",
       "      <td>2018</td>\n",
       "      <td>Education (mother)</td>\n",
       "      <td>Primary education</td>\n",
       "      <td>2</td>\n",
       "      <td>Stunting</td>\n",
       "      <td>29.575229</td>\n",
       "      <td>1330.618286</td>\n",
       "      <td>38.192776</td>\n",
       "    </tr>\n",
       "  </tbody>\n",
       "</table>\n",
       "</div>"
      ],
      "text/plain": [
       "                  Region Country ISO-3 Code      Country  Year  \\\n",
       "0  Eastern Mediterranean                AFG  Afghanistan  2018   \n",
       "1  Eastern Mediterranean                AFG  Afghanistan  2018   \n",
       "2  Eastern Mediterranean                AFG  Afghanistan  2018   \n",
       "3  Eastern Mediterranean                AFG  Afghanistan  2018   \n",
       "4  Eastern Mediterranean                AFG  Afghanistan  2018   \n",
       "\n",
       "            Dimension                Dimension Value  Dimension Value Order  \\\n",
       "0  Education (mother)                   No education                      1   \n",
       "1  Education (mother)              Primary education                      2   \n",
       "2  Education (mother)  Secondary or higher education                      3   \n",
       "3  Education (mother)                   No education                      1   \n",
       "4  Education (mother)              Primary education                      2   \n",
       "\n",
       "  Anthropometric Indicator  Prevalence Estimate %  \\\n",
       "0               Overweight               4.183403   \n",
       "1               Overweight               2.141115   \n",
       "2               Overweight               4.753134   \n",
       "3                 Stunting              40.559396   \n",
       "4                 Stunting              29.575229   \n",
       "\n",
       "   Under-Five Population (million)  Country Avg  \n",
       "0                     16289.356445     4.112625  \n",
       "1                      1341.238159     4.112625  \n",
       "2                      1926.877563     4.112625  \n",
       "3                     15851.871094    38.192776  \n",
       "4                      1330.618286    38.192776  "
      ]
     },
     "execution_count": 578,
     "metadata": {},
     "output_type": "execute_result"
    }
   ],
   "source": [
    "# Query the database from the clean data table by economic status and create a dataframe\n",
    "education_df_from_db = pd.read_sql(\"SELECT * FROM clean_data WHERE Dimension == 'Education (mother)'\", conn)\n",
    "education_df_from_db.head()"
   ]
  },
  {
   "cell_type": "code",
   "execution_count": 579,
   "metadata": {},
   "outputs": [
    {
     "data": {
      "text/html": [
       "<div>\n",
       "<style scoped>\n",
       "    .dataframe tbody tr th:only-of-type {\n",
       "        vertical-align: middle;\n",
       "    }\n",
       "\n",
       "    .dataframe tbody tr th {\n",
       "        vertical-align: top;\n",
       "    }\n",
       "\n",
       "    .dataframe thead th {\n",
       "        text-align: right;\n",
       "    }\n",
       "</style>\n",
       "<table border=\"1\" class=\"dataframe\">\n",
       "  <thead>\n",
       "    <tr style=\"text-align: right;\">\n",
       "      <th></th>\n",
       "      <th>Region</th>\n",
       "      <th>Country ISO-3 Code</th>\n",
       "      <th>Country</th>\n",
       "      <th>Year</th>\n",
       "      <th>Dimension</th>\n",
       "      <th>Dimension Value</th>\n",
       "      <th>Dimension Value Order</th>\n",
       "      <th>Anthropometric Indicator</th>\n",
       "      <th>Prevalence Estimate %</th>\n",
       "      <th>Under-Five Population (million)</th>\n",
       "      <th>Country Avg</th>\n",
       "    </tr>\n",
       "  </thead>\n",
       "  <tbody>\n",
       "    <tr>\n",
       "      <th>0</th>\n",
       "      <td>Eastern Mediterranean</td>\n",
       "      <td>AFG</td>\n",
       "      <td>Afghanistan</td>\n",
       "      <td>2013</td>\n",
       "      <td>Place of residence</td>\n",
       "      <td>Rural</td>\n",
       "      <td>0</td>\n",
       "      <td>Overweight</td>\n",
       "      <td>5.969128</td>\n",
       "      <td>3.234018e+06</td>\n",
       "      <td>5.341543</td>\n",
       "    </tr>\n",
       "    <tr>\n",
       "      <th>1</th>\n",
       "      <td>Eastern Mediterranean</td>\n",
       "      <td>AFG</td>\n",
       "      <td>Afghanistan</td>\n",
       "      <td>2013</td>\n",
       "      <td>Place of residence</td>\n",
       "      <td>Urban</td>\n",
       "      <td>0</td>\n",
       "      <td>Overweight</td>\n",
       "      <td>3.338518</td>\n",
       "      <td>1.013278e+06</td>\n",
       "      <td>5.341543</td>\n",
       "    </tr>\n",
       "    <tr>\n",
       "      <th>2</th>\n",
       "      <td>Eastern Mediterranean</td>\n",
       "      <td>AFG</td>\n",
       "      <td>Afghanistan</td>\n",
       "      <td>2013</td>\n",
       "      <td>Place of residence</td>\n",
       "      <td>Rural</td>\n",
       "      <td>0</td>\n",
       "      <td>Stunting</td>\n",
       "      <td>43.330780</td>\n",
       "      <td>3.214813e+06</td>\n",
       "      <td>40.413544</td>\n",
       "    </tr>\n",
       "    <tr>\n",
       "      <th>3</th>\n",
       "      <td>Eastern Mediterranean</td>\n",
       "      <td>AFG</td>\n",
       "      <td>Afghanistan</td>\n",
       "      <td>2013</td>\n",
       "      <td>Place of residence</td>\n",
       "      <td>Urban</td>\n",
       "      <td>0</td>\n",
       "      <td>Stunting</td>\n",
       "      <td>31.130192</td>\n",
       "      <td>1.010235e+06</td>\n",
       "      <td>40.413544</td>\n",
       "    </tr>\n",
       "    <tr>\n",
       "      <th>4</th>\n",
       "      <td>Eastern Mediterranean</td>\n",
       "      <td>AFG</td>\n",
       "      <td>Afghanistan</td>\n",
       "      <td>2013</td>\n",
       "      <td>Place of residence</td>\n",
       "      <td>Rural</td>\n",
       "      <td>0</td>\n",
       "      <td>Underweight</td>\n",
       "      <td>26.375696</td>\n",
       "      <td>3.373931e+06</td>\n",
       "      <td>24.643473</td>\n",
       "    </tr>\n",
       "  </tbody>\n",
       "</table>\n",
       "</div>"
      ],
      "text/plain": [
       "                  Region Country ISO-3 Code      Country  Year  \\\n",
       "0  Eastern Mediterranean                AFG  Afghanistan  2013   \n",
       "1  Eastern Mediterranean                AFG  Afghanistan  2013   \n",
       "2  Eastern Mediterranean                AFG  Afghanistan  2013   \n",
       "3  Eastern Mediterranean                AFG  Afghanistan  2013   \n",
       "4  Eastern Mediterranean                AFG  Afghanistan  2013   \n",
       "\n",
       "            Dimension Dimension Value  Dimension Value Order  \\\n",
       "0  Place of residence           Rural                      0   \n",
       "1  Place of residence           Urban                      0   \n",
       "2  Place of residence           Rural                      0   \n",
       "3  Place of residence           Urban                      0   \n",
       "4  Place of residence           Rural                      0   \n",
       "\n",
       "  Anthropometric Indicator  Prevalence Estimate %  \\\n",
       "0               Overweight               5.969128   \n",
       "1               Overweight               3.338518   \n",
       "2                 Stunting              43.330780   \n",
       "3                 Stunting              31.130192   \n",
       "4              Underweight              26.375696   \n",
       "\n",
       "   Under-Five Population (million)  Country Avg  \n",
       "0                     3.234018e+06     5.341543  \n",
       "1                     1.013278e+06     5.341543  \n",
       "2                     3.214813e+06    40.413544  \n",
       "3                     1.010235e+06    40.413544  \n",
       "4                     3.373931e+06    24.643473  "
      ]
     },
     "execution_count": 579,
     "metadata": {},
     "output_type": "execute_result"
    }
   ],
   "source": [
    "# Query the database from the clean data table by place of residence and create a dataframe\n",
    "residence_df_from_db = pd.read_sql(\"SELECT * FROM clean_data WHERE Dimension == 'Place of residence'\", conn)\n",
    "residence_df_from_db.head()"
   ]
  },
  {
   "cell_type": "code",
   "execution_count": 580,
   "metadata": {},
   "outputs": [
    {
     "data": {
      "text/html": [
       "<div>\n",
       "<style scoped>\n",
       "    .dataframe tbody tr th:only-of-type {\n",
       "        vertical-align: middle;\n",
       "    }\n",
       "\n",
       "    .dataframe tbody tr th {\n",
       "        vertical-align: top;\n",
       "    }\n",
       "\n",
       "    .dataframe thead th {\n",
       "        text-align: right;\n",
       "    }\n",
       "</style>\n",
       "<table border=\"1\" class=\"dataframe\">\n",
       "  <thead>\n",
       "    <tr style=\"text-align: right;\">\n",
       "      <th></th>\n",
       "      <th>Region</th>\n",
       "      <th>Country ISO-3 Code</th>\n",
       "      <th>Country</th>\n",
       "      <th>Year</th>\n",
       "      <th>Dimension</th>\n",
       "      <th>Dimension Value</th>\n",
       "      <th>Dimension Value Order</th>\n",
       "      <th>Anthropometric Indicator</th>\n",
       "      <th>Prevalence Estimate %</th>\n",
       "      <th>Under-Five Population (million)</th>\n",
       "      <th>Country Avg</th>\n",
       "    </tr>\n",
       "  </thead>\n",
       "  <tbody>\n",
       "    <tr>\n",
       "      <th>0</th>\n",
       "      <td>Eastern Mediterranean</td>\n",
       "      <td>AFG</td>\n",
       "      <td>Afghanistan</td>\n",
       "      <td>2004</td>\n",
       "      <td>Sex</td>\n",
       "      <td>Female</td>\n",
       "      <td>0</td>\n",
       "      <td>Overweight</td>\n",
       "      <td>2.6</td>\n",
       "      <td>436.0</td>\n",
       "      <td>4.6</td>\n",
       "    </tr>\n",
       "    <tr>\n",
       "      <th>1</th>\n",
       "      <td>Eastern Mediterranean</td>\n",
       "      <td>AFG</td>\n",
       "      <td>Afghanistan</td>\n",
       "      <td>2004</td>\n",
       "      <td>Sex</td>\n",
       "      <td>Male</td>\n",
       "      <td>0</td>\n",
       "      <td>Overweight</td>\n",
       "      <td>6.3</td>\n",
       "      <td>510.0</td>\n",
       "      <td>4.6</td>\n",
       "    </tr>\n",
       "    <tr>\n",
       "      <th>2</th>\n",
       "      <td>Eastern Mediterranean</td>\n",
       "      <td>AFG</td>\n",
       "      <td>Afghanistan</td>\n",
       "      <td>2004</td>\n",
       "      <td>Sex</td>\n",
       "      <td>Female</td>\n",
       "      <td>0</td>\n",
       "      <td>Stunting</td>\n",
       "      <td>58.5</td>\n",
       "      <td>436.0</td>\n",
       "      <td>59.3</td>\n",
       "    </tr>\n",
       "    <tr>\n",
       "      <th>3</th>\n",
       "      <td>Eastern Mediterranean</td>\n",
       "      <td>AFG</td>\n",
       "      <td>Afghanistan</td>\n",
       "      <td>2004</td>\n",
       "      <td>Sex</td>\n",
       "      <td>Male</td>\n",
       "      <td>0</td>\n",
       "      <td>Stunting</td>\n",
       "      <td>60.0</td>\n",
       "      <td>510.0</td>\n",
       "      <td>59.3</td>\n",
       "    </tr>\n",
       "    <tr>\n",
       "      <th>4</th>\n",
       "      <td>Eastern Mediterranean</td>\n",
       "      <td>AFG</td>\n",
       "      <td>Afghanistan</td>\n",
       "      <td>2004</td>\n",
       "      <td>Sex</td>\n",
       "      <td>Female</td>\n",
       "      <td>0</td>\n",
       "      <td>Underweight</td>\n",
       "      <td>33.0</td>\n",
       "      <td>436.0</td>\n",
       "      <td>32.9</td>\n",
       "    </tr>\n",
       "  </tbody>\n",
       "</table>\n",
       "</div>"
      ],
      "text/plain": [
       "                  Region Country ISO-3 Code      Country  Year Dimension  \\\n",
       "0  Eastern Mediterranean                AFG  Afghanistan  2004       Sex   \n",
       "1  Eastern Mediterranean                AFG  Afghanistan  2004       Sex   \n",
       "2  Eastern Mediterranean                AFG  Afghanistan  2004       Sex   \n",
       "3  Eastern Mediterranean                AFG  Afghanistan  2004       Sex   \n",
       "4  Eastern Mediterranean                AFG  Afghanistan  2004       Sex   \n",
       "\n",
       "  Dimension Value  Dimension Value Order Anthropometric Indicator  \\\n",
       "0          Female                      0               Overweight   \n",
       "1            Male                      0               Overweight   \n",
       "2          Female                      0                 Stunting   \n",
       "3            Male                      0                 Stunting   \n",
       "4          Female                      0              Underweight   \n",
       "\n",
       "   Prevalence Estimate %  Under-Five Population (million)  Country Avg  \n",
       "0                    2.6                            436.0          4.6  \n",
       "1                    6.3                            510.0          4.6  \n",
       "2                   58.5                            436.0         59.3  \n",
       "3                   60.0                            510.0         59.3  \n",
       "4                   33.0                            436.0         32.9  "
      ]
     },
     "execution_count": 580,
     "metadata": {},
     "output_type": "execute_result"
    }
   ],
   "source": [
    "# Query the database from the clean data table by sex and create a dataframe\n",
    "sex_df_from_db = pd.read_sql(\"SELECT * FROM clean_data WHERE Dimension == 'Sex'\", conn)\n",
    "sex_df_from_db.head()"
   ]
  },
  {
   "cell_type": "code",
   "execution_count": 581,
   "metadata": {},
   "outputs": [],
   "source": [
    "# Export the dataframes to CSV files\n",
    "age_df_from_db.to_csv(\"data/clean_data_by_age_from_db.csv\", index=False)\n",
    "economic_status_df_from_db.to_csv(\"data/clean_data_by_economic_status_from_db.csv\", index=False)\n",
    "education_df_from_db.to_csv(\"data/clean_data_by_education_from_db.csv\", index=False)\n",
    "residence_df_from_db.to_csv(\"data/clean_data_by_residence_from_db.csv\", index=False)\n",
    "sex_df_from_db.to_csv(\"data/clean_data_by_sex_from_db.csv\", index=False)"
   ]
  }
 ],
 "metadata": {
  "kernelspec": {
   "display_name": "dev",
   "language": "python",
   "name": "python3"
  },
  "language_info": {
   "codemirror_mode": {
    "name": "ipython",
    "version": 3
   },
   "file_extension": ".py",
   "mimetype": "text/x-python",
   "name": "python",
   "nbconvert_exporter": "python",
   "pygments_lexer": "ipython3",
   "version": "3.11.9"
  }
 },
 "nbformat": 4,
 "nbformat_minor": 2
}
