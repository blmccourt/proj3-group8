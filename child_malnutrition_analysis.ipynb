{
 "cells": [
  {
   "cell_type": "code",
   "execution_count": 252,
   "metadata": {},
   "outputs": [],
   "source": [
    "# Import necessary libraries\n",
    "import pandas as pd\n",
    "import numpy as np"
   ]
  },
  {
   "cell_type": "markdown",
   "metadata": {},
   "source": [
    "### Extract data from the data.xlsx file"
   ]
  },
  {
   "cell_type": "code",
   "execution_count": 253,
   "metadata": {},
   "outputs": [
    {
     "data": {
      "text/html": [
       "<div>\n",
       "<style scoped>\n",
       "    .dataframe tbody tr th:only-of-type {\n",
       "        vertical-align: middle;\n",
       "    }\n",
       "\n",
       "    .dataframe tbody tr th {\n",
       "        vertical-align: top;\n",
       "    }\n",
       "\n",
       "    .dataframe thead th {\n",
       "        text-align: right;\n",
       "    }\n",
       "</style>\n",
       "<table border=\"1\" class=\"dataframe\">\n",
       "  <thead>\n",
       "    <tr style=\"text-align: right;\">\n",
       "      <th></th>\n",
       "      <th>setting</th>\n",
       "      <th>date</th>\n",
       "      <th>source</th>\n",
       "      <th>indicator_abbr</th>\n",
       "      <th>indicator_name</th>\n",
       "      <th>dimension</th>\n",
       "      <th>subgroup</th>\n",
       "      <th>estimate</th>\n",
       "      <th>se</th>\n",
       "      <th>ci_lb</th>\n",
       "      <th>...</th>\n",
       "      <th>iso3</th>\n",
       "      <th>favourable_indicator</th>\n",
       "      <th>indicator_scale</th>\n",
       "      <th>ordered_dimension</th>\n",
       "      <th>subgroup_order</th>\n",
       "      <th>reference_subgroup</th>\n",
       "      <th>whoreg6</th>\n",
       "      <th>wbincome2024</th>\n",
       "      <th>dataset_id</th>\n",
       "      <th>update</th>\n",
       "    </tr>\n",
       "  </thead>\n",
       "  <tbody>\n",
       "    <tr>\n",
       "      <th>0</th>\n",
       "      <td>Afghanistan</td>\n",
       "      <td>2004</td>\n",
       "      <td>NNS</td>\n",
       "      <td>overweight</td>\n",
       "      <td>Overweight prevalence in children aged &lt; 5 yea...</td>\n",
       "      <td>Child's age (6 groups) (0-59m)</td>\n",
       "      <td>0-5 months</td>\n",
       "      <td>NaN</td>\n",
       "      <td>NaN</td>\n",
       "      <td>NaN</td>\n",
       "      <td>...</td>\n",
       "      <td>AFG</td>\n",
       "      <td>0</td>\n",
       "      <td>100</td>\n",
       "      <td>1</td>\n",
       "      <td>1</td>\n",
       "      <td>0</td>\n",
       "      <td>Eastern Mediterranean</td>\n",
       "      <td>Low income</td>\n",
       "      <td>rep_nut</td>\n",
       "      <td>17 June 2024</td>\n",
       "    </tr>\n",
       "    <tr>\n",
       "      <th>1</th>\n",
       "      <td>Afghanistan</td>\n",
       "      <td>2004</td>\n",
       "      <td>NNS</td>\n",
       "      <td>overweight</td>\n",
       "      <td>Overweight prevalence in children aged &lt; 5 yea...</td>\n",
       "      <td>Child's age (6 groups) (0-59m)</td>\n",
       "      <td>12-23 months</td>\n",
       "      <td>4.3</td>\n",
       "      <td>NaN</td>\n",
       "      <td>NaN</td>\n",
       "      <td>...</td>\n",
       "      <td>AFG</td>\n",
       "      <td>0</td>\n",
       "      <td>100</td>\n",
       "      <td>1</td>\n",
       "      <td>3</td>\n",
       "      <td>0</td>\n",
       "      <td>Eastern Mediterranean</td>\n",
       "      <td>Low income</td>\n",
       "      <td>rep_nut</td>\n",
       "      <td>17 June 2024</td>\n",
       "    </tr>\n",
       "    <tr>\n",
       "      <th>2</th>\n",
       "      <td>Afghanistan</td>\n",
       "      <td>2004</td>\n",
       "      <td>NNS</td>\n",
       "      <td>overweight</td>\n",
       "      <td>Overweight prevalence in children aged &lt; 5 yea...</td>\n",
       "      <td>Child's age (6 groups) (0-59m)</td>\n",
       "      <td>24-35 months</td>\n",
       "      <td>3.0</td>\n",
       "      <td>NaN</td>\n",
       "      <td>NaN</td>\n",
       "      <td>...</td>\n",
       "      <td>AFG</td>\n",
       "      <td>0</td>\n",
       "      <td>100</td>\n",
       "      <td>1</td>\n",
       "      <td>4</td>\n",
       "      <td>0</td>\n",
       "      <td>Eastern Mediterranean</td>\n",
       "      <td>Low income</td>\n",
       "      <td>rep_nut</td>\n",
       "      <td>17 June 2024</td>\n",
       "    </tr>\n",
       "    <tr>\n",
       "      <th>3</th>\n",
       "      <td>Afghanistan</td>\n",
       "      <td>2004</td>\n",
       "      <td>NNS</td>\n",
       "      <td>overweight</td>\n",
       "      <td>Overweight prevalence in children aged &lt; 5 yea...</td>\n",
       "      <td>Child's age (6 groups) (0-59m)</td>\n",
       "      <td>36-47 months</td>\n",
       "      <td>5.6</td>\n",
       "      <td>NaN</td>\n",
       "      <td>NaN</td>\n",
       "      <td>...</td>\n",
       "      <td>AFG</td>\n",
       "      <td>0</td>\n",
       "      <td>100</td>\n",
       "      <td>1</td>\n",
       "      <td>5</td>\n",
       "      <td>0</td>\n",
       "      <td>Eastern Mediterranean</td>\n",
       "      <td>Low income</td>\n",
       "      <td>rep_nut</td>\n",
       "      <td>17 June 2024</td>\n",
       "    </tr>\n",
       "    <tr>\n",
       "      <th>4</th>\n",
       "      <td>Afghanistan</td>\n",
       "      <td>2004</td>\n",
       "      <td>NNS</td>\n",
       "      <td>overweight</td>\n",
       "      <td>Overweight prevalence in children aged &lt; 5 yea...</td>\n",
       "      <td>Child's age (6 groups) (0-59m)</td>\n",
       "      <td>48-59 months</td>\n",
       "      <td>6.4</td>\n",
       "      <td>NaN</td>\n",
       "      <td>NaN</td>\n",
       "      <td>...</td>\n",
       "      <td>AFG</td>\n",
       "      <td>0</td>\n",
       "      <td>100</td>\n",
       "      <td>1</td>\n",
       "      <td>6</td>\n",
       "      <td>0</td>\n",
       "      <td>Eastern Mediterranean</td>\n",
       "      <td>Low income</td>\n",
       "      <td>rep_nut</td>\n",
       "      <td>17 June 2024</td>\n",
       "    </tr>\n",
       "  </tbody>\n",
       "</table>\n",
       "<p>5 rows × 24 columns</p>\n",
       "</div>"
      ],
      "text/plain": [
       "       setting  date source indicator_abbr  \\\n",
       "0  Afghanistan  2004    NNS     overweight   \n",
       "1  Afghanistan  2004    NNS     overweight   \n",
       "2  Afghanistan  2004    NNS     overweight   \n",
       "3  Afghanistan  2004    NNS     overweight   \n",
       "4  Afghanistan  2004    NNS     overweight   \n",
       "\n",
       "                                      indicator_name  \\\n",
       "0  Overweight prevalence in children aged < 5 yea...   \n",
       "1  Overweight prevalence in children aged < 5 yea...   \n",
       "2  Overweight prevalence in children aged < 5 yea...   \n",
       "3  Overweight prevalence in children aged < 5 yea...   \n",
       "4  Overweight prevalence in children aged < 5 yea...   \n",
       "\n",
       "                        dimension      subgroup  estimate  se  ci_lb  ...  \\\n",
       "0  Child's age (6 groups) (0-59m)    0-5 months       NaN NaN    NaN  ...   \n",
       "1  Child's age (6 groups) (0-59m)  12-23 months       4.3 NaN    NaN  ...   \n",
       "2  Child's age (6 groups) (0-59m)  24-35 months       3.0 NaN    NaN  ...   \n",
       "3  Child's age (6 groups) (0-59m)  36-47 months       5.6 NaN    NaN  ...   \n",
       "4  Child's age (6 groups) (0-59m)  48-59 months       6.4 NaN    NaN  ...   \n",
       "\n",
       "   iso3  favourable_indicator indicator_scale  ordered_dimension  \\\n",
       "0   AFG                     0             100                  1   \n",
       "1   AFG                     0             100                  1   \n",
       "2   AFG                     0             100                  1   \n",
       "3   AFG                     0             100                  1   \n",
       "4   AFG                     0             100                  1   \n",
       "\n",
       "  subgroup_order  reference_subgroup                whoreg6  wbincome2024  \\\n",
       "0              1                   0  Eastern Mediterranean    Low income   \n",
       "1              3                   0  Eastern Mediterranean    Low income   \n",
       "2              4                   0  Eastern Mediterranean    Low income   \n",
       "3              5                   0  Eastern Mediterranean    Low income   \n",
       "4              6                   0  Eastern Mediterranean    Low income   \n",
       "\n",
       "   dataset_id        update  \n",
       "0     rep_nut  17 June 2024  \n",
       "1     rep_nut  17 June 2024  \n",
       "2     rep_nut  17 June 2024  \n",
       "3     rep_nut  17 June 2024  \n",
       "4     rep_nut  17 June 2024  \n",
       "\n",
       "[5 rows x 24 columns]"
      ]
     },
     "execution_count": 253,
     "metadata": {},
     "output_type": "execute_result"
    }
   ],
   "source": [
    "# Read the data into a Pandas DataFrame\n",
    "raw_data_df = pd.read_excel('data/data.xlsx')\n",
    "raw_data_df.head()"
   ]
  },
  {
   "cell_type": "code",
   "execution_count": 254,
   "metadata": {},
   "outputs": [
    {
     "name": "stdout",
     "output_type": "stream",
     "text": [
      "<class 'pandas.core.frame.DataFrame'>\n",
      "RangeIndex: 157095 entries, 0 to 157094\n",
      "Data columns (total 24 columns):\n",
      " #   Column                Non-Null Count   Dtype  \n",
      "---  ------                --------------   -----  \n",
      " 0   setting               157095 non-null  object \n",
      " 1   date                  157095 non-null  int64  \n",
      " 2   source                157095 non-null  object \n",
      " 3   indicator_abbr        157095 non-null  object \n",
      " 4   indicator_name        157095 non-null  object \n",
      " 5   dimension             157095 non-null  object \n",
      " 6   subgroup              157095 non-null  object \n",
      " 7   estimate              153334 non-null  float64\n",
      " 8   se                    136679 non-null  float64\n",
      " 9   ci_lb                 142754 non-null  float64\n",
      " 10  ci_ub                 142754 non-null  float64\n",
      " 11  population            147089 non-null  float64\n",
      " 12  flag                  157095 non-null  object \n",
      " 13  setting_average       157095 non-null  float64\n",
      " 14  iso3                  157095 non-null  object \n",
      " 15  favourable_indicator  157095 non-null  int64  \n",
      " 16  indicator_scale       157095 non-null  int64  \n",
      " 17  ordered_dimension     157095 non-null  int64  \n",
      " 18  subgroup_order        157095 non-null  int64  \n",
      " 19  reference_subgroup    157095 non-null  int64  \n",
      " 20  whoreg6               157095 non-null  object \n",
      " 21  wbincome2024          157095 non-null  object \n",
      " 22  dataset_id            157095 non-null  object \n",
      " 23  update                157095 non-null  object \n",
      "dtypes: float64(6), int64(6), object(12)\n",
      "memory usage: 28.8+ MB\n"
     ]
    }
   ],
   "source": [
    "# Get a brief summary of the raw_data DataFrame.\n",
    "raw_data_df.info()"
   ]
  },
  {
   "cell_type": "markdown",
   "metadata": {},
   "source": [
    "There are 157,095 records and 24 columns of raw data in our dataframe."
   ]
  },
  {
   "cell_type": "markdown",
   "metadata": {},
   "source": [
    "Check for any columns that are empty and drop them from the dataframe."
   ]
  },
  {
   "cell_type": "code",
   "execution_count": 255,
   "metadata": {},
   "outputs": [
    {
     "name": "stdout",
     "output_type": "stream",
     "text": [
      "Empty columns: Index([], dtype='object')\n",
      "DataFrame info after removing empty columns:\n",
      "<class 'pandas.core.frame.DataFrame'>\n",
      "RangeIndex: 157095 entries, 0 to 157094\n",
      "Data columns (total 24 columns):\n",
      " #   Column                Non-Null Count   Dtype  \n",
      "---  ------                --------------   -----  \n",
      " 0   setting               157095 non-null  object \n",
      " 1   date                  157095 non-null  int64  \n",
      " 2   source                157095 non-null  object \n",
      " 3   indicator_abbr        157095 non-null  object \n",
      " 4   indicator_name        157095 non-null  object \n",
      " 5   dimension             157095 non-null  object \n",
      " 6   subgroup              157095 non-null  object \n",
      " 7   estimate              153334 non-null  float64\n",
      " 8   se                    136679 non-null  float64\n",
      " 9   ci_lb                 142754 non-null  float64\n",
      " 10  ci_ub                 142754 non-null  float64\n",
      " 11  population            147089 non-null  float64\n",
      " 12  flag                  157095 non-null  object \n",
      " 13  setting_average       157095 non-null  float64\n",
      " 14  iso3                  157095 non-null  object \n",
      " 15  favourable_indicator  157095 non-null  int64  \n",
      " 16  indicator_scale       157095 non-null  int64  \n",
      " 17  ordered_dimension     157095 non-null  int64  \n",
      " 18  subgroup_order        157095 non-null  int64  \n",
      " 19  reference_subgroup    157095 non-null  int64  \n",
      " 20  whoreg6               157095 non-null  object \n",
      " 21  wbincome2024          157095 non-null  object \n",
      " 22  dataset_id            157095 non-null  object \n",
      " 23  update                157095 non-null  object \n",
      "dtypes: float64(6), int64(6), object(12)\n",
      "memory usage: 28.8+ MB\n"
     ]
    }
   ],
   "source": [
    "# Check for empty columns\n",
    "empty_columns = raw_data_df.columns[raw_data_df.isnull().all()]\n",
    "print(\"Empty columns:\", empty_columns)\n",
    "\n",
    "# Remove empty columns\n",
    "cleaned_df = raw_data_df.dropna(axis=1, how='all')\n",
    "\n",
    "# Verify data frame info\n",
    "print(\"DataFrame info after removing empty columns:\")\n",
    "cleaned_df.info()"
   ]
  },
  {
   "cell_type": "markdown",
   "metadata": {},
   "source": [
    "There are still 24 columns, so no empty columns were found."
   ]
  },
  {
   "cell_type": "markdown",
   "metadata": {},
   "source": [
    "Count the unique values for each column so that we can determine if any have a single value, we can drop them from the dataframe.  Such columns will not provide any meaningful insights."
   ]
  },
  {
   "cell_type": "code",
   "execution_count": 256,
   "metadata": {},
   "outputs": [
    {
     "name": "stdout",
     "output_type": "stream",
     "text": [
      "DataFrame with the count of unique values in each column:\n"
     ]
    },
    {
     "data": {
      "text/html": [
       "<div>\n",
       "<style scoped>\n",
       "    .dataframe tbody tr th:only-of-type {\n",
       "        vertical-align: middle;\n",
       "    }\n",
       "\n",
       "    .dataframe tbody tr th {\n",
       "        vertical-align: top;\n",
       "    }\n",
       "\n",
       "    .dataframe thead th {\n",
       "        text-align: right;\n",
       "    }\n",
       "</style>\n",
       "<table border=\"1\" class=\"dataframe\">\n",
       "  <thead>\n",
       "    <tr style=\"text-align: right;\">\n",
       "      <th></th>\n",
       "      <th>Unique Count</th>\n",
       "    </tr>\n",
       "  </thead>\n",
       "  <tbody>\n",
       "    <tr>\n",
       "      <th>setting</th>\n",
       "      <td>156</td>\n",
       "    </tr>\n",
       "    <tr>\n",
       "      <th>date</th>\n",
       "      <td>34</td>\n",
       "    </tr>\n",
       "    <tr>\n",
       "      <th>source</th>\n",
       "      <td>19</td>\n",
       "    </tr>\n",
       "    <tr>\n",
       "      <th>indicator_abbr</th>\n",
       "      <td>15</td>\n",
       "    </tr>\n",
       "    <tr>\n",
       "      <th>indicator_name</th>\n",
       "      <td>15</td>\n",
       "    </tr>\n",
       "    <tr>\n",
       "      <th>dimension</th>\n",
       "      <td>6</td>\n",
       "    </tr>\n",
       "    <tr>\n",
       "      <th>subgroup</th>\n",
       "      <td>4517</td>\n",
       "    </tr>\n",
       "    <tr>\n",
       "      <th>estimate</th>\n",
       "      <td>130841</td>\n",
       "    </tr>\n",
       "    <tr>\n",
       "      <th>se</th>\n",
       "      <td>135364</td>\n",
       "    </tr>\n",
       "    <tr>\n",
       "      <th>ci_lb</th>\n",
       "      <td>136109</td>\n",
       "    </tr>\n",
       "    <tr>\n",
       "      <th>ci_ub</th>\n",
       "      <td>136147</td>\n",
       "    </tr>\n",
       "    <tr>\n",
       "      <th>population</th>\n",
       "      <td>73542</td>\n",
       "    </tr>\n",
       "    <tr>\n",
       "      <th>flag</th>\n",
       "      <td>1496</td>\n",
       "    </tr>\n",
       "    <tr>\n",
       "      <th>setting_average</th>\n",
       "      <td>11905</td>\n",
       "    </tr>\n",
       "    <tr>\n",
       "      <th>iso3</th>\n",
       "      <td>156</td>\n",
       "    </tr>\n",
       "    <tr>\n",
       "      <th>favourable_indicator</th>\n",
       "      <td>1</td>\n",
       "    </tr>\n",
       "    <tr>\n",
       "      <th>indicator_scale</th>\n",
       "      <td>1</td>\n",
       "    </tr>\n",
       "    <tr>\n",
       "      <th>ordered_dimension</th>\n",
       "      <td>2</td>\n",
       "    </tr>\n",
       "    <tr>\n",
       "      <th>subgroup_order</th>\n",
       "      <td>7</td>\n",
       "    </tr>\n",
       "    <tr>\n",
       "      <th>reference_subgroup</th>\n",
       "      <td>2</td>\n",
       "    </tr>\n",
       "    <tr>\n",
       "      <th>whoreg6</th>\n",
       "      <td>6</td>\n",
       "    </tr>\n",
       "    <tr>\n",
       "      <th>wbincome2024</th>\n",
       "      <td>4</td>\n",
       "    </tr>\n",
       "    <tr>\n",
       "      <th>dataset_id</th>\n",
       "      <td>1</td>\n",
       "    </tr>\n",
       "    <tr>\n",
       "      <th>update</th>\n",
       "      <td>1</td>\n",
       "    </tr>\n",
       "  </tbody>\n",
       "</table>\n",
       "</div>"
      ],
      "text/plain": [
       "                      Unique Count\n",
       "setting                        156\n",
       "date                            34\n",
       "source                          19\n",
       "indicator_abbr                  15\n",
       "indicator_name                  15\n",
       "dimension                        6\n",
       "subgroup                      4517\n",
       "estimate                    130841\n",
       "se                          135364\n",
       "ci_lb                       136109\n",
       "ci_ub                       136147\n",
       "population                   73542\n",
       "flag                          1496\n",
       "setting_average              11905\n",
       "iso3                           156\n",
       "favourable_indicator             1\n",
       "indicator_scale                  1\n",
       "ordered_dimension                2\n",
       "subgroup_order                   7\n",
       "reference_subgroup               2\n",
       "whoreg6                          6\n",
       "wbincome2024                     4\n",
       "dataset_id                       1\n",
       "update                           1"
      ]
     },
     "execution_count": 256,
     "metadata": {},
     "output_type": "execute_result"
    }
   ],
   "source": [
    "# Count the number of unique values in each column\n",
    "unique_counts = cleaned_df.nunique()\n",
    "\n",
    "# Create a new DataFrame to store the counts\n",
    "unique_counts_df = pd.DataFrame(unique_counts, columns=['Unique Count'])\n",
    "\n",
    "# Display the new DataFrame\n",
    "print(\"DataFrame with the count of unique values in each column:\")\n",
    "unique_counts_df"
   ]
  },
  {
   "cell_type": "markdown",
   "metadata": {},
   "source": [
    "Columns 'favourable indicator', 'indicator_scale', 'dataset_id', and 'update' have single values so we can drop them."
   ]
  },
  {
   "cell_type": "code",
   "execution_count": 257,
   "metadata": {},
   "outputs": [
    {
     "name": "stdout",
     "output_type": "stream",
     "text": [
      "DataFrame info after removing single value columns:\n",
      "\n",
      "<class 'pandas.core.frame.DataFrame'>\n",
      "RangeIndex: 157095 entries, 0 to 157094\n",
      "Data columns (total 20 columns):\n",
      " #   Column              Non-Null Count   Dtype  \n",
      "---  ------              --------------   -----  \n",
      " 0   setting             157095 non-null  object \n",
      " 1   date                157095 non-null  int64  \n",
      " 2   source              157095 non-null  object \n",
      " 3   indicator_abbr      157095 non-null  object \n",
      " 4   indicator_name      157095 non-null  object \n",
      " 5   dimension           157095 non-null  object \n",
      " 6   subgroup            157095 non-null  object \n",
      " 7   estimate            153334 non-null  float64\n",
      " 8   se                  136679 non-null  float64\n",
      " 9   ci_lb               142754 non-null  float64\n",
      " 10  ci_ub               142754 non-null  float64\n",
      " 11  population          147089 non-null  float64\n",
      " 12  flag                157095 non-null  object \n",
      " 13  setting_average     157095 non-null  float64\n",
      " 14  iso3                157095 non-null  object \n",
      " 15  ordered_dimension   157095 non-null  int64  \n",
      " 16  subgroup_order      157095 non-null  int64  \n",
      " 17  reference_subgroup  157095 non-null  int64  \n",
      " 18  whoreg6             157095 non-null  object \n",
      " 19  wbincome2024        157095 non-null  object \n",
      "dtypes: float64(6), int64(4), object(10)\n",
      "memory usage: 24.0+ MB\n"
     ]
    }
   ],
   "source": [
    "# Remove columns with a single value from the DataFrame\n",
    "cleaned_df = cleaned_df.drop(columns=['favourable_indicator', 'indicator_scale', 'dataset_id', 'update'])\n",
    "\n",
    "# Display the updated DataFrame\n",
    "print(\"DataFrame info after removing single value columns:\\n\")\n",
    "cleaned_df.info()"
   ]
  },
  {
   "cell_type": "markdown",
   "metadata": {},
   "source": [
    "The four single value columns were correctly dropped.  We now have 20 columns in the dataframe."
   ]
  },
  {
   "cell_type": "markdown",
   "metadata": {},
   "source": [
    "1. The *flag* column includes notes, author, and reference title.\n",
    "2. The *source* column includes a code for reprenting the source data type.\n",
    "3. The meaning of the *reference_subgroup* column is unknown.\n",
    "4. The *se* column refers to the standard error in the prevalence estimate.\n",
    "5. The *ci_lb* and *ci_ub* columns refer to confidence intervals upper and lower bounds respectively.\n",
    "6. The *ordered_dimension* column is a boolean flag that indicates if the *dimension* column is a nominal or ordinal variable.  In this dataset, *0* represents a nominal variable and *1* represents an ordinal variable.  Nominal variables are for the dimensions of *sex*, *place of residence*, and *subnational region*.  Ordinal variables are for the dimensions of *age*, *economic status*, and *education level*. Ordinal dimensions use the *subgroup_order* column to denote the specific ordering.\n",
    "7. The *wbincome2024* column is an income group classification provided by The World Bank.  It is a classification of the subnational region dimension.  This is extra data since economic status is already a covered dimension.\n",
    "\n",
    "None data is needed for our analysis, so we will drop it from the dataframe."
   ]
  },
  {
   "cell_type": "code",
   "execution_count": 258,
   "metadata": {},
   "outputs": [
    {
     "name": "stdout",
     "output_type": "stream",
     "text": [
      "DataFrame info after removing the unecessary columns:\n",
      "\n",
      "<class 'pandas.core.frame.DataFrame'>\n",
      "RangeIndex: 157095 entries, 0 to 157094\n",
      "Data columns (total 12 columns):\n",
      " #   Column           Non-Null Count   Dtype  \n",
      "---  ------           --------------   -----  \n",
      " 0   setting          157095 non-null  object \n",
      " 1   date             157095 non-null  int64  \n",
      " 2   indicator_abbr   157095 non-null  object \n",
      " 3   indicator_name   157095 non-null  object \n",
      " 4   dimension        157095 non-null  object \n",
      " 5   subgroup         157095 non-null  object \n",
      " 6   estimate         153334 non-null  float64\n",
      " 7   population       147089 non-null  float64\n",
      " 8   setting_average  157095 non-null  float64\n",
      " 9   iso3             157095 non-null  object \n",
      " 10  subgroup_order   157095 non-null  int64  \n",
      " 11  whoreg6          157095 non-null  object \n",
      "dtypes: float64(3), int64(2), object(7)\n",
      "memory usage: 14.4+ MB\n"
     ]
    }
   ],
   "source": [
    "# Remove 'flag' column from the DataFrame\n",
    "cleaned_df = cleaned_df.drop(columns=['flag', 'source', 'reference_subgroup', 'se', 'ci_lb', 'ci_ub', 'ordered_dimension', 'wbincome2024'])\n",
    "\n",
    "# Display the updated DataFrame\n",
    "print(\"DataFrame info after removing the unecessary columns:\\n\")\n",
    "cleaned_df.info()"
   ]
  },
  {
   "cell_type": "markdown",
   "metadata": {},
   "source": [
    "Rename the columns with more intuitive titles and reorder them."
   ]
  },
  {
   "cell_type": "code",
   "execution_count": 259,
   "metadata": {},
   "outputs": [
    {
     "name": "stdout",
     "output_type": "stream",
     "text": [
      "<class 'pandas.core.frame.DataFrame'>\n",
      "RangeIndex: 157095 entries, 0 to 157094\n",
      "Data columns (total 12 columns):\n",
      " #   Column                           Non-Null Count   Dtype  \n",
      "---  ------                           --------------   -----  \n",
      " 0   Region                           157095 non-null  object \n",
      " 1   Country ISO-3 Code               157095 non-null  object \n",
      " 2   Country                          157095 non-null  object \n",
      " 3   Year                             157095 non-null  int64  \n",
      " 4   Dimension                        157095 non-null  object \n",
      " 5   Dimension Value                  157095 non-null  object \n",
      " 6   Dimension Value Order            157095 non-null  int64  \n",
      " 7   Anthropometric Indicator         157095 non-null  object \n",
      " 8   Indicator Description            157095 non-null  object \n",
      " 9   Prevalence Estimate %            153334 non-null  float64\n",
      " 10  Under-Five Population (million)  147089 non-null  float64\n",
      " 11  Country Avg                      157095 non-null  float64\n",
      "dtypes: float64(3), int64(2), object(7)\n",
      "memory usage: 14.4+ MB\n"
     ]
    }
   ],
   "source": [
    "# Rename the columns\n",
    "cleaned_df = cleaned_df.rename(columns={\n",
    "    'setting': 'Country',\n",
    "    'date': 'Year',\n",
    "    'indicator_abbr': 'Anthropometric Indicator',\n",
    "    'indicator_name': 'Indicator Description',\n",
    "    'dimension': 'Dimension',\n",
    "    'subgroup': 'Dimension Value',\n",
    "    'subgroup_order': 'Dimension Value Order',\n",
    "    'setting_average': 'Country Avg',\n",
    "    'iso3': 'Country ISO-3 Code',\n",
    "    'whoreg6': 'Region',\n",
    "    'estimate': 'Prevalence Estimate %',\n",
    "    'population': 'Under-Five Population (million)'\n",
    "})\n",
    "\n",
    "# Reorder the columns\n",
    "cleaned_df = cleaned_df[\n",
    "    [\n",
    "        'Region',\n",
    "        'Country ISO-3 Code',\n",
    "        'Country',\n",
    "        'Year',\n",
    "        'Dimension',\n",
    "        'Dimension Value',\n",
    "        'Dimension Value Order',\n",
    "        'Anthropometric Indicator',\n",
    "        'Indicator Description',\n",
    "        'Prevalence Estimate %',\n",
    "        'Under-Five Population (million)',\n",
    "        'Country Avg'\n",
    "    ]\n",
    "]\n",
    "\n",
    "# Check the DataFrame information\n",
    "cleaned_df.info()"
   ]
  },
  {
   "cell_type": "markdown",
   "metadata": {},
   "source": [
    "From the summary information, we see that columns Prevalence Estimate % and Under-Five Population (million) have empty values.  Those rows need to be removed from the dataframe."
   ]
  },
  {
   "cell_type": "code",
   "execution_count": 260,
   "metadata": {},
   "outputs": [
    {
     "name": "stdout",
     "output_type": "stream",
     "text": [
      "<class 'pandas.core.frame.DataFrame'>\n",
      "Index: 147089 entries, 1 to 157094\n",
      "Data columns (total 12 columns):\n",
      " #   Column                           Non-Null Count   Dtype  \n",
      "---  ------                           --------------   -----  \n",
      " 0   Region                           147089 non-null  object \n",
      " 1   Country ISO-3 Code               147089 non-null  object \n",
      " 2   Country                          147089 non-null  object \n",
      " 3   Year                             147089 non-null  int64  \n",
      " 4   Dimension                        147089 non-null  object \n",
      " 5   Dimension Value                  147089 non-null  object \n",
      " 6   Dimension Value Order            147089 non-null  int64  \n",
      " 7   Anthropometric Indicator         147089 non-null  object \n",
      " 8   Indicator Description            147089 non-null  object \n",
      " 9   Prevalence Estimate %            147089 non-null  float64\n",
      " 10  Under-Five Population (million)  147089 non-null  float64\n",
      " 11  Country Avg                      147089 non-null  float64\n",
      "dtypes: float64(3), int64(2), object(7)\n",
      "memory usage: 14.6+ MB\n"
     ]
    }
   ],
   "source": [
    "# Remove rows where 'Under-Five Population (million)' and 'Prevalence Estimate %' are empty\n",
    "cleaned_df = cleaned_df.dropna(subset=['Under-Five Population (million)', 'Prevalence Estimate %'])\n",
    "\n",
    "# Check the DataFrame after dropping rows\n",
    "cleaned_df.info()"
   ]
  },
  {
   "cell_type": "markdown",
   "metadata": {},
   "source": [
    "The Child's Age dimension includes additional indicators that append M and F to the Anthropometric Indicator.  These entries are redundant to our analysis as we already have aggregate data for the dimension of Sex.  We remove these rows."
   ]
  },
  {
   "cell_type": "code",
   "execution_count": 261,
   "metadata": {},
   "outputs": [
    {
     "name": "stdout",
     "output_type": "stream",
     "text": [
      "<class 'pandas.core.frame.DataFrame'>\n",
      "Index: 100770 entries, 1 to 157082\n",
      "Data columns (total 12 columns):\n",
      " #   Column                           Non-Null Count   Dtype  \n",
      "---  ------                           --------------   -----  \n",
      " 0   Region                           100770 non-null  object \n",
      " 1   Country ISO-3 Code               100770 non-null  object \n",
      " 2   Country                          100770 non-null  object \n",
      " 3   Year                             100770 non-null  int64  \n",
      " 4   Dimension                        100770 non-null  object \n",
      " 5   Dimension Value                  100770 non-null  object \n",
      " 6   Dimension Value Order            100770 non-null  int64  \n",
      " 7   Anthropometric Indicator         100770 non-null  object \n",
      " 8   Indicator Description            100770 non-null  object \n",
      " 9   Prevalence Estimate %            100770 non-null  float64\n",
      " 10  Under-Five Population (million)  100770 non-null  float64\n",
      " 11  Country Avg                      100770 non-null  float64\n",
      "dtypes: float64(3), int64(2), object(7)\n",
      "memory usage: 10.0+ MB\n"
     ]
    }
   ],
   "source": [
    "# Remove rows where 'Anthropometric Indicator' ends with '_F' or '_M'\n",
    "cleaned_df = cleaned_df[~cleaned_df['Anthropometric Indicator'].str.endswith(('_F', '_M'))]\n",
    "\n",
    "# Check the DataFrame after dropping rows\n",
    "cleaned_df.info()"
   ]
  },
  {
   "cell_type": "markdown",
   "metadata": {},
   "source": [
    "The Sub-national Region dimension value is irrelevant to our analysis and is also only tied to the World Bank Income Group column, so those rows will be removed."
   ]
  },
  {
   "cell_type": "code",
   "execution_count": 262,
   "metadata": {},
   "outputs": [
    {
     "name": "stdout",
     "output_type": "stream",
     "text": [
      "<class 'pandas.core.frame.DataFrame'>\n",
      "Index: 56618 entries, 1 to 157082\n",
      "Data columns (total 12 columns):\n",
      " #   Column                           Non-Null Count  Dtype  \n",
      "---  ------                           --------------  -----  \n",
      " 0   Region                           56618 non-null  object \n",
      " 1   Country ISO-3 Code               56618 non-null  object \n",
      " 2   Country                          56618 non-null  object \n",
      " 3   Year                             56618 non-null  int64  \n",
      " 4   Dimension                        56618 non-null  object \n",
      " 5   Dimension Value                  56618 non-null  object \n",
      " 6   Dimension Value Order            56618 non-null  int64  \n",
      " 7   Anthropometric Indicator         56618 non-null  object \n",
      " 8   Indicator Description            56618 non-null  object \n",
      " 9   Prevalence Estimate %            56618 non-null  float64\n",
      " 10  Under-Five Population (million)  56618 non-null  float64\n",
      " 11  Country Avg                      56618 non-null  float64\n",
      "dtypes: float64(3), int64(2), object(7)\n",
      "memory usage: 5.6+ MB\n"
     ]
    }
   ],
   "source": [
    "# Remove entries where 'Dimension' is 'Subnational Region'\n",
    "cleaned_df = cleaned_df[cleaned_df['Dimension'] != 'Subnational region']\n",
    "\n",
    "# Check the DataFrame after dropping rows\n",
    "cleaned_df.info()"
   ]
  },
  {
   "cell_type": "markdown",
   "metadata": {},
   "source": [
    "After removing unecessary columns and rows, as well as empty rows, we are left with 56,618 entries and 12 columns."
   ]
  },
  {
   "cell_type": "markdown",
   "metadata": {},
   "source": [
    "We now move to creating new dataframes in order to normalize our data."
   ]
  },
  {
   "cell_type": "code",
   "execution_count": 152,
   "metadata": {},
   "outputs": [
    {
     "name": "stdout",
     "output_type": "stream",
     "text": [
      "       Country ISO-3 Code                         Country\n",
      "1                     AFG                     Afghanistan\n",
      "1005                  ALB                         Albania\n",
      "1555                  DZA                         Algeria\n",
      "2600                  AGO                          Angola\n",
      "3164                  ARG                       Argentina\n",
      "...                   ...                             ...\n",
      "144521                VNM                        Viet Nam\n",
      "151646                YEM                           Yemen\n",
      "153070                ZMB                          Zambia\n",
      "154420                ZWE                        Zimbabwe\n",
      "156020                PSE  occupied Palestinian territory\n",
      "\n",
      "[154 rows x 2 columns]\n"
     ]
    }
   ],
   "source": [
    "# Create a new DataFrame with unique values from 'Country ISO-3 Code' and 'Country' columns\n",
    "country_df = cleaned_df[['Country ISO-3 Code', 'Country']].drop_duplicates()\n",
    "\n",
    "# Display the new DataFrame\n",
    "print(country_df)"
   ]
  },
  {
   "cell_type": "code",
   "execution_count": 168,
   "metadata": {},
   "outputs": [
    {
     "name": "stdout",
     "output_type": "stream",
     "text": [
      "[  1   2   3   4   5   6   7   8   9  10  11  12  13  14  15  16  17  18\n",
      "  19  20  21  22  23  24  25  26  27  28  29  30  31  32  33  34  35  36\n",
      "  37  38  39  40  41  42  43  44  45  46  47  48  49  50  51  52  53  54\n",
      "  55  56  57  58  59  60  61  62  63  64  65  66  67  68  69  70  71  72\n",
      "  73  74  75  76  77  78  79  80  81  82  83  84  85  86  87  88  89  90\n",
      "  91  92  93  94  95  96  97  98  99 100 101 102 103 104 105 106 107 108\n",
      " 109 110 111 112 113 114 115 116 117 118 119 120 121 122 123 124 125 126\n",
      " 127 128 129 130 131 132 133 134 135 136 137 138 139 140 141 142 143 144\n",
      " 145 146 147 148 149 150 151 152 153 154]\n"
     ]
    }
   ],
   "source": [
    "# Create numpy array for each of the countries\n",
    "country_ids = np.arange(1, len(country_df) + 1)\n",
    "print(country_ids)"
   ]
  },
  {
   "cell_type": "code",
   "execution_count": 169,
   "metadata": {},
   "outputs": [
    {
     "name": "stdout",
     "output_type": "stream",
     "text": [
      "['ctry1', 'ctry2', 'ctry3', 'ctry4', 'ctry5', 'ctry6', 'ctry7', 'ctry8', 'ctry9', 'ctry10', 'ctry11', 'ctry12', 'ctry13', 'ctry14', 'ctry15', 'ctry16', 'ctry17', 'ctry18', 'ctry19', 'ctry20', 'ctry21', 'ctry22', 'ctry23', 'ctry24', 'ctry25', 'ctry26', 'ctry27', 'ctry28', 'ctry29', 'ctry30', 'ctry31', 'ctry32', 'ctry33', 'ctry34', 'ctry35', 'ctry36', 'ctry37', 'ctry38', 'ctry39', 'ctry40', 'ctry41', 'ctry42', 'ctry43', 'ctry44', 'ctry45', 'ctry46', 'ctry47', 'ctry48', 'ctry49', 'ctry50', 'ctry51', 'ctry52', 'ctry53', 'ctry54', 'ctry55', 'ctry56', 'ctry57', 'ctry58', 'ctry59', 'ctry60', 'ctry61', 'ctry62', 'ctry63', 'ctry64', 'ctry65', 'ctry66', 'ctry67', 'ctry68', 'ctry69', 'ctry70', 'ctry71', 'ctry72', 'ctry73', 'ctry74', 'ctry75', 'ctry76', 'ctry77', 'ctry78', 'ctry79', 'ctry80', 'ctry81', 'ctry82', 'ctry83', 'ctry84', 'ctry85', 'ctry86', 'ctry87', 'ctry88', 'ctry89', 'ctry90', 'ctry91', 'ctry92', 'ctry93', 'ctry94', 'ctry95', 'ctry96', 'ctry97', 'ctry98', 'ctry99', 'ctry100', 'ctry101', 'ctry102', 'ctry103', 'ctry104', 'ctry105', 'ctry106', 'ctry107', 'ctry108', 'ctry109', 'ctry110', 'ctry111', 'ctry112', 'ctry113', 'ctry114', 'ctry115', 'ctry116', 'ctry117', 'ctry118', 'ctry119', 'ctry120', 'ctry121', 'ctry122', 'ctry123', 'ctry124', 'ctry125', 'ctry126', 'ctry127', 'ctry128', 'ctry129', 'ctry130', 'ctry131', 'ctry132', 'ctry133', 'ctry134', 'ctry135', 'ctry136', 'ctry137', 'ctry138', 'ctry139', 'ctry140', 'ctry141', 'ctry142', 'ctry143', 'ctry144', 'ctry145', 'ctry146', 'ctry147', 'ctry148', 'ctry149', 'ctry150', 'ctry151', 'ctry152', 'ctry153', 'ctry154']\n"
     ]
    }
   ],
   "source": [
    "# Use a list comprehension to add \"ctry\" to each country_id.\n",
    "ctry_ids = [\"ctry\" + str(ctry_id) for ctry_id in country_ids]\n",
    "\n",
    "print(ctry_ids)"
   ]
  },
  {
   "cell_type": "code",
   "execution_count": 170,
   "metadata": {},
   "outputs": [
    {
     "name": "stdout",
     "output_type": "stream",
     "text": [
      "       Country ISO-3 Code                         Country Country ID\n",
      "1                     AFG                     Afghanistan      ctry1\n",
      "1005                  ALB                         Albania      ctry2\n",
      "1555                  DZA                         Algeria      ctry3\n",
      "2600                  AGO                          Angola      ctry4\n",
      "3164                  ARG                       Argentina      ctry5\n",
      "...                   ...                             ...        ...\n",
      "144521                VNM                        Viet Nam    ctry150\n",
      "151646                YEM                           Yemen    ctry151\n",
      "153070                ZMB                          Zambia    ctry152\n",
      "154420                ZWE                        Zimbabwe    ctry153\n",
      "156020                PSE  occupied Palestinian territory    ctry154\n",
      "\n",
      "[154 rows x 3 columns]\n"
     ]
    }
   ],
   "source": [
    "# Add the ctry_ids list as a new column\n",
    "country_df['Country ID'] = ctry_ids\n",
    "print(country_df)"
   ]
  },
  {
   "cell_type": "code",
   "execution_count": 171,
   "metadata": {},
   "outputs": [
    {
     "data": {
      "text/html": [
       "<div>\n",
       "<style scoped>\n",
       "    .dataframe tbody tr th:only-of-type {\n",
       "        vertical-align: middle;\n",
       "    }\n",
       "\n",
       "    .dataframe tbody tr th {\n",
       "        vertical-align: top;\n",
       "    }\n",
       "\n",
       "    .dataframe thead th {\n",
       "        text-align: right;\n",
       "    }\n",
       "</style>\n",
       "<table border=\"1\" class=\"dataframe\">\n",
       "  <thead>\n",
       "    <tr style=\"text-align: right;\">\n",
       "      <th></th>\n",
       "      <th>Country ID</th>\n",
       "      <th>Country ISO-3 Code</th>\n",
       "      <th>Country</th>\n",
       "    </tr>\n",
       "  </thead>\n",
       "  <tbody>\n",
       "    <tr>\n",
       "      <th>1</th>\n",
       "      <td>ctry1</td>\n",
       "      <td>AFG</td>\n",
       "      <td>Afghanistan</td>\n",
       "    </tr>\n",
       "    <tr>\n",
       "      <th>1005</th>\n",
       "      <td>ctry2</td>\n",
       "      <td>ALB</td>\n",
       "      <td>Albania</td>\n",
       "    </tr>\n",
       "    <tr>\n",
       "      <th>1555</th>\n",
       "      <td>ctry3</td>\n",
       "      <td>DZA</td>\n",
       "      <td>Algeria</td>\n",
       "    </tr>\n",
       "    <tr>\n",
       "      <th>2600</th>\n",
       "      <td>ctry4</td>\n",
       "      <td>AGO</td>\n",
       "      <td>Angola</td>\n",
       "    </tr>\n",
       "    <tr>\n",
       "      <th>3164</th>\n",
       "      <td>ctry5</td>\n",
       "      <td>ARG</td>\n",
       "      <td>Argentina</td>\n",
       "    </tr>\n",
       "    <tr>\n",
       "      <th>...</th>\n",
       "      <td>...</td>\n",
       "      <td>...</td>\n",
       "      <td>...</td>\n",
       "    </tr>\n",
       "    <tr>\n",
       "      <th>144521</th>\n",
       "      <td>ctry150</td>\n",
       "      <td>VNM</td>\n",
       "      <td>Viet Nam</td>\n",
       "    </tr>\n",
       "    <tr>\n",
       "      <th>151646</th>\n",
       "      <td>ctry151</td>\n",
       "      <td>YEM</td>\n",
       "      <td>Yemen</td>\n",
       "    </tr>\n",
       "    <tr>\n",
       "      <th>153070</th>\n",
       "      <td>ctry152</td>\n",
       "      <td>ZMB</td>\n",
       "      <td>Zambia</td>\n",
       "    </tr>\n",
       "    <tr>\n",
       "      <th>154420</th>\n",
       "      <td>ctry153</td>\n",
       "      <td>ZWE</td>\n",
       "      <td>Zimbabwe</td>\n",
       "    </tr>\n",
       "    <tr>\n",
       "      <th>156020</th>\n",
       "      <td>ctry154</td>\n",
       "      <td>PSE</td>\n",
       "      <td>occupied Palestinian territory</td>\n",
       "    </tr>\n",
       "  </tbody>\n",
       "</table>\n",
       "<p>154 rows × 3 columns</p>\n",
       "</div>"
      ],
      "text/plain": [
       "       Country ID Country ISO-3 Code                         Country\n",
       "1           ctry1                AFG                     Afghanistan\n",
       "1005        ctry2                ALB                         Albania\n",
       "1555        ctry3                DZA                         Algeria\n",
       "2600        ctry4                AGO                          Angola\n",
       "3164        ctry5                ARG                       Argentina\n",
       "...           ...                ...                             ...\n",
       "144521    ctry150                VNM                        Viet Nam\n",
       "151646    ctry151                YEM                           Yemen\n",
       "153070    ctry152                ZMB                          Zambia\n",
       "154420    ctry153                ZWE                        Zimbabwe\n",
       "156020    ctry154                PSE  occupied Palestinian territory\n",
       "\n",
       "[154 rows x 3 columns]"
      ]
     },
     "execution_count": 171,
     "metadata": {},
     "output_type": "execute_result"
    }
   ],
   "source": [
    "# Reorder the columns so that 'Country ID' is first\n",
    "country_df = country_df[['Country ID', 'Country ISO-3 Code', 'Country']]\n",
    "\n",
    "# Display the updated DataFrame\n",
    "country_df"
   ]
  },
  {
   "cell_type": "code",
   "execution_count": 173,
   "metadata": {},
   "outputs": [],
   "source": [
    "# Export country_df as CSV file.\n",
    "country_df.to_csv(\"data/country.csv\", index=False)"
   ]
  },
  {
   "cell_type": "code",
   "execution_count": 218,
   "metadata": {},
   "outputs": [
    {
     "name": "stdout",
     "output_type": "stream",
     "text": [
      "   Anthropometric Indicator                              Indicator Description\n",
      "1                overweight  Overweight prevalence in children aged < 5 yea...\n",
      "21                 stunting  Stunting prevalence in children aged < 5 years...\n",
      "41              underweight  Underweight prevalence in children aged < 5 ye...\n",
      "61                  wasting  Wasting prevalence in children aged < 5 years (%)\n",
      "81               wastingsev  Severe wasting prevalence in children aged < 5...\n"
     ]
    }
   ],
   "source": [
    "# Create a new DataFrame with unique values from 'Anthropometric Indicator' and 'Indicator Description' columns\n",
    "indicator_df = cleaned_df[['Anthropometric Indicator', 'Indicator Description']].drop_duplicates()\n",
    "\n",
    "# Display the new DataFrame\n",
    "print(indicator_df)"
   ]
  },
  {
   "cell_type": "code",
   "execution_count": 219,
   "metadata": {},
   "outputs": [
    {
     "name": "stdout",
     "output_type": "stream",
     "text": [
      "[1 2 3 4 5]\n"
     ]
    }
   ],
   "source": [
    "# Create numpy array for each of the Dimensions\n",
    "indicator_ids = np.arange(1, len(indicator_df) + 1)\n",
    "print(indicator_ids)"
   ]
  },
  {
   "cell_type": "code",
   "execution_count": 220,
   "metadata": {},
   "outputs": [
    {
     "name": "stdout",
     "output_type": "stream",
     "text": [
      "['ind1', 'ind2', 'ind3', 'ind4', 'ind5']\n"
     ]
    }
   ],
   "source": [
    "# Use a list comprehension to add \"ind\" to each ind_id.\n",
    "ind_ids = [\"ind\" + str(ind_id) for ind_id in indicator_ids]\n",
    "\n",
    "print(ind_ids)"
   ]
  },
  {
   "cell_type": "code",
   "execution_count": 221,
   "metadata": {},
   "outputs": [
    {
     "name": "stdout",
     "output_type": "stream",
     "text": [
      "   Anthropometric Indicator  \\\n",
      "1                overweight   \n",
      "21                 stunting   \n",
      "41              underweight   \n",
      "61                  wasting   \n",
      "81               wastingsev   \n",
      "\n",
      "                                Indicator Description Indicator ID  \n",
      "1   Overweight prevalence in children aged < 5 yea...         ind1  \n",
      "21  Stunting prevalence in children aged < 5 years...         ind2  \n",
      "41  Underweight prevalence in children aged < 5 ye...         ind3  \n",
      "61  Wasting prevalence in children aged < 5 years (%)         ind4  \n",
      "81  Severe wasting prevalence in children aged < 5...         ind5  \n"
     ]
    }
   ],
   "source": [
    "# Add the ind_ids list as a new column\n",
    "indicator_df['Indicator ID'] = ind_ids\n",
    "\n",
    "print(indicator_df)"
   ]
  },
  {
   "cell_type": "code",
   "execution_count": 222,
   "metadata": {},
   "outputs": [
    {
     "data": {
      "text/html": [
       "<div>\n",
       "<style scoped>\n",
       "    .dataframe tbody tr th:only-of-type {\n",
       "        vertical-align: middle;\n",
       "    }\n",
       "\n",
       "    .dataframe tbody tr th {\n",
       "        vertical-align: top;\n",
       "    }\n",
       "\n",
       "    .dataframe thead th {\n",
       "        text-align: right;\n",
       "    }\n",
       "</style>\n",
       "<table border=\"1\" class=\"dataframe\">\n",
       "  <thead>\n",
       "    <tr style=\"text-align: right;\">\n",
       "      <th></th>\n",
       "      <th>Indicator ID</th>\n",
       "      <th>Anthropometric Indicator</th>\n",
       "      <th>Indicator Description</th>\n",
       "    </tr>\n",
       "  </thead>\n",
       "  <tbody>\n",
       "    <tr>\n",
       "      <th>1</th>\n",
       "      <td>ind1</td>\n",
       "      <td>overweight</td>\n",
       "      <td>Overweight prevalence in children aged &lt; 5 yea...</td>\n",
       "    </tr>\n",
       "    <tr>\n",
       "      <th>21</th>\n",
       "      <td>ind2</td>\n",
       "      <td>stunting</td>\n",
       "      <td>Stunting prevalence in children aged &lt; 5 years...</td>\n",
       "    </tr>\n",
       "    <tr>\n",
       "      <th>41</th>\n",
       "      <td>ind3</td>\n",
       "      <td>underweight</td>\n",
       "      <td>Underweight prevalence in children aged &lt; 5 ye...</td>\n",
       "    </tr>\n",
       "    <tr>\n",
       "      <th>61</th>\n",
       "      <td>ind4</td>\n",
       "      <td>wasting</td>\n",
       "      <td>Wasting prevalence in children aged &lt; 5 years (%)</td>\n",
       "    </tr>\n",
       "    <tr>\n",
       "      <th>81</th>\n",
       "      <td>ind5</td>\n",
       "      <td>wastingsev</td>\n",
       "      <td>Severe wasting prevalence in children aged &lt; 5...</td>\n",
       "    </tr>\n",
       "  </tbody>\n",
       "</table>\n",
       "</div>"
      ],
      "text/plain": [
       "   Indicator ID Anthropometric Indicator  \\\n",
       "1          ind1               overweight   \n",
       "21         ind2                 stunting   \n",
       "41         ind3              underweight   \n",
       "61         ind4                  wasting   \n",
       "81         ind5               wastingsev   \n",
       "\n",
       "                                Indicator Description  \n",
       "1   Overweight prevalence in children aged < 5 yea...  \n",
       "21  Stunting prevalence in children aged < 5 years...  \n",
       "41  Underweight prevalence in children aged < 5 ye...  \n",
       "61  Wasting prevalence in children aged < 5 years (%)  \n",
       "81  Severe wasting prevalence in children aged < 5...  "
      ]
     },
     "execution_count": 222,
     "metadata": {},
     "output_type": "execute_result"
    }
   ],
   "source": [
    "# Reorder the columns so that 'Indicator ID' is first\n",
    "indicator_df = indicator_df[['Indicator ID', 'Anthropometric Indicator', 'Indicator Description']]\n",
    "\n",
    "# Display the updated DataFrame\n",
    "indicator_df"
   ]
  },
  {
   "cell_type": "code",
   "execution_count": 223,
   "metadata": {},
   "outputs": [],
   "source": [
    "# Export indicator_df as CSV file.\n",
    "indicator_df.to_csv(\"data/indicator.csv\", index=False)"
   ]
  },
  {
   "cell_type": "code",
   "execution_count": 227,
   "metadata": {},
   "outputs": [
    {
     "name": "stdout",
     "output_type": "stream",
     "text": [
      "                             Dimension\n",
      "1       Child's age (6 groups) (0-59m)\n",
      "6                                  Sex\n",
      "106                 Place of residence\n",
      "386  Economic status (wealth quintile)\n",
      "391               Education (3 groups)\n"
     ]
    }
   ],
   "source": [
    "# Create a new DataFrame with unique values from the 'Dimension' column\n",
    "dimension_df = cleaned_df[['Dimension']].drop_duplicates()\n",
    "\n",
    "# Display the new DataFrame\n",
    "print(dimension_df)"
   ]
  },
  {
   "cell_type": "code",
   "execution_count": 228,
   "metadata": {},
   "outputs": [
    {
     "name": "stdout",
     "output_type": "stream",
     "text": [
      "[1 2 3 4 5]\n"
     ]
    }
   ],
   "source": [
    "# Create numpy array for each of the Dimensions\n",
    "dimension_ids = np.arange(1, len(dimension_df) + 1)\n",
    "print(dimension_ids)"
   ]
  },
  {
   "cell_type": "code",
   "execution_count": 229,
   "metadata": {},
   "outputs": [
    {
     "name": "stdout",
     "output_type": "stream",
     "text": [
      "['dim1', 'dim2', 'dim3', 'dim4', 'dim5']\n"
     ]
    }
   ],
   "source": [
    "# Use a list comprehension to add \"dim\" to each dimension_id.\n",
    "dim_ids = [\"dim\" + str(dim_id) for dim_id in dimension_ids]\n",
    "\n",
    "print(dim_ids)"
   ]
  },
  {
   "cell_type": "code",
   "execution_count": 230,
   "metadata": {},
   "outputs": [
    {
     "name": "stdout",
     "output_type": "stream",
     "text": [
      "                             Dimension  Dimension ID\n",
      "1       Child's age (6 groups) (0-59m)             1\n",
      "6                                  Sex             2\n",
      "106                 Place of residence             3\n",
      "386  Economic status (wealth quintile)             4\n",
      "391               Education (3 groups)             5\n"
     ]
    }
   ],
   "source": [
    "# Add the dimension_ids list as a new column\n",
    "dimension_df['Dimension ID'] = dimension_ids\n",
    "\n",
    "print(dimension_df)"
   ]
  },
  {
   "cell_type": "code",
   "execution_count": 231,
   "metadata": {},
   "outputs": [
    {
     "data": {
      "text/html": [
       "<div>\n",
       "<style scoped>\n",
       "    .dataframe tbody tr th:only-of-type {\n",
       "        vertical-align: middle;\n",
       "    }\n",
       "\n",
       "    .dataframe tbody tr th {\n",
       "        vertical-align: top;\n",
       "    }\n",
       "\n",
       "    .dataframe thead th {\n",
       "        text-align: right;\n",
       "    }\n",
       "</style>\n",
       "<table border=\"1\" class=\"dataframe\">\n",
       "  <thead>\n",
       "    <tr style=\"text-align: right;\">\n",
       "      <th></th>\n",
       "      <th>Dimension ID</th>\n",
       "      <th>Dimension</th>\n",
       "    </tr>\n",
       "  </thead>\n",
       "  <tbody>\n",
       "    <tr>\n",
       "      <th>1</th>\n",
       "      <td>1</td>\n",
       "      <td>Child's age (6 groups) (0-59m)</td>\n",
       "    </tr>\n",
       "    <tr>\n",
       "      <th>6</th>\n",
       "      <td>2</td>\n",
       "      <td>Sex</td>\n",
       "    </tr>\n",
       "    <tr>\n",
       "      <th>106</th>\n",
       "      <td>3</td>\n",
       "      <td>Place of residence</td>\n",
       "    </tr>\n",
       "    <tr>\n",
       "      <th>386</th>\n",
       "      <td>4</td>\n",
       "      <td>Economic status (wealth quintile)</td>\n",
       "    </tr>\n",
       "    <tr>\n",
       "      <th>391</th>\n",
       "      <td>5</td>\n",
       "      <td>Education (3 groups)</td>\n",
       "    </tr>\n",
       "  </tbody>\n",
       "</table>\n",
       "</div>"
      ],
      "text/plain": [
       "     Dimension ID                          Dimension\n",
       "1               1     Child's age (6 groups) (0-59m)\n",
       "6               2                                Sex\n",
       "106             3                 Place of residence\n",
       "386             4  Economic status (wealth quintile)\n",
       "391             5               Education (3 groups)"
      ]
     },
     "execution_count": 231,
     "metadata": {},
     "output_type": "execute_result"
    }
   ],
   "source": [
    "# Reorder the columns so that 'Dimension ID' is first, then 'Dimension'\n",
    "dimension_df = dimension_df[['Dimension ID', 'Dimension']]\n",
    "\n",
    "# Display the updated DataFrame\n",
    "dimension_df"
   ]
  },
  {
   "cell_type": "code",
   "execution_count": 232,
   "metadata": {},
   "outputs": [],
   "source": [
    "# Export dimension_df as CSV file.\n",
    "dimension_df.to_csv(\"data/dimension.csv\", index=False)"
   ]
  },
  {
   "cell_type": "code",
   "execution_count": 233,
   "metadata": {},
   "outputs": [
    {
     "name": "stdout",
     "output_type": "stream",
     "text": [
      "                   Dimension Value\n",
      "1                     12-23 months\n",
      "2                     24-35 months\n",
      "3                     36-47 months\n",
      "4                     48-59 months\n",
      "5                      6-11 months\n",
      "6                           Female\n",
      "7                             Male\n",
      "100                     0-5 months\n",
      "106                          Rural\n",
      "107                          Urban\n",
      "386           Quintile 1 (poorest)\n",
      "387                     Quintile 2\n",
      "388                     Quintile 3\n",
      "389                     Quintile 4\n",
      "390           Quintile 5 (richest)\n",
      "391                   No education\n",
      "392              Primary education\n",
      "393  Secondary or higher education\n"
     ]
    }
   ],
   "source": [
    "# Create a new DataFrame with unique values from the 'Dimension Value' column\n",
    "dimension_value_df = cleaned_df[['Dimension Value']].drop_duplicates()\n",
    "\n",
    "# Display the new DataFrame\n",
    "print(dimension_value_df)"
   ]
  },
  {
   "cell_type": "code",
   "execution_count": 234,
   "metadata": {},
   "outputs": [
    {
     "name": "stdout",
     "output_type": "stream",
     "text": [
      "[ 1  2  3  4  5  6  7  8  9 10 11 12 13 14 15 16 17 18]\n"
     ]
    }
   ],
   "source": [
    "# Create numpy array for each of the dimension values\n",
    "dimension_value_ids = np.arange(1, len(dimension_value_df) + 1)\n",
    "print(dimension_value_ids)"
   ]
  },
  {
   "cell_type": "code",
   "execution_count": 235,
   "metadata": {},
   "outputs": [
    {
     "name": "stdout",
     "output_type": "stream",
     "text": [
      "['dimval1', 'dimval2', 'dimval3', 'dimval4', 'dimval5', 'dimval6', 'dimval7', 'dimval8', 'dimval9', 'dimval10', 'dimval11', 'dimval12', 'dimval13', 'dimval14', 'dimval15', 'dimval16', 'dimval17', 'dimval18']\n"
     ]
    }
   ],
   "source": [
    "# Use a list comprehension to add \"dimval\" to each dimension_id.\n",
    "dimval_ids = [\"dimval\" + str(dimval_id) for dimval_id in dimension_value_ids]\n",
    "\n",
    "print(dimval_ids)"
   ]
  },
  {
   "cell_type": "code",
   "execution_count": 236,
   "metadata": {},
   "outputs": [
    {
     "name": "stdout",
     "output_type": "stream",
     "text": [
      "                   Dimension Value  Dimension Value ID\n",
      "1                     12-23 months                   1\n",
      "2                     24-35 months                   2\n",
      "3                     36-47 months                   3\n",
      "4                     48-59 months                   4\n",
      "5                      6-11 months                   5\n",
      "6                           Female                   6\n",
      "7                             Male                   7\n",
      "100                     0-5 months                   8\n",
      "106                          Rural                   9\n",
      "107                          Urban                  10\n",
      "386           Quintile 1 (poorest)                  11\n",
      "387                     Quintile 2                  12\n",
      "388                     Quintile 3                  13\n",
      "389                     Quintile 4                  14\n",
      "390           Quintile 5 (richest)                  15\n",
      "391                   No education                  16\n",
      "392              Primary education                  17\n",
      "393  Secondary or higher education                  18\n"
     ]
    }
   ],
   "source": [
    "# Add the dimval_ids list as a new column\n",
    "dimension_value_df['Dimension Value ID'] = dimension_value_ids\n",
    "\n",
    "print(dimension_value_df)"
   ]
  },
  {
   "cell_type": "code",
   "execution_count": 237,
   "metadata": {},
   "outputs": [
    {
     "data": {
      "text/html": [
       "<div>\n",
       "<style scoped>\n",
       "    .dataframe tbody tr th:only-of-type {\n",
       "        vertical-align: middle;\n",
       "    }\n",
       "\n",
       "    .dataframe tbody tr th {\n",
       "        vertical-align: top;\n",
       "    }\n",
       "\n",
       "    .dataframe thead th {\n",
       "        text-align: right;\n",
       "    }\n",
       "</style>\n",
       "<table border=\"1\" class=\"dataframe\">\n",
       "  <thead>\n",
       "    <tr style=\"text-align: right;\">\n",
       "      <th></th>\n",
       "      <th>Dimension Value ID</th>\n",
       "      <th>Dimension Value</th>\n",
       "    </tr>\n",
       "  </thead>\n",
       "  <tbody>\n",
       "    <tr>\n",
       "      <th>1</th>\n",
       "      <td>1</td>\n",
       "      <td>12-23 months</td>\n",
       "    </tr>\n",
       "    <tr>\n",
       "      <th>2</th>\n",
       "      <td>2</td>\n",
       "      <td>24-35 months</td>\n",
       "    </tr>\n",
       "    <tr>\n",
       "      <th>3</th>\n",
       "      <td>3</td>\n",
       "      <td>36-47 months</td>\n",
       "    </tr>\n",
       "    <tr>\n",
       "      <th>4</th>\n",
       "      <td>4</td>\n",
       "      <td>48-59 months</td>\n",
       "    </tr>\n",
       "    <tr>\n",
       "      <th>5</th>\n",
       "      <td>5</td>\n",
       "      <td>6-11 months</td>\n",
       "    </tr>\n",
       "    <tr>\n",
       "      <th>6</th>\n",
       "      <td>6</td>\n",
       "      <td>Female</td>\n",
       "    </tr>\n",
       "    <tr>\n",
       "      <th>7</th>\n",
       "      <td>7</td>\n",
       "      <td>Male</td>\n",
       "    </tr>\n",
       "    <tr>\n",
       "      <th>100</th>\n",
       "      <td>8</td>\n",
       "      <td>0-5 months</td>\n",
       "    </tr>\n",
       "    <tr>\n",
       "      <th>106</th>\n",
       "      <td>9</td>\n",
       "      <td>Rural</td>\n",
       "    </tr>\n",
       "    <tr>\n",
       "      <th>107</th>\n",
       "      <td>10</td>\n",
       "      <td>Urban</td>\n",
       "    </tr>\n",
       "    <tr>\n",
       "      <th>386</th>\n",
       "      <td>11</td>\n",
       "      <td>Quintile 1 (poorest)</td>\n",
       "    </tr>\n",
       "    <tr>\n",
       "      <th>387</th>\n",
       "      <td>12</td>\n",
       "      <td>Quintile 2</td>\n",
       "    </tr>\n",
       "    <tr>\n",
       "      <th>388</th>\n",
       "      <td>13</td>\n",
       "      <td>Quintile 3</td>\n",
       "    </tr>\n",
       "    <tr>\n",
       "      <th>389</th>\n",
       "      <td>14</td>\n",
       "      <td>Quintile 4</td>\n",
       "    </tr>\n",
       "    <tr>\n",
       "      <th>390</th>\n",
       "      <td>15</td>\n",
       "      <td>Quintile 5 (richest)</td>\n",
       "    </tr>\n",
       "    <tr>\n",
       "      <th>391</th>\n",
       "      <td>16</td>\n",
       "      <td>No education</td>\n",
       "    </tr>\n",
       "    <tr>\n",
       "      <th>392</th>\n",
       "      <td>17</td>\n",
       "      <td>Primary education</td>\n",
       "    </tr>\n",
       "    <tr>\n",
       "      <th>393</th>\n",
       "      <td>18</td>\n",
       "      <td>Secondary or higher education</td>\n",
       "    </tr>\n",
       "  </tbody>\n",
       "</table>\n",
       "</div>"
      ],
      "text/plain": [
       "     Dimension Value ID                Dimension Value\n",
       "1                     1                   12-23 months\n",
       "2                     2                   24-35 months\n",
       "3                     3                   36-47 months\n",
       "4                     4                   48-59 months\n",
       "5                     5                    6-11 months\n",
       "6                     6                         Female\n",
       "7                     7                           Male\n",
       "100                   8                     0-5 months\n",
       "106                   9                          Rural\n",
       "107                  10                          Urban\n",
       "386                  11           Quintile 1 (poorest)\n",
       "387                  12                     Quintile 2\n",
       "388                  13                     Quintile 3\n",
       "389                  14                     Quintile 4\n",
       "390                  15           Quintile 5 (richest)\n",
       "391                  16                   No education\n",
       "392                  17              Primary education\n",
       "393                  18  Secondary or higher education"
      ]
     },
     "execution_count": 237,
     "metadata": {},
     "output_type": "execute_result"
    }
   ],
   "source": [
    "# Reorder the columns so that 'Dimension Value ID' is first\n",
    "dimension_value_df = dimension_value_df[['Dimension Value ID', 'Dimension Value']]\n",
    "\n",
    "# Display the updated DataFrame\n",
    "dimension_value_df"
   ]
  },
  {
   "cell_type": "code",
   "execution_count": 238,
   "metadata": {},
   "outputs": [],
   "source": [
    "# Export dimension_value_df as CSV file.\n",
    "dimension_value_df.to_csv(\"data/dimension_value.csv\", index=False)"
   ]
  },
  {
   "cell_type": "code",
   "execution_count": 200,
   "metadata": {},
   "outputs": [
    {
     "name": "stdout",
     "output_type": "stream",
     "text": [
      "                     Region\n",
      "1     Eastern Mediterranean\n",
      "1005               European\n",
      "1555                African\n",
      "3164               Americas\n",
      "4525        Western Pacific\n",
      "5308        South-East Asia\n"
     ]
    }
   ],
   "source": [
    "# Create a new DataFrame with unique values from the 'Region' column\n",
    "region_df = cleaned_df[['Region']].drop_duplicates()\n",
    "\n",
    "# Display the new DataFrame\n",
    "print(region_df)"
   ]
  },
  {
   "cell_type": "code",
   "execution_count": 201,
   "metadata": {},
   "outputs": [
    {
     "name": "stdout",
     "output_type": "stream",
     "text": [
      "[1 2 3 4 5 6]\n"
     ]
    }
   ],
   "source": [
    "# Create numpy array for each of the regions\n",
    "region_ids = np.arange(1, len(region_df) + 1)\n",
    "print(region_ids)"
   ]
  },
  {
   "cell_type": "code",
   "execution_count": 202,
   "metadata": {},
   "outputs": [
    {
     "name": "stdout",
     "output_type": "stream",
     "text": [
      "['reg1', 'reg2', 'reg3', 'reg4', 'reg5', 'reg6']\n"
     ]
    }
   ],
   "source": [
    "# Use a list comprehension to add \"reg\" to each region_ids.\n",
    "reg_ids = [\"reg\" + str(reg_id) for reg_id in region_ids]\n",
    "\n",
    "print(reg_ids)"
   ]
  },
  {
   "cell_type": "code",
   "execution_count": 203,
   "metadata": {},
   "outputs": [
    {
     "name": "stdout",
     "output_type": "stream",
     "text": [
      "                     Region Region ID\n",
      "1     Eastern Mediterranean      reg1\n",
      "1005               European      reg2\n",
      "1555                African      reg3\n",
      "3164               Americas      reg4\n",
      "4525        Western Pacific      reg5\n",
      "5308        South-East Asia      reg6\n"
     ]
    }
   ],
   "source": [
    "# Add the reg_ids list as a new column\n",
    "region_df['Region ID'] = reg_ids\n",
    "\n",
    "print(region_df)"
   ]
  },
  {
   "cell_type": "code",
   "execution_count": 204,
   "metadata": {},
   "outputs": [
    {
     "data": {
      "text/html": [
       "<div>\n",
       "<style scoped>\n",
       "    .dataframe tbody tr th:only-of-type {\n",
       "        vertical-align: middle;\n",
       "    }\n",
       "\n",
       "    .dataframe tbody tr th {\n",
       "        vertical-align: top;\n",
       "    }\n",
       "\n",
       "    .dataframe thead th {\n",
       "        text-align: right;\n",
       "    }\n",
       "</style>\n",
       "<table border=\"1\" class=\"dataframe\">\n",
       "  <thead>\n",
       "    <tr style=\"text-align: right;\">\n",
       "      <th></th>\n",
       "      <th>Region ID</th>\n",
       "      <th>Region</th>\n",
       "    </tr>\n",
       "  </thead>\n",
       "  <tbody>\n",
       "    <tr>\n",
       "      <th>1</th>\n",
       "      <td>reg1</td>\n",
       "      <td>Eastern Mediterranean</td>\n",
       "    </tr>\n",
       "    <tr>\n",
       "      <th>1005</th>\n",
       "      <td>reg2</td>\n",
       "      <td>European</td>\n",
       "    </tr>\n",
       "    <tr>\n",
       "      <th>1555</th>\n",
       "      <td>reg3</td>\n",
       "      <td>African</td>\n",
       "    </tr>\n",
       "    <tr>\n",
       "      <th>3164</th>\n",
       "      <td>reg4</td>\n",
       "      <td>Americas</td>\n",
       "    </tr>\n",
       "    <tr>\n",
       "      <th>4525</th>\n",
       "      <td>reg5</td>\n",
       "      <td>Western Pacific</td>\n",
       "    </tr>\n",
       "    <tr>\n",
       "      <th>5308</th>\n",
       "      <td>reg6</td>\n",
       "      <td>South-East Asia</td>\n",
       "    </tr>\n",
       "  </tbody>\n",
       "</table>\n",
       "</div>"
      ],
      "text/plain": [
       "     Region ID                 Region\n",
       "1         reg1  Eastern Mediterranean\n",
       "1005      reg2               European\n",
       "1555      reg3                African\n",
       "3164      reg4               Americas\n",
       "4525      reg5        Western Pacific\n",
       "5308      reg6        South-East Asia"
      ]
     },
     "execution_count": 204,
     "metadata": {},
     "output_type": "execute_result"
    }
   ],
   "source": [
    "# Reorder the columns so that 'Region ID' is first\n",
    "region_df = region_df[['Region ID', 'Region']]\n",
    "\n",
    "# Display the updated DataFrame\n",
    "region_df"
   ]
  },
  {
   "cell_type": "code",
   "execution_count": 205,
   "metadata": {},
   "outputs": [],
   "source": [
    "# Export region_df as CSV file.\n",
    "region_df.to_csv(\"data/region.csv\", index=False)"
   ]
  },
  {
   "cell_type": "code",
   "execution_count": 251,
   "metadata": {},
   "outputs": [
    {
     "data": {
      "text/html": [
       "<div>\n",
       "<style scoped>\n",
       "    .dataframe tbody tr th:only-of-type {\n",
       "        vertical-align: middle;\n",
       "    }\n",
       "\n",
       "    .dataframe tbody tr th {\n",
       "        vertical-align: top;\n",
       "    }\n",
       "\n",
       "    .dataframe thead th {\n",
       "        text-align: right;\n",
       "    }\n",
       "</style>\n",
       "<table border=\"1\" class=\"dataframe\">\n",
       "  <thead>\n",
       "    <tr style=\"text-align: right;\">\n",
       "      <th></th>\n",
       "      <th>Region</th>\n",
       "      <th>Country ISO-3 Code</th>\n",
       "      <th>Country</th>\n",
       "      <th>Year</th>\n",
       "      <th>Dimension</th>\n",
       "      <th>Dimension Value</th>\n",
       "      <th>Dimension Value Order</th>\n",
       "      <th>Anthropometric Indicator</th>\n",
       "      <th>Indicator Description</th>\n",
       "      <th>Prevalence Estimate %</th>\n",
       "      <th>Under-Five Population (million)</th>\n",
       "      <th>Country Avg</th>\n",
       "    </tr>\n",
       "  </thead>\n",
       "  <tbody>\n",
       "    <tr>\n",
       "      <th>1</th>\n",
       "      <td>Eastern Mediterranean</td>\n",
       "      <td>AFG</td>\n",
       "      <td>Afghanistan</td>\n",
       "      <td>2004</td>\n",
       "      <td>Child's age (6 groups) (0-59m)</td>\n",
       "      <td>12-23 months</td>\n",
       "      <td>3</td>\n",
       "      <td>overweight</td>\n",
       "      <td>Overweight prevalence in children aged &lt; 5 yea...</td>\n",
       "      <td>4.3</td>\n",
       "      <td>189.0</td>\n",
       "      <td>4.6</td>\n",
       "    </tr>\n",
       "    <tr>\n",
       "      <th>2</th>\n",
       "      <td>Eastern Mediterranean</td>\n",
       "      <td>AFG</td>\n",
       "      <td>Afghanistan</td>\n",
       "      <td>2004</td>\n",
       "      <td>Child's age (6 groups) (0-59m)</td>\n",
       "      <td>24-35 months</td>\n",
       "      <td>4</td>\n",
       "      <td>overweight</td>\n",
       "      <td>Overweight prevalence in children aged &lt; 5 yea...</td>\n",
       "      <td>3.0</td>\n",
       "      <td>182.0</td>\n",
       "      <td>4.6</td>\n",
       "    </tr>\n",
       "    <tr>\n",
       "      <th>3</th>\n",
       "      <td>Eastern Mediterranean</td>\n",
       "      <td>AFG</td>\n",
       "      <td>Afghanistan</td>\n",
       "      <td>2004</td>\n",
       "      <td>Child's age (6 groups) (0-59m)</td>\n",
       "      <td>36-47 months</td>\n",
       "      <td>5</td>\n",
       "      <td>overweight</td>\n",
       "      <td>Overweight prevalence in children aged &lt; 5 yea...</td>\n",
       "      <td>5.6</td>\n",
       "      <td>227.0</td>\n",
       "      <td>4.6</td>\n",
       "    </tr>\n",
       "    <tr>\n",
       "      <th>4</th>\n",
       "      <td>Eastern Mediterranean</td>\n",
       "      <td>AFG</td>\n",
       "      <td>Afghanistan</td>\n",
       "      <td>2004</td>\n",
       "      <td>Child's age (6 groups) (0-59m)</td>\n",
       "      <td>48-59 months</td>\n",
       "      <td>6</td>\n",
       "      <td>overweight</td>\n",
       "      <td>Overweight prevalence in children aged &lt; 5 yea...</td>\n",
       "      <td>6.4</td>\n",
       "      <td>241.0</td>\n",
       "      <td>4.6</td>\n",
       "    </tr>\n",
       "    <tr>\n",
       "      <th>5</th>\n",
       "      <td>Eastern Mediterranean</td>\n",
       "      <td>AFG</td>\n",
       "      <td>Afghanistan</td>\n",
       "      <td>2004</td>\n",
       "      <td>Child's age (6 groups) (0-59m)</td>\n",
       "      <td>6-11 months</td>\n",
       "      <td>2</td>\n",
       "      <td>overweight</td>\n",
       "      <td>Overweight prevalence in children aged &lt; 5 yea...</td>\n",
       "      <td>1.9</td>\n",
       "      <td>107.0</td>\n",
       "      <td>4.6</td>\n",
       "    </tr>\n",
       "  </tbody>\n",
       "</table>\n",
       "</div>"
      ],
      "text/plain": [
       "                  Region Country ISO-3 Code      Country  Year  \\\n",
       "1  Eastern Mediterranean                AFG  Afghanistan  2004   \n",
       "2  Eastern Mediterranean                AFG  Afghanistan  2004   \n",
       "3  Eastern Mediterranean                AFG  Afghanistan  2004   \n",
       "4  Eastern Mediterranean                AFG  Afghanistan  2004   \n",
       "5  Eastern Mediterranean                AFG  Afghanistan  2004   \n",
       "\n",
       "                        Dimension Dimension Value  Dimension Value Order  \\\n",
       "1  Child's age (6 groups) (0-59m)    12-23 months                      3   \n",
       "2  Child's age (6 groups) (0-59m)    24-35 months                      4   \n",
       "3  Child's age (6 groups) (0-59m)    36-47 months                      5   \n",
       "4  Child's age (6 groups) (0-59m)    48-59 months                      6   \n",
       "5  Child's age (6 groups) (0-59m)     6-11 months                      2   \n",
       "\n",
       "  Anthropometric Indicator                              Indicator Description  \\\n",
       "1               overweight  Overweight prevalence in children aged < 5 yea...   \n",
       "2               overweight  Overweight prevalence in children aged < 5 yea...   \n",
       "3               overweight  Overweight prevalence in children aged < 5 yea...   \n",
       "4               overweight  Overweight prevalence in children aged < 5 yea...   \n",
       "5               overweight  Overweight prevalence in children aged < 5 yea...   \n",
       "\n",
       "   Prevalence Estimate %  Under-Five Population (million)  Country Avg  \n",
       "1                    4.3                            189.0          4.6  \n",
       "2                    3.0                            182.0          4.6  \n",
       "3                    5.6                            227.0          4.6  \n",
       "4                    6.4                            241.0          4.6  \n",
       "5                    1.9                            107.0          4.6  "
      ]
     },
     "execution_count": 251,
     "metadata": {},
     "output_type": "execute_result"
    }
   ],
   "source": [
    "# Check the clean data\n",
    "cleaned_df.head()"
   ]
  },
  {
   "cell_type": "code",
   "execution_count": 263,
   "metadata": {},
   "outputs": [],
   "source": [
    "# Export cleaned_df as CSV file\n",
    "cleaned_df.to_csv(\"data/clean_data.csv\", index=False)"
   ]
  }
 ],
 "metadata": {
  "kernelspec": {
   "display_name": "dev",
   "language": "python",
   "name": "python3"
  },
  "language_info": {
   "codemirror_mode": {
    "name": "ipython",
    "version": 3
   },
   "file_extension": ".py",
   "mimetype": "text/x-python",
   "name": "python",
   "nbconvert_exporter": "python",
   "pygments_lexer": "ipython3",
   "version": "3.11.9"
  }
 },
 "nbformat": 4,
 "nbformat_minor": 2
}
