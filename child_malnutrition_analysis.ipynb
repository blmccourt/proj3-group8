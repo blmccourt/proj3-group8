{
 "cells": [
  {
   "cell_type": "markdown",
   "metadata": {},
   "source": [
    "### To do\n",
    "\n",
    "1. Extract data from xlsx file and create raw data frame - **DONE**\n",
    "2. Remove empty columns - **DONE**\n",
    "3. Remove unecessary columns - **DONE**\n",
    "   1. Check for distinct data values - **DONE**\n",
    "4. Rename columns - **DONE**\n",
    "5. Reorder columns - **DONE**\n",
    "1. Check for empty data - **DONE**\n",
    "2. Verify data types - **DONE**\n",
    "3. Create new dataframes by dimensions, indicators, and subgroups."
   ]
  },
  {
   "cell_type": "code",
   "execution_count": 103,
   "metadata": {},
   "outputs": [],
   "source": [
    "# Import necessary libraries\n",
    "import pandas as pd\n",
    "import numpy as np"
   ]
  },
  {
   "cell_type": "markdown",
   "metadata": {},
   "source": [
    "### Extract data from the data.xlsx file"
   ]
  },
  {
   "cell_type": "code",
   "execution_count": 104,
   "metadata": {},
   "outputs": [
    {
     "data": {
      "text/html": [
       "<div>\n",
       "<style scoped>\n",
       "    .dataframe tbody tr th:only-of-type {\n",
       "        vertical-align: middle;\n",
       "    }\n",
       "\n",
       "    .dataframe tbody tr th {\n",
       "        vertical-align: top;\n",
       "    }\n",
       "\n",
       "    .dataframe thead th {\n",
       "        text-align: right;\n",
       "    }\n",
       "</style>\n",
       "<table border=\"1\" class=\"dataframe\">\n",
       "  <thead>\n",
       "    <tr style=\"text-align: right;\">\n",
       "      <th></th>\n",
       "      <th>setting</th>\n",
       "      <th>date</th>\n",
       "      <th>source</th>\n",
       "      <th>indicator_abbr</th>\n",
       "      <th>indicator_name</th>\n",
       "      <th>dimension</th>\n",
       "      <th>subgroup</th>\n",
       "      <th>estimate</th>\n",
       "      <th>se</th>\n",
       "      <th>ci_lb</th>\n",
       "      <th>...</th>\n",
       "      <th>iso3</th>\n",
       "      <th>favourable_indicator</th>\n",
       "      <th>indicator_scale</th>\n",
       "      <th>ordered_dimension</th>\n",
       "      <th>subgroup_order</th>\n",
       "      <th>reference_subgroup</th>\n",
       "      <th>whoreg6</th>\n",
       "      <th>wbincome2024</th>\n",
       "      <th>dataset_id</th>\n",
       "      <th>update</th>\n",
       "    </tr>\n",
       "  </thead>\n",
       "  <tbody>\n",
       "    <tr>\n",
       "      <th>0</th>\n",
       "      <td>Afghanistan</td>\n",
       "      <td>2004</td>\n",
       "      <td>NNS</td>\n",
       "      <td>overweight</td>\n",
       "      <td>Overweight prevalence in children aged &lt; 5 yea...</td>\n",
       "      <td>Child's age (6 groups) (0-59m)</td>\n",
       "      <td>0-5 months</td>\n",
       "      <td>NaN</td>\n",
       "      <td>NaN</td>\n",
       "      <td>NaN</td>\n",
       "      <td>...</td>\n",
       "      <td>AFG</td>\n",
       "      <td>0</td>\n",
       "      <td>100</td>\n",
       "      <td>1</td>\n",
       "      <td>1</td>\n",
       "      <td>0</td>\n",
       "      <td>Eastern Mediterranean</td>\n",
       "      <td>Low income</td>\n",
       "      <td>rep_nut</td>\n",
       "      <td>17 June 2024</td>\n",
       "    </tr>\n",
       "    <tr>\n",
       "      <th>1</th>\n",
       "      <td>Afghanistan</td>\n",
       "      <td>2004</td>\n",
       "      <td>NNS</td>\n",
       "      <td>overweight</td>\n",
       "      <td>Overweight prevalence in children aged &lt; 5 yea...</td>\n",
       "      <td>Child's age (6 groups) (0-59m)</td>\n",
       "      <td>12-23 months</td>\n",
       "      <td>4.3</td>\n",
       "      <td>NaN</td>\n",
       "      <td>NaN</td>\n",
       "      <td>...</td>\n",
       "      <td>AFG</td>\n",
       "      <td>0</td>\n",
       "      <td>100</td>\n",
       "      <td>1</td>\n",
       "      <td>3</td>\n",
       "      <td>0</td>\n",
       "      <td>Eastern Mediterranean</td>\n",
       "      <td>Low income</td>\n",
       "      <td>rep_nut</td>\n",
       "      <td>17 June 2024</td>\n",
       "    </tr>\n",
       "    <tr>\n",
       "      <th>2</th>\n",
       "      <td>Afghanistan</td>\n",
       "      <td>2004</td>\n",
       "      <td>NNS</td>\n",
       "      <td>overweight</td>\n",
       "      <td>Overweight prevalence in children aged &lt; 5 yea...</td>\n",
       "      <td>Child's age (6 groups) (0-59m)</td>\n",
       "      <td>24-35 months</td>\n",
       "      <td>3.0</td>\n",
       "      <td>NaN</td>\n",
       "      <td>NaN</td>\n",
       "      <td>...</td>\n",
       "      <td>AFG</td>\n",
       "      <td>0</td>\n",
       "      <td>100</td>\n",
       "      <td>1</td>\n",
       "      <td>4</td>\n",
       "      <td>0</td>\n",
       "      <td>Eastern Mediterranean</td>\n",
       "      <td>Low income</td>\n",
       "      <td>rep_nut</td>\n",
       "      <td>17 June 2024</td>\n",
       "    </tr>\n",
       "    <tr>\n",
       "      <th>3</th>\n",
       "      <td>Afghanistan</td>\n",
       "      <td>2004</td>\n",
       "      <td>NNS</td>\n",
       "      <td>overweight</td>\n",
       "      <td>Overweight prevalence in children aged &lt; 5 yea...</td>\n",
       "      <td>Child's age (6 groups) (0-59m)</td>\n",
       "      <td>36-47 months</td>\n",
       "      <td>5.6</td>\n",
       "      <td>NaN</td>\n",
       "      <td>NaN</td>\n",
       "      <td>...</td>\n",
       "      <td>AFG</td>\n",
       "      <td>0</td>\n",
       "      <td>100</td>\n",
       "      <td>1</td>\n",
       "      <td>5</td>\n",
       "      <td>0</td>\n",
       "      <td>Eastern Mediterranean</td>\n",
       "      <td>Low income</td>\n",
       "      <td>rep_nut</td>\n",
       "      <td>17 June 2024</td>\n",
       "    </tr>\n",
       "    <tr>\n",
       "      <th>4</th>\n",
       "      <td>Afghanistan</td>\n",
       "      <td>2004</td>\n",
       "      <td>NNS</td>\n",
       "      <td>overweight</td>\n",
       "      <td>Overweight prevalence in children aged &lt; 5 yea...</td>\n",
       "      <td>Child's age (6 groups) (0-59m)</td>\n",
       "      <td>48-59 months</td>\n",
       "      <td>6.4</td>\n",
       "      <td>NaN</td>\n",
       "      <td>NaN</td>\n",
       "      <td>...</td>\n",
       "      <td>AFG</td>\n",
       "      <td>0</td>\n",
       "      <td>100</td>\n",
       "      <td>1</td>\n",
       "      <td>6</td>\n",
       "      <td>0</td>\n",
       "      <td>Eastern Mediterranean</td>\n",
       "      <td>Low income</td>\n",
       "      <td>rep_nut</td>\n",
       "      <td>17 June 2024</td>\n",
       "    </tr>\n",
       "  </tbody>\n",
       "</table>\n",
       "<p>5 rows × 24 columns</p>\n",
       "</div>"
      ],
      "text/plain": [
       "       setting  date source indicator_abbr  \\\n",
       "0  Afghanistan  2004    NNS     overweight   \n",
       "1  Afghanistan  2004    NNS     overweight   \n",
       "2  Afghanistan  2004    NNS     overweight   \n",
       "3  Afghanistan  2004    NNS     overweight   \n",
       "4  Afghanistan  2004    NNS     overweight   \n",
       "\n",
       "                                      indicator_name  \\\n",
       "0  Overweight prevalence in children aged < 5 yea...   \n",
       "1  Overweight prevalence in children aged < 5 yea...   \n",
       "2  Overweight prevalence in children aged < 5 yea...   \n",
       "3  Overweight prevalence in children aged < 5 yea...   \n",
       "4  Overweight prevalence in children aged < 5 yea...   \n",
       "\n",
       "                        dimension      subgroup  estimate  se  ci_lb  ...  \\\n",
       "0  Child's age (6 groups) (0-59m)    0-5 months       NaN NaN    NaN  ...   \n",
       "1  Child's age (6 groups) (0-59m)  12-23 months       4.3 NaN    NaN  ...   \n",
       "2  Child's age (6 groups) (0-59m)  24-35 months       3.0 NaN    NaN  ...   \n",
       "3  Child's age (6 groups) (0-59m)  36-47 months       5.6 NaN    NaN  ...   \n",
       "4  Child's age (6 groups) (0-59m)  48-59 months       6.4 NaN    NaN  ...   \n",
       "\n",
       "   iso3  favourable_indicator indicator_scale  ordered_dimension  \\\n",
       "0   AFG                     0             100                  1   \n",
       "1   AFG                     0             100                  1   \n",
       "2   AFG                     0             100                  1   \n",
       "3   AFG                     0             100                  1   \n",
       "4   AFG                     0             100                  1   \n",
       "\n",
       "  subgroup_order  reference_subgroup                whoreg6  wbincome2024  \\\n",
       "0              1                   0  Eastern Mediterranean    Low income   \n",
       "1              3                   0  Eastern Mediterranean    Low income   \n",
       "2              4                   0  Eastern Mediterranean    Low income   \n",
       "3              5                   0  Eastern Mediterranean    Low income   \n",
       "4              6                   0  Eastern Mediterranean    Low income   \n",
       "\n",
       "   dataset_id        update  \n",
       "0     rep_nut  17 June 2024  \n",
       "1     rep_nut  17 June 2024  \n",
       "2     rep_nut  17 June 2024  \n",
       "3     rep_nut  17 June 2024  \n",
       "4     rep_nut  17 June 2024  \n",
       "\n",
       "[5 rows x 24 columns]"
      ]
     },
     "execution_count": 104,
     "metadata": {},
     "output_type": "execute_result"
    }
   ],
   "source": [
    "# Read the data into a Pandas DataFrame\n",
    "raw_data_df = pd.read_excel('data/data.xlsx')\n",
    "raw_data_df.head()"
   ]
  },
  {
   "cell_type": "code",
   "execution_count": 105,
   "metadata": {},
   "outputs": [
    {
     "name": "stdout",
     "output_type": "stream",
     "text": [
      "<class 'pandas.core.frame.DataFrame'>\n",
      "RangeIndex: 157095 entries, 0 to 157094\n",
      "Data columns (total 24 columns):\n",
      " #   Column                Non-Null Count   Dtype  \n",
      "---  ------                --------------   -----  \n",
      " 0   setting               157095 non-null  object \n",
      " 1   date                  157095 non-null  int64  \n",
      " 2   source                157095 non-null  object \n",
      " 3   indicator_abbr        157095 non-null  object \n",
      " 4   indicator_name        157095 non-null  object \n",
      " 5   dimension             157095 non-null  object \n",
      " 6   subgroup              157095 non-null  object \n",
      " 7   estimate              153334 non-null  float64\n",
      " 8   se                    136679 non-null  float64\n",
      " 9   ci_lb                 142754 non-null  float64\n",
      " 10  ci_ub                 142754 non-null  float64\n",
      " 11  population            147089 non-null  float64\n",
      " 12  flag                  157095 non-null  object \n",
      " 13  setting_average       157095 non-null  float64\n",
      " 14  iso3                  157095 non-null  object \n",
      " 15  favourable_indicator  157095 non-null  int64  \n",
      " 16  indicator_scale       157095 non-null  int64  \n",
      " 17  ordered_dimension     157095 non-null  int64  \n",
      " 18  subgroup_order        157095 non-null  int64  \n",
      " 19  reference_subgroup    157095 non-null  int64  \n",
      " 20  whoreg6               157095 non-null  object \n",
      " 21  wbincome2024          157095 non-null  object \n",
      " 22  dataset_id            157095 non-null  object \n",
      " 23  update                157095 non-null  object \n",
      "dtypes: float64(6), int64(6), object(12)\n",
      "memory usage: 28.8+ MB\n"
     ]
    }
   ],
   "source": [
    "# Get a brief summary of the raw_data DataFrame.\n",
    "raw_data_df.info()"
   ]
  },
  {
   "cell_type": "markdown",
   "metadata": {},
   "source": [
    "There are 157,095 records and 24 columns of data in our dataframe."
   ]
  },
  {
   "cell_type": "markdown",
   "metadata": {},
   "source": [
    "Check for any columns that are empty and drop them from the dataframe."
   ]
  },
  {
   "cell_type": "code",
   "execution_count": 106,
   "metadata": {},
   "outputs": [
    {
     "name": "stdout",
     "output_type": "stream",
     "text": [
      "Empty columns: Index([], dtype='object')\n",
      "DataFrame info after removing empty columns:\n",
      "<class 'pandas.core.frame.DataFrame'>\n",
      "RangeIndex: 157095 entries, 0 to 157094\n",
      "Data columns (total 24 columns):\n",
      " #   Column                Non-Null Count   Dtype  \n",
      "---  ------                --------------   -----  \n",
      " 0   setting               157095 non-null  object \n",
      " 1   date                  157095 non-null  int64  \n",
      " 2   source                157095 non-null  object \n",
      " 3   indicator_abbr        157095 non-null  object \n",
      " 4   indicator_name        157095 non-null  object \n",
      " 5   dimension             157095 non-null  object \n",
      " 6   subgroup              157095 non-null  object \n",
      " 7   estimate              153334 non-null  float64\n",
      " 8   se                    136679 non-null  float64\n",
      " 9   ci_lb                 142754 non-null  float64\n",
      " 10  ci_ub                 142754 non-null  float64\n",
      " 11  population            147089 non-null  float64\n",
      " 12  flag                  157095 non-null  object \n",
      " 13  setting_average       157095 non-null  float64\n",
      " 14  iso3                  157095 non-null  object \n",
      " 15  favourable_indicator  157095 non-null  int64  \n",
      " 16  indicator_scale       157095 non-null  int64  \n",
      " 17  ordered_dimension     157095 non-null  int64  \n",
      " 18  subgroup_order        157095 non-null  int64  \n",
      " 19  reference_subgroup    157095 non-null  int64  \n",
      " 20  whoreg6               157095 non-null  object \n",
      " 21  wbincome2024          157095 non-null  object \n",
      " 22  dataset_id            157095 non-null  object \n",
      " 23  update                157095 non-null  object \n",
      "dtypes: float64(6), int64(6), object(12)\n",
      "memory usage: 28.8+ MB\n"
     ]
    }
   ],
   "source": [
    "# Check for empty columns\n",
    "empty_columns = raw_data_df.columns[raw_data_df.isnull().all()]\n",
    "print(\"Empty columns:\", empty_columns)\n",
    "\n",
    "# Remove empty columns\n",
    "cleaned_df = raw_data_df.dropna(axis=1, how='all')\n",
    "\n",
    "# Verify data frame info\n",
    "print(\"DataFrame info after removing empty columns:\")\n",
    "cleaned_df.info()"
   ]
  },
  {
   "cell_type": "markdown",
   "metadata": {},
   "source": [
    "There are still 24 columns, so no empty columns were found."
   ]
  },
  {
   "cell_type": "markdown",
   "metadata": {},
   "source": [
    "Count the unique values for each column so that we can determine if any have a single value, we can drop them from the dataframe.  Such columns will not provide any meaningful insights."
   ]
  },
  {
   "cell_type": "code",
   "execution_count": 107,
   "metadata": {},
   "outputs": [
    {
     "name": "stdout",
     "output_type": "stream",
     "text": [
      "DataFrame with the count of unique values in each column:\n"
     ]
    },
    {
     "data": {
      "text/html": [
       "<div>\n",
       "<style scoped>\n",
       "    .dataframe tbody tr th:only-of-type {\n",
       "        vertical-align: middle;\n",
       "    }\n",
       "\n",
       "    .dataframe tbody tr th {\n",
       "        vertical-align: top;\n",
       "    }\n",
       "\n",
       "    .dataframe thead th {\n",
       "        text-align: right;\n",
       "    }\n",
       "</style>\n",
       "<table border=\"1\" class=\"dataframe\">\n",
       "  <thead>\n",
       "    <tr style=\"text-align: right;\">\n",
       "      <th></th>\n",
       "      <th>Unique Count</th>\n",
       "    </tr>\n",
       "  </thead>\n",
       "  <tbody>\n",
       "    <tr>\n",
       "      <th>setting</th>\n",
       "      <td>156</td>\n",
       "    </tr>\n",
       "    <tr>\n",
       "      <th>date</th>\n",
       "      <td>34</td>\n",
       "    </tr>\n",
       "    <tr>\n",
       "      <th>source</th>\n",
       "      <td>19</td>\n",
       "    </tr>\n",
       "    <tr>\n",
       "      <th>indicator_abbr</th>\n",
       "      <td>15</td>\n",
       "    </tr>\n",
       "    <tr>\n",
       "      <th>indicator_name</th>\n",
       "      <td>15</td>\n",
       "    </tr>\n",
       "    <tr>\n",
       "      <th>dimension</th>\n",
       "      <td>6</td>\n",
       "    </tr>\n",
       "    <tr>\n",
       "      <th>subgroup</th>\n",
       "      <td>4517</td>\n",
       "    </tr>\n",
       "    <tr>\n",
       "      <th>estimate</th>\n",
       "      <td>130841</td>\n",
       "    </tr>\n",
       "    <tr>\n",
       "      <th>se</th>\n",
       "      <td>135364</td>\n",
       "    </tr>\n",
       "    <tr>\n",
       "      <th>ci_lb</th>\n",
       "      <td>136109</td>\n",
       "    </tr>\n",
       "    <tr>\n",
       "      <th>ci_ub</th>\n",
       "      <td>136147</td>\n",
       "    </tr>\n",
       "    <tr>\n",
       "      <th>population</th>\n",
       "      <td>73542</td>\n",
       "    </tr>\n",
       "    <tr>\n",
       "      <th>flag</th>\n",
       "      <td>1496</td>\n",
       "    </tr>\n",
       "    <tr>\n",
       "      <th>setting_average</th>\n",
       "      <td>11905</td>\n",
       "    </tr>\n",
       "    <tr>\n",
       "      <th>iso3</th>\n",
       "      <td>156</td>\n",
       "    </tr>\n",
       "    <tr>\n",
       "      <th>favourable_indicator</th>\n",
       "      <td>1</td>\n",
       "    </tr>\n",
       "    <tr>\n",
       "      <th>indicator_scale</th>\n",
       "      <td>1</td>\n",
       "    </tr>\n",
       "    <tr>\n",
       "      <th>ordered_dimension</th>\n",
       "      <td>2</td>\n",
       "    </tr>\n",
       "    <tr>\n",
       "      <th>subgroup_order</th>\n",
       "      <td>7</td>\n",
       "    </tr>\n",
       "    <tr>\n",
       "      <th>reference_subgroup</th>\n",
       "      <td>2</td>\n",
       "    </tr>\n",
       "    <tr>\n",
       "      <th>whoreg6</th>\n",
       "      <td>6</td>\n",
       "    </tr>\n",
       "    <tr>\n",
       "      <th>wbincome2024</th>\n",
       "      <td>4</td>\n",
       "    </tr>\n",
       "    <tr>\n",
       "      <th>dataset_id</th>\n",
       "      <td>1</td>\n",
       "    </tr>\n",
       "    <tr>\n",
       "      <th>update</th>\n",
       "      <td>1</td>\n",
       "    </tr>\n",
       "  </tbody>\n",
       "</table>\n",
       "</div>"
      ],
      "text/plain": [
       "                      Unique Count\n",
       "setting                        156\n",
       "date                            34\n",
       "source                          19\n",
       "indicator_abbr                  15\n",
       "indicator_name                  15\n",
       "dimension                        6\n",
       "subgroup                      4517\n",
       "estimate                    130841\n",
       "se                          135364\n",
       "ci_lb                       136109\n",
       "ci_ub                       136147\n",
       "population                   73542\n",
       "flag                          1496\n",
       "setting_average              11905\n",
       "iso3                           156\n",
       "favourable_indicator             1\n",
       "indicator_scale                  1\n",
       "ordered_dimension                2\n",
       "subgroup_order                   7\n",
       "reference_subgroup               2\n",
       "whoreg6                          6\n",
       "wbincome2024                     4\n",
       "dataset_id                       1\n",
       "update                           1"
      ]
     },
     "execution_count": 107,
     "metadata": {},
     "output_type": "execute_result"
    }
   ],
   "source": [
    "# Count the number of unique values in each column\n",
    "unique_counts = cleaned_df.nunique()\n",
    "\n",
    "# Create a new DataFrame to store the counts\n",
    "unique_counts_df = pd.DataFrame(unique_counts, columns=['Unique Count'])\n",
    "\n",
    "# Display the new DataFrame\n",
    "print(\"DataFrame with the count of unique values in each column:\")\n",
    "unique_counts_df"
   ]
  },
  {
   "cell_type": "markdown",
   "metadata": {},
   "source": [
    "Columns 'favourable indicator', 'indicator_scale', 'dataset_id', and 'update' have single values so we can drop them."
   ]
  },
  {
   "cell_type": "code",
   "execution_count": 108,
   "metadata": {},
   "outputs": [
    {
     "name": "stdout",
     "output_type": "stream",
     "text": [
      "DataFrame info after removing single value columns:\n",
      "\n",
      "<class 'pandas.core.frame.DataFrame'>\n",
      "RangeIndex: 157095 entries, 0 to 157094\n",
      "Data columns (total 20 columns):\n",
      " #   Column              Non-Null Count   Dtype  \n",
      "---  ------              --------------   -----  \n",
      " 0   setting             157095 non-null  object \n",
      " 1   date                157095 non-null  int64  \n",
      " 2   source              157095 non-null  object \n",
      " 3   indicator_abbr      157095 non-null  object \n",
      " 4   indicator_name      157095 non-null  object \n",
      " 5   dimension           157095 non-null  object \n",
      " 6   subgroup            157095 non-null  object \n",
      " 7   estimate            153334 non-null  float64\n",
      " 8   se                  136679 non-null  float64\n",
      " 9   ci_lb               142754 non-null  float64\n",
      " 10  ci_ub               142754 non-null  float64\n",
      " 11  population          147089 non-null  float64\n",
      " 12  flag                157095 non-null  object \n",
      " 13  setting_average     157095 non-null  float64\n",
      " 14  iso3                157095 non-null  object \n",
      " 15  ordered_dimension   157095 non-null  int64  \n",
      " 16  subgroup_order      157095 non-null  int64  \n",
      " 17  reference_subgroup  157095 non-null  int64  \n",
      " 18  whoreg6             157095 non-null  object \n",
      " 19  wbincome2024        157095 non-null  object \n",
      "dtypes: float64(6), int64(4), object(10)\n",
      "memory usage: 24.0+ MB\n"
     ]
    }
   ],
   "source": [
    "# Remove columns with a single value from the DataFrame\n",
    "cleaned_df = cleaned_df.drop(columns=['favourable_indicator', 'indicator_scale', 'dataset_id', 'update'])\n",
    "\n",
    "# Display the updated DataFrame\n",
    "print(\"DataFrame info after removing single value columns:\\n\")\n",
    "cleaned_df.info()"
   ]
  },
  {
   "cell_type": "markdown",
   "metadata": {},
   "source": [
    "The four single value columns were correctly dropped.  We now have 20 columns in the dataframe."
   ]
  },
  {
   "cell_type": "code",
   "execution_count": 109,
   "metadata": {},
   "outputs": [
    {
     "data": {
      "text/plain": [
       "'\\n***************\\nDELETE LATER\\n***************\\n# Get the unique values for each column in separate lists so that we can determine if any columns have unnecessary data.  \\n# Such columns will not be applicable to our analysis, so we will drop them from the dataframe.\\n\\n# Create an empty dictionary to store the lists of unique values\\nunique_values = {}\\n\\n# Iterate through each column in the cleaned DataFrame\\nfor column in cleaned_df.columns:\\n    # Extract unique values and convert to a list\\n    unique_values[column] = cleaned_df[column].unique().tolist()\\n\\n# Display the lists of unique values for each column\\nprint(\"Unique values in each column:\\n\")\\nfor column, values in unique_values.items():\\n    print(f\"{column}: {values}\")\\n'"
      ]
     },
     "execution_count": 109,
     "metadata": {},
     "output_type": "execute_result"
    }
   ],
   "source": [
    "'''\n",
    "***************\n",
    "DELETE LATER\n",
    "***************\n",
    "# Get the unique values for each column in separate lists so that we can determine if any columns have unnecessary data.  \n",
    "# Such columns will not be applicable to our analysis, so we will drop them from the dataframe.\n",
    "\n",
    "# Create an empty dictionary to store the lists of unique values\n",
    "unique_values = {}\n",
    "\n",
    "# Iterate through each column in the cleaned DataFrame\n",
    "for column in cleaned_df.columns:\n",
    "    # Extract unique values and convert to a list\n",
    "    unique_values[column] = cleaned_df[column].unique().tolist()\n",
    "\n",
    "# Display the lists of unique values for each column\n",
    "print(\"Unique values in each column:\\n\")\n",
    "for column, values in unique_values.items():\n",
    "    print(f\"{column}: {values}\")\n",
    "'''"
   ]
  },
  {
   "cell_type": "markdown",
   "metadata": {},
   "source": [
    "1. The *flag* column includes notes, author, and reference title.\n",
    "2. The *source* column includes a code for reprenting the source data type.\n",
    "3. The meaning of the *reference_subgroup* column is unknown.\n",
    "4. The *se* column refers to the standard error in the prevalence estimate.\n",
    "5. The *ci_lb* and *ci_ub* columns refer to confidence intervals upper and lower bounds respectively.\n",
    "6. The *ordered_dimension* column is a boolean flag that indicates if the *dimension* column is a nominal or ordinal variable.  In this dataset, *0* represents a nominal variable and *1* represents an ordinal variable.  Nominal variables are for the dimensions of *sex*, *place of residence*, and *subnational region*.  Ordinal variables are for the dimensions of *age*, *economic status*, and *education level*. Ordinal dimensions use the *subgroup_order* column to denote the specific ordering.\n",
    "\n",
    "None data is needed for our analysis, so we will drop it from the dataframe."
   ]
  },
  {
   "cell_type": "code",
   "execution_count": 110,
   "metadata": {},
   "outputs": [
    {
     "name": "stdout",
     "output_type": "stream",
     "text": [
      "DataFrame info after removing the unecessary columns:\n",
      "\n",
      "<class 'pandas.core.frame.DataFrame'>\n",
      "RangeIndex: 157095 entries, 0 to 157094\n",
      "Data columns (total 13 columns):\n",
      " #   Column           Non-Null Count   Dtype  \n",
      "---  ------           --------------   -----  \n",
      " 0   setting          157095 non-null  object \n",
      " 1   date             157095 non-null  int64  \n",
      " 2   indicator_abbr   157095 non-null  object \n",
      " 3   indicator_name   157095 non-null  object \n",
      " 4   dimension        157095 non-null  object \n",
      " 5   subgroup         157095 non-null  object \n",
      " 6   estimate         153334 non-null  float64\n",
      " 7   population       147089 non-null  float64\n",
      " 8   setting_average  157095 non-null  float64\n",
      " 9   iso3             157095 non-null  object \n",
      " 10  subgroup_order   157095 non-null  int64  \n",
      " 11  whoreg6          157095 non-null  object \n",
      " 12  wbincome2024     157095 non-null  object \n",
      "dtypes: float64(3), int64(2), object(8)\n",
      "memory usage: 15.6+ MB\n"
     ]
    }
   ],
   "source": [
    "# Remove 'flag' column from the DataFrame\n",
    "cleaned_df = cleaned_df.drop(columns=['flag', 'source', 'reference_subgroup', 'se', 'ci_lb', 'ci_ub', 'ordered_dimension'])\n",
    "\n",
    "# Display the updated DataFrame\n",
    "print(\"DataFrame info after removing the unecessary columns:\\n\")\n",
    "cleaned_df.info()"
   ]
  },
  {
   "cell_type": "markdown",
   "metadata": {},
   "source": [
    "1. The *population* column represents the number of children under five years of age.\n",
    "2. The *whoreg6* column is a regional classification provided by the WHO.\n",
    "3. The *wbincome2024* column is an income group classification provided by The World Bank."
   ]
  },
  {
   "cell_type": "markdown",
   "metadata": {},
   "source": [
    "Rename the columns with more intuitive titles and reorder them."
   ]
  },
  {
   "cell_type": "code",
   "execution_count": 111,
   "metadata": {},
   "outputs": [
    {
     "name": "stdout",
     "output_type": "stream",
     "text": [
      "<class 'pandas.core.frame.DataFrame'>\n",
      "RangeIndex: 157095 entries, 0 to 157094\n",
      "Data columns (total 13 columns):\n",
      " #   Column                           Non-Null Count   Dtype  \n",
      "---  ------                           --------------   -----  \n",
      " 0   Region                           157095 non-null  object \n",
      " 1   Country ISO-3 Code               157095 non-null  object \n",
      " 2   Country                          157095 non-null  object \n",
      " 3   Year                             157095 non-null  int64  \n",
      " 4   Dimension                        157095 non-null  object \n",
      " 5   Dimension Value                  157095 non-null  object \n",
      " 6   Dimension Value Order            157095 non-null  int64  \n",
      " 7   Income Group                     157095 non-null  object \n",
      " 8   Anthropometric Indicator         157095 non-null  object \n",
      " 9   Indicator Description            157095 non-null  object \n",
      " 10  Prevalence Estimate %            153334 non-null  float64\n",
      " 11  Under-Five Population (million)  147089 non-null  float64\n",
      " 12  Country Avg                      157095 non-null  float64\n",
      "dtypes: float64(3), int64(2), object(8)\n",
      "memory usage: 15.6+ MB\n"
     ]
    }
   ],
   "source": [
    "# Rename the columns\n",
    "cleaned_df = cleaned_df.rename(columns={\n",
    "    'setting': 'Country',\n",
    "    'date': 'Year',\n",
    "    'indicator_abbr': 'Anthropometric Indicator',\n",
    "    'indicator_name': 'Indicator Description',\n",
    "    'dimension': 'Dimension',\n",
    "    'subgroup': 'Dimension Value',\n",
    "    'subgroup_order': 'Dimension Value Order',\n",
    "    'setting_average': 'Country Avg',\n",
    "    'iso3': 'Country ISO-3 Code',\n",
    "    'whoreg6': 'Region',\n",
    "    'wbincome2024': 'Income Group',\n",
    "    'estimate': 'Prevalence Estimate %',\n",
    "    'population': 'Under-Five Population (million)'\n",
    "})\n",
    "\n",
    "# Reorder the columns\n",
    "cleaned_df = cleaned_df[\n",
    "    [\n",
    "        'Region',\n",
    "        'Country ISO-3 Code',\n",
    "        'Country',\n",
    "        'Year',\n",
    "        'Dimension',\n",
    "        'Dimension Value',\n",
    "        'Dimension Value Order',\n",
    "        'Income Group',\n",
    "        'Anthropometric Indicator',\n",
    "        'Indicator Description',\n",
    "        'Prevalence Estimate %',\n",
    "        'Under-Five Population (million)',\n",
    "        'Country Avg'\n",
    "    ]\n",
    "]\n",
    "\n",
    "# Check the DataFrame information\n",
    "cleaned_df.info()"
   ]
  },
  {
   "cell_type": "code",
   "execution_count": 112,
   "metadata": {},
   "outputs": [
    {
     "name": "stdout",
     "output_type": "stream",
     "text": [
      "<class 'pandas.core.frame.DataFrame'>\n",
      "Index: 147089 entries, 1 to 157094\n",
      "Data columns (total 13 columns):\n",
      " #   Column                           Non-Null Count   Dtype  \n",
      "---  ------                           --------------   -----  \n",
      " 0   Region                           147089 non-null  object \n",
      " 1   Country ISO-3 Code               147089 non-null  object \n",
      " 2   Country                          147089 non-null  object \n",
      " 3   Year                             147089 non-null  int64  \n",
      " 4   Dimension                        147089 non-null  object \n",
      " 5   Dimension Value                  147089 non-null  object \n",
      " 6   Dimension Value Order            147089 non-null  int64  \n",
      " 7   Income Group                     147089 non-null  object \n",
      " 8   Anthropometric Indicator         147089 non-null  object \n",
      " 9   Indicator Description            147089 non-null  object \n",
      " 10  Prevalence Estimate %            147089 non-null  float64\n",
      " 11  Under-Five Population (million)  147089 non-null  float64\n",
      " 12  Country Avg                      147089 non-null  float64\n",
      "dtypes: float64(3), int64(2), object(8)\n",
      "memory usage: 15.7+ MB\n"
     ]
    }
   ],
   "source": [
    "# Remove rows where 'Under-Five Population (million)' and 'Prevalence Estimate %' are empty\n",
    "cleaned_df = cleaned_df.dropna(subset=['Under-Five Population (million)', 'Prevalence Estimate %'])\n",
    "\n",
    "# Check the DataFrame after dropping rows\n",
    "cleaned_df.info()"
   ]
  },
  {
   "cell_type": "markdown",
   "metadata": {},
   "source": [
    "After removing unecessary columns and empty rows, we are left with 147,089 entries and 13 columns."
   ]
  },
  {
   "cell_type": "markdown",
   "metadata": {},
   "source": [
    "## To do\n",
    "1. Create dataframes for\n",
    "   1. Country and Codes\n",
    "   2. Dimension\n",
    "   3. Income Group\n",
    "   4. Anthropometric Indicator and Indicator Description"
   ]
  },
  {
   "cell_type": "code",
   "execution_count": 152,
   "metadata": {},
   "outputs": [
    {
     "name": "stdout",
     "output_type": "stream",
     "text": [
      "       Country ISO-3 Code                         Country\n",
      "1                     AFG                     Afghanistan\n",
      "1005                  ALB                         Albania\n",
      "1555                  DZA                         Algeria\n",
      "2600                  AGO                          Angola\n",
      "3164                  ARG                       Argentina\n",
      "...                   ...                             ...\n",
      "144521                VNM                        Viet Nam\n",
      "151646                YEM                           Yemen\n",
      "153070                ZMB                          Zambia\n",
      "154420                ZWE                        Zimbabwe\n",
      "156020                PSE  occupied Palestinian territory\n",
      "\n",
      "[154 rows x 2 columns]\n"
     ]
    }
   ],
   "source": [
    "# Create a new DataFrame with unique values from 'Country ISO-3 Code' and 'Country' columns\n",
    "country_df = cleaned_df[['Country ISO-3 Code', 'Country']].drop_duplicates()\n",
    "\n",
    "# Display the new DataFrame\n",
    "print(country_df)"
   ]
  },
  {
   "cell_type": "code",
   "execution_count": 168,
   "metadata": {},
   "outputs": [
    {
     "name": "stdout",
     "output_type": "stream",
     "text": [
      "[  1   2   3   4   5   6   7   8   9  10  11  12  13  14  15  16  17  18\n",
      "  19  20  21  22  23  24  25  26  27  28  29  30  31  32  33  34  35  36\n",
      "  37  38  39  40  41  42  43  44  45  46  47  48  49  50  51  52  53  54\n",
      "  55  56  57  58  59  60  61  62  63  64  65  66  67  68  69  70  71  72\n",
      "  73  74  75  76  77  78  79  80  81  82  83  84  85  86  87  88  89  90\n",
      "  91  92  93  94  95  96  97  98  99 100 101 102 103 104 105 106 107 108\n",
      " 109 110 111 112 113 114 115 116 117 118 119 120 121 122 123 124 125 126\n",
      " 127 128 129 130 131 132 133 134 135 136 137 138 139 140 141 142 143 144\n",
      " 145 146 147 148 149 150 151 152 153 154]\n"
     ]
    }
   ],
   "source": [
    "# Create numpy array for each of the countries\n",
    "country_ids = np.arange(1, len(country_df) + 1)\n",
    "print(country_ids)"
   ]
  },
  {
   "cell_type": "code",
   "execution_count": 169,
   "metadata": {},
   "outputs": [
    {
     "name": "stdout",
     "output_type": "stream",
     "text": [
      "['ctry1', 'ctry2', 'ctry3', 'ctry4', 'ctry5', 'ctry6', 'ctry7', 'ctry8', 'ctry9', 'ctry10', 'ctry11', 'ctry12', 'ctry13', 'ctry14', 'ctry15', 'ctry16', 'ctry17', 'ctry18', 'ctry19', 'ctry20', 'ctry21', 'ctry22', 'ctry23', 'ctry24', 'ctry25', 'ctry26', 'ctry27', 'ctry28', 'ctry29', 'ctry30', 'ctry31', 'ctry32', 'ctry33', 'ctry34', 'ctry35', 'ctry36', 'ctry37', 'ctry38', 'ctry39', 'ctry40', 'ctry41', 'ctry42', 'ctry43', 'ctry44', 'ctry45', 'ctry46', 'ctry47', 'ctry48', 'ctry49', 'ctry50', 'ctry51', 'ctry52', 'ctry53', 'ctry54', 'ctry55', 'ctry56', 'ctry57', 'ctry58', 'ctry59', 'ctry60', 'ctry61', 'ctry62', 'ctry63', 'ctry64', 'ctry65', 'ctry66', 'ctry67', 'ctry68', 'ctry69', 'ctry70', 'ctry71', 'ctry72', 'ctry73', 'ctry74', 'ctry75', 'ctry76', 'ctry77', 'ctry78', 'ctry79', 'ctry80', 'ctry81', 'ctry82', 'ctry83', 'ctry84', 'ctry85', 'ctry86', 'ctry87', 'ctry88', 'ctry89', 'ctry90', 'ctry91', 'ctry92', 'ctry93', 'ctry94', 'ctry95', 'ctry96', 'ctry97', 'ctry98', 'ctry99', 'ctry100', 'ctry101', 'ctry102', 'ctry103', 'ctry104', 'ctry105', 'ctry106', 'ctry107', 'ctry108', 'ctry109', 'ctry110', 'ctry111', 'ctry112', 'ctry113', 'ctry114', 'ctry115', 'ctry116', 'ctry117', 'ctry118', 'ctry119', 'ctry120', 'ctry121', 'ctry122', 'ctry123', 'ctry124', 'ctry125', 'ctry126', 'ctry127', 'ctry128', 'ctry129', 'ctry130', 'ctry131', 'ctry132', 'ctry133', 'ctry134', 'ctry135', 'ctry136', 'ctry137', 'ctry138', 'ctry139', 'ctry140', 'ctry141', 'ctry142', 'ctry143', 'ctry144', 'ctry145', 'ctry146', 'ctry147', 'ctry148', 'ctry149', 'ctry150', 'ctry151', 'ctry152', 'ctry153', 'ctry154']\n"
     ]
    }
   ],
   "source": [
    "# Use a list comprehension to add \"ctry\" to each country_id.\n",
    "ctry_ids = [\"ctry\" + str(ctry_id) for ctry_id in country_ids]\n",
    "\n",
    "print(ctry_ids)"
   ]
  },
  {
   "cell_type": "code",
   "execution_count": 170,
   "metadata": {},
   "outputs": [
    {
     "name": "stdout",
     "output_type": "stream",
     "text": [
      "       Country ISO-3 Code                         Country Country ID\n",
      "1                     AFG                     Afghanistan      ctry1\n",
      "1005                  ALB                         Albania      ctry2\n",
      "1555                  DZA                         Algeria      ctry3\n",
      "2600                  AGO                          Angola      ctry4\n",
      "3164                  ARG                       Argentina      ctry5\n",
      "...                   ...                             ...        ...\n",
      "144521                VNM                        Viet Nam    ctry150\n",
      "151646                YEM                           Yemen    ctry151\n",
      "153070                ZMB                          Zambia    ctry152\n",
      "154420                ZWE                        Zimbabwe    ctry153\n",
      "156020                PSE  occupied Palestinian territory    ctry154\n",
      "\n",
      "[154 rows x 3 columns]\n"
     ]
    }
   ],
   "source": [
    "# Add the ctry_ids list as a new column\n",
    "country_df['Country ID'] = ctry_ids\n",
    "print(country_df)"
   ]
  },
  {
   "cell_type": "code",
   "execution_count": 171,
   "metadata": {},
   "outputs": [
    {
     "data": {
      "text/html": [
       "<div>\n",
       "<style scoped>\n",
       "    .dataframe tbody tr th:only-of-type {\n",
       "        vertical-align: middle;\n",
       "    }\n",
       "\n",
       "    .dataframe tbody tr th {\n",
       "        vertical-align: top;\n",
       "    }\n",
       "\n",
       "    .dataframe thead th {\n",
       "        text-align: right;\n",
       "    }\n",
       "</style>\n",
       "<table border=\"1\" class=\"dataframe\">\n",
       "  <thead>\n",
       "    <tr style=\"text-align: right;\">\n",
       "      <th></th>\n",
       "      <th>Country ID</th>\n",
       "      <th>Country ISO-3 Code</th>\n",
       "      <th>Country</th>\n",
       "    </tr>\n",
       "  </thead>\n",
       "  <tbody>\n",
       "    <tr>\n",
       "      <th>1</th>\n",
       "      <td>ctry1</td>\n",
       "      <td>AFG</td>\n",
       "      <td>Afghanistan</td>\n",
       "    </tr>\n",
       "    <tr>\n",
       "      <th>1005</th>\n",
       "      <td>ctry2</td>\n",
       "      <td>ALB</td>\n",
       "      <td>Albania</td>\n",
       "    </tr>\n",
       "    <tr>\n",
       "      <th>1555</th>\n",
       "      <td>ctry3</td>\n",
       "      <td>DZA</td>\n",
       "      <td>Algeria</td>\n",
       "    </tr>\n",
       "    <tr>\n",
       "      <th>2600</th>\n",
       "      <td>ctry4</td>\n",
       "      <td>AGO</td>\n",
       "      <td>Angola</td>\n",
       "    </tr>\n",
       "    <tr>\n",
       "      <th>3164</th>\n",
       "      <td>ctry5</td>\n",
       "      <td>ARG</td>\n",
       "      <td>Argentina</td>\n",
       "    </tr>\n",
       "    <tr>\n",
       "      <th>...</th>\n",
       "      <td>...</td>\n",
       "      <td>...</td>\n",
       "      <td>...</td>\n",
       "    </tr>\n",
       "    <tr>\n",
       "      <th>144521</th>\n",
       "      <td>ctry150</td>\n",
       "      <td>VNM</td>\n",
       "      <td>Viet Nam</td>\n",
       "    </tr>\n",
       "    <tr>\n",
       "      <th>151646</th>\n",
       "      <td>ctry151</td>\n",
       "      <td>YEM</td>\n",
       "      <td>Yemen</td>\n",
       "    </tr>\n",
       "    <tr>\n",
       "      <th>153070</th>\n",
       "      <td>ctry152</td>\n",
       "      <td>ZMB</td>\n",
       "      <td>Zambia</td>\n",
       "    </tr>\n",
       "    <tr>\n",
       "      <th>154420</th>\n",
       "      <td>ctry153</td>\n",
       "      <td>ZWE</td>\n",
       "      <td>Zimbabwe</td>\n",
       "    </tr>\n",
       "    <tr>\n",
       "      <th>156020</th>\n",
       "      <td>ctry154</td>\n",
       "      <td>PSE</td>\n",
       "      <td>occupied Palestinian territory</td>\n",
       "    </tr>\n",
       "  </tbody>\n",
       "</table>\n",
       "<p>154 rows × 3 columns</p>\n",
       "</div>"
      ],
      "text/plain": [
       "       Country ID Country ISO-3 Code                         Country\n",
       "1           ctry1                AFG                     Afghanistan\n",
       "1005        ctry2                ALB                         Albania\n",
       "1555        ctry3                DZA                         Algeria\n",
       "2600        ctry4                AGO                          Angola\n",
       "3164        ctry5                ARG                       Argentina\n",
       "...           ...                ...                             ...\n",
       "144521    ctry150                VNM                        Viet Nam\n",
       "151646    ctry151                YEM                           Yemen\n",
       "153070    ctry152                ZMB                          Zambia\n",
       "154420    ctry153                ZWE                        Zimbabwe\n",
       "156020    ctry154                PSE  occupied Palestinian territory\n",
       "\n",
       "[154 rows x 3 columns]"
      ]
     },
     "execution_count": 171,
     "metadata": {},
     "output_type": "execute_result"
    }
   ],
   "source": [
    "# Reorder the columns so that 'Dimension ID' is first, then 'Dimension'\n",
    "country_df = country_df[['Country ID', 'Country ISO-3 Code', 'Country']]\n",
    "\n",
    "# Display the updated DataFrame\n",
    "country_df"
   ]
  },
  {
   "cell_type": "code",
   "execution_count": 173,
   "metadata": {},
   "outputs": [],
   "source": [
    "# Export country_df as CSV file.\n",
    "country_df.to_csv(\"data/country.csv\", index=False)"
   ]
  },
  {
   "cell_type": "code",
   "execution_count": 153,
   "metadata": {},
   "outputs": [
    {
     "name": "stdout",
     "output_type": "stream",
     "text": [
      "   Anthropometric Indicator                              Indicator Description\n",
      "1                overweight  Overweight prevalence in children aged < 5 yea...\n",
      "9              overweight_F  Overweight prevalence in children aged < 5 yea...\n",
      "15             overweight_M  Overweight prevalence in children aged < 5 yea...\n",
      "21                 stunting  Stunting prevalence in children aged < 5 years...\n",
      "29               stunting_F  Stunting prevalence in children aged < 5 years...\n",
      "35               stunting_M  Stunting prevalence in children aged < 5 years...\n",
      "41              underweight  Underweight prevalence in children aged < 5 ye...\n",
      "49            underweight_F  Underweight prevalence in children aged < 5 ye...\n",
      "55            underweight_M  Underweight prevalence in children aged < 5 ye...\n",
      "61                  wasting  Wasting prevalence in children aged < 5 years (%)\n",
      "69                wasting_F  Wasting prevalence in children aged < 5 years ...\n",
      "75                wasting_M  Wasting prevalence in children aged < 5 years ...\n",
      "81               wastingsev  Severe wasting prevalence in children aged < 5...\n",
      "89             wastingsev_F  Severe wasting prevalence in children aged < 5...\n",
      "95             wastingsev_M  Severe wasting prevalence in children aged < 5...\n"
     ]
    }
   ],
   "source": [
    "# Create a new DataFrame with unique values from 'Anthropometric Indicator' and 'Indicator Description' columns\n",
    "indicator_df = cleaned_df[['Anthropometric Indicator', 'Indicator Description']].drop_duplicates()\n",
    "\n",
    "# Display the new DataFrame\n",
    "print(indicator_df)"
   ]
  },
  {
   "cell_type": "code",
   "execution_count": 175,
   "metadata": {},
   "outputs": [
    {
     "name": "stdout",
     "output_type": "stream",
     "text": [
      "[ 1  2  3  4  5  6  7  8  9 10 11 12 13 14 15]\n"
     ]
    }
   ],
   "source": [
    "# Create numpy array for each of the Dimensions\n",
    "indicator_ids = np.arange(1, len(indicator_df) + 1)\n",
    "print(indicator_ids)"
   ]
  },
  {
   "cell_type": "code",
   "execution_count": 176,
   "metadata": {},
   "outputs": [
    {
     "name": "stdout",
     "output_type": "stream",
     "text": [
      "['ind1', 'ind2', 'ind3', 'ind4', 'ind5', 'ind6', 'ind7', 'ind8', 'ind9', 'ind10', 'ind11', 'ind12', 'ind13', 'ind14', 'ind15']\n"
     ]
    }
   ],
   "source": [
    "# Use a list comprehension to add \"ind\" to each ind_id.\n",
    "ind_ids = [\"ind\" + str(ind_id) for ind_id in indicator_ids]\n",
    "\n",
    "print(ind_ids)"
   ]
  },
  {
   "cell_type": "code",
   "execution_count": 179,
   "metadata": {},
   "outputs": [
    {
     "name": "stdout",
     "output_type": "stream",
     "text": [
      "   Anthropometric Indicator  \\\n",
      "1                overweight   \n",
      "9              overweight_F   \n",
      "15             overweight_M   \n",
      "21                 stunting   \n",
      "29               stunting_F   \n",
      "35               stunting_M   \n",
      "41              underweight   \n",
      "49            underweight_F   \n",
      "55            underweight_M   \n",
      "61                  wasting   \n",
      "69                wasting_F   \n",
      "75                wasting_M   \n",
      "81               wastingsev   \n",
      "89             wastingsev_F   \n",
      "95             wastingsev_M   \n",
      "\n",
      "                                Indicator Description Indicator ID  \n",
      "1   Overweight prevalence in children aged < 5 yea...         ind1  \n",
      "9   Overweight prevalence in children aged < 5 yea...         ind2  \n",
      "15  Overweight prevalence in children aged < 5 yea...         ind3  \n",
      "21  Stunting prevalence in children aged < 5 years...         ind4  \n",
      "29  Stunting prevalence in children aged < 5 years...         ind5  \n",
      "35  Stunting prevalence in children aged < 5 years...         ind6  \n",
      "41  Underweight prevalence in children aged < 5 ye...         ind7  \n",
      "49  Underweight prevalence in children aged < 5 ye...         ind8  \n",
      "55  Underweight prevalence in children aged < 5 ye...         ind9  \n",
      "61  Wasting prevalence in children aged < 5 years (%)        ind10  \n",
      "69  Wasting prevalence in children aged < 5 years ...        ind11  \n",
      "75  Wasting prevalence in children aged < 5 years ...        ind12  \n",
      "81  Severe wasting prevalence in children aged < 5...        ind13  \n",
      "89  Severe wasting prevalence in children aged < 5...        ind14  \n",
      "95  Severe wasting prevalence in children aged < 5...        ind15  \n"
     ]
    }
   ],
   "source": [
    "# Add the ind_ids list as a new column\n",
    "indicator_df['Indicator ID'] = ind_ids\n",
    "\n",
    "print(indicator_df)"
   ]
  },
  {
   "cell_type": "code",
   "execution_count": 180,
   "metadata": {},
   "outputs": [
    {
     "data": {
      "text/html": [
       "<div>\n",
       "<style scoped>\n",
       "    .dataframe tbody tr th:only-of-type {\n",
       "        vertical-align: middle;\n",
       "    }\n",
       "\n",
       "    .dataframe tbody tr th {\n",
       "        vertical-align: top;\n",
       "    }\n",
       "\n",
       "    .dataframe thead th {\n",
       "        text-align: right;\n",
       "    }\n",
       "</style>\n",
       "<table border=\"1\" class=\"dataframe\">\n",
       "  <thead>\n",
       "    <tr style=\"text-align: right;\">\n",
       "      <th></th>\n",
       "      <th>Indicator ID</th>\n",
       "      <th>Anthropometric Indicator</th>\n",
       "      <th>Indicator Description</th>\n",
       "    </tr>\n",
       "  </thead>\n",
       "  <tbody>\n",
       "    <tr>\n",
       "      <th>1</th>\n",
       "      <td>ind1</td>\n",
       "      <td>overweight</td>\n",
       "      <td>Overweight prevalence in children aged &lt; 5 yea...</td>\n",
       "    </tr>\n",
       "    <tr>\n",
       "      <th>9</th>\n",
       "      <td>ind2</td>\n",
       "      <td>overweight_F</td>\n",
       "      <td>Overweight prevalence in children aged &lt; 5 yea...</td>\n",
       "    </tr>\n",
       "    <tr>\n",
       "      <th>15</th>\n",
       "      <td>ind3</td>\n",
       "      <td>overweight_M</td>\n",
       "      <td>Overweight prevalence in children aged &lt; 5 yea...</td>\n",
       "    </tr>\n",
       "    <tr>\n",
       "      <th>21</th>\n",
       "      <td>ind4</td>\n",
       "      <td>stunting</td>\n",
       "      <td>Stunting prevalence in children aged &lt; 5 years...</td>\n",
       "    </tr>\n",
       "    <tr>\n",
       "      <th>29</th>\n",
       "      <td>ind5</td>\n",
       "      <td>stunting_F</td>\n",
       "      <td>Stunting prevalence in children aged &lt; 5 years...</td>\n",
       "    </tr>\n",
       "    <tr>\n",
       "      <th>35</th>\n",
       "      <td>ind6</td>\n",
       "      <td>stunting_M</td>\n",
       "      <td>Stunting prevalence in children aged &lt; 5 years...</td>\n",
       "    </tr>\n",
       "    <tr>\n",
       "      <th>41</th>\n",
       "      <td>ind7</td>\n",
       "      <td>underweight</td>\n",
       "      <td>Underweight prevalence in children aged &lt; 5 ye...</td>\n",
       "    </tr>\n",
       "    <tr>\n",
       "      <th>49</th>\n",
       "      <td>ind8</td>\n",
       "      <td>underweight_F</td>\n",
       "      <td>Underweight prevalence in children aged &lt; 5 ye...</td>\n",
       "    </tr>\n",
       "    <tr>\n",
       "      <th>55</th>\n",
       "      <td>ind9</td>\n",
       "      <td>underweight_M</td>\n",
       "      <td>Underweight prevalence in children aged &lt; 5 ye...</td>\n",
       "    </tr>\n",
       "    <tr>\n",
       "      <th>61</th>\n",
       "      <td>ind10</td>\n",
       "      <td>wasting</td>\n",
       "      <td>Wasting prevalence in children aged &lt; 5 years (%)</td>\n",
       "    </tr>\n",
       "    <tr>\n",
       "      <th>69</th>\n",
       "      <td>ind11</td>\n",
       "      <td>wasting_F</td>\n",
       "      <td>Wasting prevalence in children aged &lt; 5 years ...</td>\n",
       "    </tr>\n",
       "    <tr>\n",
       "      <th>75</th>\n",
       "      <td>ind12</td>\n",
       "      <td>wasting_M</td>\n",
       "      <td>Wasting prevalence in children aged &lt; 5 years ...</td>\n",
       "    </tr>\n",
       "    <tr>\n",
       "      <th>81</th>\n",
       "      <td>ind13</td>\n",
       "      <td>wastingsev</td>\n",
       "      <td>Severe wasting prevalence in children aged &lt; 5...</td>\n",
       "    </tr>\n",
       "    <tr>\n",
       "      <th>89</th>\n",
       "      <td>ind14</td>\n",
       "      <td>wastingsev_F</td>\n",
       "      <td>Severe wasting prevalence in children aged &lt; 5...</td>\n",
       "    </tr>\n",
       "    <tr>\n",
       "      <th>95</th>\n",
       "      <td>ind15</td>\n",
       "      <td>wastingsev_M</td>\n",
       "      <td>Severe wasting prevalence in children aged &lt; 5...</td>\n",
       "    </tr>\n",
       "  </tbody>\n",
       "</table>\n",
       "</div>"
      ],
      "text/plain": [
       "   Indicator ID Anthropometric Indicator  \\\n",
       "1          ind1               overweight   \n",
       "9          ind2             overweight_F   \n",
       "15         ind3             overweight_M   \n",
       "21         ind4                 stunting   \n",
       "29         ind5               stunting_F   \n",
       "35         ind6               stunting_M   \n",
       "41         ind7              underweight   \n",
       "49         ind8            underweight_F   \n",
       "55         ind9            underweight_M   \n",
       "61        ind10                  wasting   \n",
       "69        ind11                wasting_F   \n",
       "75        ind12                wasting_M   \n",
       "81        ind13               wastingsev   \n",
       "89        ind14             wastingsev_F   \n",
       "95        ind15             wastingsev_M   \n",
       "\n",
       "                                Indicator Description  \n",
       "1   Overweight prevalence in children aged < 5 yea...  \n",
       "9   Overweight prevalence in children aged < 5 yea...  \n",
       "15  Overweight prevalence in children aged < 5 yea...  \n",
       "21  Stunting prevalence in children aged < 5 years...  \n",
       "29  Stunting prevalence in children aged < 5 years...  \n",
       "35  Stunting prevalence in children aged < 5 years...  \n",
       "41  Underweight prevalence in children aged < 5 ye...  \n",
       "49  Underweight prevalence in children aged < 5 ye...  \n",
       "55  Underweight prevalence in children aged < 5 ye...  \n",
       "61  Wasting prevalence in children aged < 5 years (%)  \n",
       "69  Wasting prevalence in children aged < 5 years ...  \n",
       "75  Wasting prevalence in children aged < 5 years ...  \n",
       "81  Severe wasting prevalence in children aged < 5...  \n",
       "89  Severe wasting prevalence in children aged < 5...  \n",
       "95  Severe wasting prevalence in children aged < 5...  "
      ]
     },
     "execution_count": 180,
     "metadata": {},
     "output_type": "execute_result"
    }
   ],
   "source": [
    "# Reorder the columns so that 'Indicator ID' is first\n",
    "indicator_df = indicator_df[['Indicator ID', 'Anthropometric Indicator', 'Indicator Description']]\n",
    "\n",
    "# Display the updated DataFrame\n",
    "indicator_df"
   ]
  },
  {
   "cell_type": "code",
   "execution_count": 181,
   "metadata": {},
   "outputs": [],
   "source": [
    "# Export indicator_df as CSV file.\n",
    "indicator_df.to_csv(\"data/indicator.csv\", index=False)"
   ]
  },
  {
   "cell_type": "code",
   "execution_count": 163,
   "metadata": {},
   "outputs": [
    {
     "data": {
      "text/html": [
       "<div>\n",
       "<style scoped>\n",
       "    .dataframe tbody tr th:only-of-type {\n",
       "        vertical-align: middle;\n",
       "    }\n",
       "\n",
       "    .dataframe tbody tr th {\n",
       "        vertical-align: top;\n",
       "    }\n",
       "\n",
       "    .dataframe thead th {\n",
       "        text-align: right;\n",
       "    }\n",
       "</style>\n",
       "<table border=\"1\" class=\"dataframe\">\n",
       "  <thead>\n",
       "    <tr style=\"text-align: right;\">\n",
       "      <th></th>\n",
       "      <th>Dimension</th>\n",
       "    </tr>\n",
       "  </thead>\n",
       "  <tbody>\n",
       "    <tr>\n",
       "      <th>1</th>\n",
       "      <td>Child's age (6 groups) (0-59m)</td>\n",
       "    </tr>\n",
       "    <tr>\n",
       "      <th>6</th>\n",
       "      <td>Sex</td>\n",
       "    </tr>\n",
       "    <tr>\n",
       "      <th>106</th>\n",
       "      <td>Place of residence</td>\n",
       "    </tr>\n",
       "    <tr>\n",
       "      <th>110</th>\n",
       "      <td>Subnational region</td>\n",
       "    </tr>\n",
       "    <tr>\n",
       "      <th>386</th>\n",
       "      <td>Economic status (wealth quintile)</td>\n",
       "    </tr>\n",
       "    <tr>\n",
       "      <th>391</th>\n",
       "      <td>Education (3 groups)</td>\n",
       "    </tr>\n",
       "  </tbody>\n",
       "</table>\n",
       "</div>"
      ],
      "text/plain": [
       "                             Dimension\n",
       "1       Child's age (6 groups) (0-59m)\n",
       "6                                  Sex\n",
       "106                 Place of residence\n",
       "110                 Subnational region\n",
       "386  Economic status (wealth quintile)\n",
       "391               Education (3 groups)"
      ]
     },
     "execution_count": 163,
     "metadata": {},
     "output_type": "execute_result"
    }
   ],
   "source": [
    "# Create a new DataFrame with unique values from the 'Dimension' column\n",
    "dimension_df = cleaned_df[['Dimension']].drop_duplicates()\n",
    "\n",
    "# Display the new DataFrame\n",
    "print(dimension_df)"
   ]
  },
  {
   "cell_type": "code",
   "execution_count": 164,
   "metadata": {},
   "outputs": [
    {
     "name": "stdout",
     "output_type": "stream",
     "text": [
      "[1 2 3 4 5 6]\n"
     ]
    }
   ],
   "source": [
    "# Create numpy array for each of the Dimensions\n",
    "dimension_ids = np.arange(1, len(dimension_df) + 1)\n",
    "print(dimension_ids)"
   ]
  },
  {
   "cell_type": "code",
   "execution_count": 165,
   "metadata": {},
   "outputs": [
    {
     "name": "stdout",
     "output_type": "stream",
     "text": [
      "['dim1', 'dim2', 'dim3', 'dim4', 'dim5', 'dim6']\n"
     ]
    }
   ],
   "source": [
    "# Use a list comprehension to add \"dim\" to each dimension_id.\n",
    "dim_ids = [\"dim\" + str(dim_id) for dim_id in dimension_ids]\n",
    "\n",
    "print(dim_ids)"
   ]
  },
  {
   "cell_type": "code",
   "execution_count": 166,
   "metadata": {},
   "outputs": [
    {
     "data": {
      "text/html": [
       "<div>\n",
       "<style scoped>\n",
       "    .dataframe tbody tr th:only-of-type {\n",
       "        vertical-align: middle;\n",
       "    }\n",
       "\n",
       "    .dataframe tbody tr th {\n",
       "        vertical-align: top;\n",
       "    }\n",
       "\n",
       "    .dataframe thead th {\n",
       "        text-align: right;\n",
       "    }\n",
       "</style>\n",
       "<table border=\"1\" class=\"dataframe\">\n",
       "  <thead>\n",
       "    <tr style=\"text-align: right;\">\n",
       "      <th></th>\n",
       "      <th>Dimension</th>\n",
       "      <th>Dimension ID</th>\n",
       "    </tr>\n",
       "  </thead>\n",
       "  <tbody>\n",
       "    <tr>\n",
       "      <th>1</th>\n",
       "      <td>Child's age (6 groups) (0-59m)</td>\n",
       "      <td>1</td>\n",
       "    </tr>\n",
       "    <tr>\n",
       "      <th>6</th>\n",
       "      <td>Sex</td>\n",
       "      <td>2</td>\n",
       "    </tr>\n",
       "    <tr>\n",
       "      <th>106</th>\n",
       "      <td>Place of residence</td>\n",
       "      <td>3</td>\n",
       "    </tr>\n",
       "    <tr>\n",
       "      <th>110</th>\n",
       "      <td>Subnational region</td>\n",
       "      <td>4</td>\n",
       "    </tr>\n",
       "    <tr>\n",
       "      <th>386</th>\n",
       "      <td>Economic status (wealth quintile)</td>\n",
       "      <td>5</td>\n",
       "    </tr>\n",
       "    <tr>\n",
       "      <th>391</th>\n",
       "      <td>Education (3 groups)</td>\n",
       "      <td>6</td>\n",
       "    </tr>\n",
       "  </tbody>\n",
       "</table>\n",
       "</div>"
      ],
      "text/plain": [
       "                             Dimension  Dimension ID\n",
       "1       Child's age (6 groups) (0-59m)             1\n",
       "6                                  Sex             2\n",
       "106                 Place of residence             3\n",
       "110                 Subnational region             4\n",
       "386  Economic status (wealth quintile)             5\n",
       "391               Education (3 groups)             6"
      ]
     },
     "execution_count": 166,
     "metadata": {},
     "output_type": "execute_result"
    }
   ],
   "source": [
    "# Add the dimension_ids list as a new column\n",
    "dimension_df['Dimension ID'] = dimension_ids\n",
    "\n",
    "print(dimension_df)"
   ]
  },
  {
   "cell_type": "code",
   "execution_count": 167,
   "metadata": {},
   "outputs": [
    {
     "data": {
      "text/html": [
       "<div>\n",
       "<style scoped>\n",
       "    .dataframe tbody tr th:only-of-type {\n",
       "        vertical-align: middle;\n",
       "    }\n",
       "\n",
       "    .dataframe tbody tr th {\n",
       "        vertical-align: top;\n",
       "    }\n",
       "\n",
       "    .dataframe thead th {\n",
       "        text-align: right;\n",
       "    }\n",
       "</style>\n",
       "<table border=\"1\" class=\"dataframe\">\n",
       "  <thead>\n",
       "    <tr style=\"text-align: right;\">\n",
       "      <th></th>\n",
       "      <th>Dimension ID</th>\n",
       "      <th>Dimension</th>\n",
       "    </tr>\n",
       "  </thead>\n",
       "  <tbody>\n",
       "    <tr>\n",
       "      <th>1</th>\n",
       "      <td>1</td>\n",
       "      <td>Child's age (6 groups) (0-59m)</td>\n",
       "    </tr>\n",
       "    <tr>\n",
       "      <th>6</th>\n",
       "      <td>2</td>\n",
       "      <td>Sex</td>\n",
       "    </tr>\n",
       "    <tr>\n",
       "      <th>106</th>\n",
       "      <td>3</td>\n",
       "      <td>Place of residence</td>\n",
       "    </tr>\n",
       "    <tr>\n",
       "      <th>110</th>\n",
       "      <td>4</td>\n",
       "      <td>Subnational region</td>\n",
       "    </tr>\n",
       "    <tr>\n",
       "      <th>386</th>\n",
       "      <td>5</td>\n",
       "      <td>Economic status (wealth quintile)</td>\n",
       "    </tr>\n",
       "    <tr>\n",
       "      <th>391</th>\n",
       "      <td>6</td>\n",
       "      <td>Education (3 groups)</td>\n",
       "    </tr>\n",
       "  </tbody>\n",
       "</table>\n",
       "</div>"
      ],
      "text/plain": [
       "     Dimension ID                          Dimension\n",
       "1               1     Child's age (6 groups) (0-59m)\n",
       "6               2                                Sex\n",
       "106             3                 Place of residence\n",
       "110             4                 Subnational region\n",
       "386             5  Economic status (wealth quintile)\n",
       "391             6               Education (3 groups)"
      ]
     },
     "execution_count": 167,
     "metadata": {},
     "output_type": "execute_result"
    }
   ],
   "source": [
    "# Reorder the columns so that 'Dimension ID' is first, then 'Dimension'\n",
    "dimension_df = dimension_df[['Dimension ID', 'Dimension']]\n",
    "\n",
    "# Display the updated DataFrame\n",
    "dimension_df"
   ]
  },
  {
   "cell_type": "code",
   "execution_count": 187,
   "metadata": {},
   "outputs": [],
   "source": [
    "# Export dimension_df as CSV file.\n",
    "dimension_df.to_csv(\"data/dimension.csv\", index=False)"
   ]
  },
  {
   "cell_type": "code",
   "execution_count": 117,
   "metadata": {},
   "outputs": [
    {
     "name": "stdout",
     "output_type": "stream",
     "text": [
      "           Dimension Value\n",
      "1             12-23 months\n",
      "2             24-35 months\n",
      "3             36-47 months\n",
      "4             48-59 months\n",
      "5              6-11 months\n",
      "...                    ...\n",
      "155443    Mashonaland West\n",
      "155444            Masvingo\n",
      "155445  Matabeleland North\n",
      "155446  Matabeleland South\n",
      "155447            Midlands\n",
      "\n",
      "[4214 rows x 1 columns]\n"
     ]
    }
   ],
   "source": [
    "# Create a new DataFrame with unique values from the 'Dimension Value' column\n",
    "dimension_value_df = cleaned_df[['Dimension Value']].drop_duplicates()\n",
    "\n",
    "# Display the new DataFrame\n",
    "print(dimension_value_df)"
   ]
  },
  {
   "cell_type": "code",
   "execution_count": 182,
   "metadata": {},
   "outputs": [
    {
     "name": "stdout",
     "output_type": "stream",
     "text": [
      "[   1    2    3 ... 4212 4213 4214]\n"
     ]
    }
   ],
   "source": [
    "# Create numpy array for each of the dimension values\n",
    "dimension_value_ids = np.arange(1, len(dimension_value_df) + 1)\n",
    "print(dimension_value_ids)"
   ]
  },
  {
   "cell_type": "code",
   "execution_count": 183,
   "metadata": {},
   "outputs": [
    {
     "name": "stdout",
     "output_type": "stream",
     "text": [
      "['dimval1', 'dimval2', 'dimval3', 'dimval4', 'dimval5', 'dimval6', 'dimval7', 'dimval8', 'dimval9', 'dimval10', 'dimval11', 'dimval12', 'dimval13', 'dimval14', 'dimval15', 'dimval16', 'dimval17', 'dimval18', 'dimval19', 'dimval20', 'dimval21', 'dimval22', 'dimval23', 'dimval24', 'dimval25', 'dimval26', 'dimval27', 'dimval28', 'dimval29', 'dimval30', 'dimval31', 'dimval32', 'dimval33', 'dimval34', 'dimval35', 'dimval36', 'dimval37', 'dimval38', 'dimval39', 'dimval40', 'dimval41', 'dimval42', 'dimval43', 'dimval44', 'dimval45', 'dimval46', 'dimval47', 'dimval48', 'dimval49', 'dimval50', 'dimval51', 'dimval52', 'dimval53', 'dimval54', 'dimval55', 'dimval56', 'dimval57', 'dimval58', 'dimval59', 'dimval60', 'dimval61', 'dimval62', 'dimval63', 'dimval64', 'dimval65', 'dimval66', 'dimval67', 'dimval68', 'dimval69', 'dimval70', 'dimval71', 'dimval72', 'dimval73', 'dimval74', 'dimval75', 'dimval76', 'dimval77', 'dimval78', 'dimval79', 'dimval80', 'dimval81', 'dimval82', 'dimval83', 'dimval84', 'dimval85', 'dimval86', 'dimval87', 'dimval88', 'dimval89', 'dimval90', 'dimval91', 'dimval92', 'dimval93', 'dimval94', 'dimval95', 'dimval96', 'dimval97', 'dimval98', 'dimval99', 'dimval100', 'dimval101', 'dimval102', 'dimval103', 'dimval104', 'dimval105', 'dimval106', 'dimval107', 'dimval108', 'dimval109', 'dimval110', 'dimval111', 'dimval112', 'dimval113', 'dimval114', 'dimval115', 'dimval116', 'dimval117', 'dimval118', 'dimval119', 'dimval120', 'dimval121', 'dimval122', 'dimval123', 'dimval124', 'dimval125', 'dimval126', 'dimval127', 'dimval128', 'dimval129', 'dimval130', 'dimval131', 'dimval132', 'dimval133', 'dimval134', 'dimval135', 'dimval136', 'dimval137', 'dimval138', 'dimval139', 'dimval140', 'dimval141', 'dimval142', 'dimval143', 'dimval144', 'dimval145', 'dimval146', 'dimval147', 'dimval148', 'dimval149', 'dimval150', 'dimval151', 'dimval152', 'dimval153', 'dimval154', 'dimval155', 'dimval156', 'dimval157', 'dimval158', 'dimval159', 'dimval160', 'dimval161', 'dimval162', 'dimval163', 'dimval164', 'dimval165', 'dimval166', 'dimval167', 'dimval168', 'dimval169', 'dimval170', 'dimval171', 'dimval172', 'dimval173', 'dimval174', 'dimval175', 'dimval176', 'dimval177', 'dimval178', 'dimval179', 'dimval180', 'dimval181', 'dimval182', 'dimval183', 'dimval184', 'dimval185', 'dimval186', 'dimval187', 'dimval188', 'dimval189', 'dimval190', 'dimval191', 'dimval192', 'dimval193', 'dimval194', 'dimval195', 'dimval196', 'dimval197', 'dimval198', 'dimval199', 'dimval200', 'dimval201', 'dimval202', 'dimval203', 'dimval204', 'dimval205', 'dimval206', 'dimval207', 'dimval208', 'dimval209', 'dimval210', 'dimval211', 'dimval212', 'dimval213', 'dimval214', 'dimval215', 'dimval216', 'dimval217', 'dimval218', 'dimval219', 'dimval220', 'dimval221', 'dimval222', 'dimval223', 'dimval224', 'dimval225', 'dimval226', 'dimval227', 'dimval228', 'dimval229', 'dimval230', 'dimval231', 'dimval232', 'dimval233', 'dimval234', 'dimval235', 'dimval236', 'dimval237', 'dimval238', 'dimval239', 'dimval240', 'dimval241', 'dimval242', 'dimval243', 'dimval244', 'dimval245', 'dimval246', 'dimval247', 'dimval248', 'dimval249', 'dimval250', 'dimval251', 'dimval252', 'dimval253', 'dimval254', 'dimval255', 'dimval256', 'dimval257', 'dimval258', 'dimval259', 'dimval260', 'dimval261', 'dimval262', 'dimval263', 'dimval264', 'dimval265', 'dimval266', 'dimval267', 'dimval268', 'dimval269', 'dimval270', 'dimval271', 'dimval272', 'dimval273', 'dimval274', 'dimval275', 'dimval276', 'dimval277', 'dimval278', 'dimval279', 'dimval280', 'dimval281', 'dimval282', 'dimval283', 'dimval284', 'dimval285', 'dimval286', 'dimval287', 'dimval288', 'dimval289', 'dimval290', 'dimval291', 'dimval292', 'dimval293', 'dimval294', 'dimval295', 'dimval296', 'dimval297', 'dimval298', 'dimval299', 'dimval300', 'dimval301', 'dimval302', 'dimval303', 'dimval304', 'dimval305', 'dimval306', 'dimval307', 'dimval308', 'dimval309', 'dimval310', 'dimval311', 'dimval312', 'dimval313', 'dimval314', 'dimval315', 'dimval316', 'dimval317', 'dimval318', 'dimval319', 'dimval320', 'dimval321', 'dimval322', 'dimval323', 'dimval324', 'dimval325', 'dimval326', 'dimval327', 'dimval328', 'dimval329', 'dimval330', 'dimval331', 'dimval332', 'dimval333', 'dimval334', 'dimval335', 'dimval336', 'dimval337', 'dimval338', 'dimval339', 'dimval340', 'dimval341', 'dimval342', 'dimval343', 'dimval344', 'dimval345', 'dimval346', 'dimval347', 'dimval348', 'dimval349', 'dimval350', 'dimval351', 'dimval352', 'dimval353', 'dimval354', 'dimval355', 'dimval356', 'dimval357', 'dimval358', 'dimval359', 'dimval360', 'dimval361', 'dimval362', 'dimval363', 'dimval364', 'dimval365', 'dimval366', 'dimval367', 'dimval368', 'dimval369', 'dimval370', 'dimval371', 'dimval372', 'dimval373', 'dimval374', 'dimval375', 'dimval376', 'dimval377', 'dimval378', 'dimval379', 'dimval380', 'dimval381', 'dimval382', 'dimval383', 'dimval384', 'dimval385', 'dimval386', 'dimval387', 'dimval388', 'dimval389', 'dimval390', 'dimval391', 'dimval392', 'dimval393', 'dimval394', 'dimval395', 'dimval396', 'dimval397', 'dimval398', 'dimval399', 'dimval400', 'dimval401', 'dimval402', 'dimval403', 'dimval404', 'dimval405', 'dimval406', 'dimval407', 'dimval408', 'dimval409', 'dimval410', 'dimval411', 'dimval412', 'dimval413', 'dimval414', 'dimval415', 'dimval416', 'dimval417', 'dimval418', 'dimval419', 'dimval420', 'dimval421', 'dimval422', 'dimval423', 'dimval424', 'dimval425', 'dimval426', 'dimval427', 'dimval428', 'dimval429', 'dimval430', 'dimval431', 'dimval432', 'dimval433', 'dimval434', 'dimval435', 'dimval436', 'dimval437', 'dimval438', 'dimval439', 'dimval440', 'dimval441', 'dimval442', 'dimval443', 'dimval444', 'dimval445', 'dimval446', 'dimval447', 'dimval448', 'dimval449', 'dimval450', 'dimval451', 'dimval452', 'dimval453', 'dimval454', 'dimval455', 'dimval456', 'dimval457', 'dimval458', 'dimval459', 'dimval460', 'dimval461', 'dimval462', 'dimval463', 'dimval464', 'dimval465', 'dimval466', 'dimval467', 'dimval468', 'dimval469', 'dimval470', 'dimval471', 'dimval472', 'dimval473', 'dimval474', 'dimval475', 'dimval476', 'dimval477', 'dimval478', 'dimval479', 'dimval480', 'dimval481', 'dimval482', 'dimval483', 'dimval484', 'dimval485', 'dimval486', 'dimval487', 'dimval488', 'dimval489', 'dimval490', 'dimval491', 'dimval492', 'dimval493', 'dimval494', 'dimval495', 'dimval496', 'dimval497', 'dimval498', 'dimval499', 'dimval500', 'dimval501', 'dimval502', 'dimval503', 'dimval504', 'dimval505', 'dimval506', 'dimval507', 'dimval508', 'dimval509', 'dimval510', 'dimval511', 'dimval512', 'dimval513', 'dimval514', 'dimval515', 'dimval516', 'dimval517', 'dimval518', 'dimval519', 'dimval520', 'dimval521', 'dimval522', 'dimval523', 'dimval524', 'dimval525', 'dimval526', 'dimval527', 'dimval528', 'dimval529', 'dimval530', 'dimval531', 'dimval532', 'dimval533', 'dimval534', 'dimval535', 'dimval536', 'dimval537', 'dimval538', 'dimval539', 'dimval540', 'dimval541', 'dimval542', 'dimval543', 'dimval544', 'dimval545', 'dimval546', 'dimval547', 'dimval548', 'dimval549', 'dimval550', 'dimval551', 'dimval552', 'dimval553', 'dimval554', 'dimval555', 'dimval556', 'dimval557', 'dimval558', 'dimval559', 'dimval560', 'dimval561', 'dimval562', 'dimval563', 'dimval564', 'dimval565', 'dimval566', 'dimval567', 'dimval568', 'dimval569', 'dimval570', 'dimval571', 'dimval572', 'dimval573', 'dimval574', 'dimval575', 'dimval576', 'dimval577', 'dimval578', 'dimval579', 'dimval580', 'dimval581', 'dimval582', 'dimval583', 'dimval584', 'dimval585', 'dimval586', 'dimval587', 'dimval588', 'dimval589', 'dimval590', 'dimval591', 'dimval592', 'dimval593', 'dimval594', 'dimval595', 'dimval596', 'dimval597', 'dimval598', 'dimval599', 'dimval600', 'dimval601', 'dimval602', 'dimval603', 'dimval604', 'dimval605', 'dimval606', 'dimval607', 'dimval608', 'dimval609', 'dimval610', 'dimval611', 'dimval612', 'dimval613', 'dimval614', 'dimval615', 'dimval616', 'dimval617', 'dimval618', 'dimval619', 'dimval620', 'dimval621', 'dimval622', 'dimval623', 'dimval624', 'dimval625', 'dimval626', 'dimval627', 'dimval628', 'dimval629', 'dimval630', 'dimval631', 'dimval632', 'dimval633', 'dimval634', 'dimval635', 'dimval636', 'dimval637', 'dimval638', 'dimval639', 'dimval640', 'dimval641', 'dimval642', 'dimval643', 'dimval644', 'dimval645', 'dimval646', 'dimval647', 'dimval648', 'dimval649', 'dimval650', 'dimval651', 'dimval652', 'dimval653', 'dimval654', 'dimval655', 'dimval656', 'dimval657', 'dimval658', 'dimval659', 'dimval660', 'dimval661', 'dimval662', 'dimval663', 'dimval664', 'dimval665', 'dimval666', 'dimval667', 'dimval668', 'dimval669', 'dimval670', 'dimval671', 'dimval672', 'dimval673', 'dimval674', 'dimval675', 'dimval676', 'dimval677', 'dimval678', 'dimval679', 'dimval680', 'dimval681', 'dimval682', 'dimval683', 'dimval684', 'dimval685', 'dimval686', 'dimval687', 'dimval688', 'dimval689', 'dimval690', 'dimval691', 'dimval692', 'dimval693', 'dimval694', 'dimval695', 'dimval696', 'dimval697', 'dimval698', 'dimval699', 'dimval700', 'dimval701', 'dimval702', 'dimval703', 'dimval704', 'dimval705', 'dimval706', 'dimval707', 'dimval708', 'dimval709', 'dimval710', 'dimval711', 'dimval712', 'dimval713', 'dimval714', 'dimval715', 'dimval716', 'dimval717', 'dimval718', 'dimval719', 'dimval720', 'dimval721', 'dimval722', 'dimval723', 'dimval724', 'dimval725', 'dimval726', 'dimval727', 'dimval728', 'dimval729', 'dimval730', 'dimval731', 'dimval732', 'dimval733', 'dimval734', 'dimval735', 'dimval736', 'dimval737', 'dimval738', 'dimval739', 'dimval740', 'dimval741', 'dimval742', 'dimval743', 'dimval744', 'dimval745', 'dimval746', 'dimval747', 'dimval748', 'dimval749', 'dimval750', 'dimval751', 'dimval752', 'dimval753', 'dimval754', 'dimval755', 'dimval756', 'dimval757', 'dimval758', 'dimval759', 'dimval760', 'dimval761', 'dimval762', 'dimval763', 'dimval764', 'dimval765', 'dimval766', 'dimval767', 'dimval768', 'dimval769', 'dimval770', 'dimval771', 'dimval772', 'dimval773', 'dimval774', 'dimval775', 'dimval776', 'dimval777', 'dimval778', 'dimval779', 'dimval780', 'dimval781', 'dimval782', 'dimval783', 'dimval784', 'dimval785', 'dimval786', 'dimval787', 'dimval788', 'dimval789', 'dimval790', 'dimval791', 'dimval792', 'dimval793', 'dimval794', 'dimval795', 'dimval796', 'dimval797', 'dimval798', 'dimval799', 'dimval800', 'dimval801', 'dimval802', 'dimval803', 'dimval804', 'dimval805', 'dimval806', 'dimval807', 'dimval808', 'dimval809', 'dimval810', 'dimval811', 'dimval812', 'dimval813', 'dimval814', 'dimval815', 'dimval816', 'dimval817', 'dimval818', 'dimval819', 'dimval820', 'dimval821', 'dimval822', 'dimval823', 'dimval824', 'dimval825', 'dimval826', 'dimval827', 'dimval828', 'dimval829', 'dimval830', 'dimval831', 'dimval832', 'dimval833', 'dimval834', 'dimval835', 'dimval836', 'dimval837', 'dimval838', 'dimval839', 'dimval840', 'dimval841', 'dimval842', 'dimval843', 'dimval844', 'dimval845', 'dimval846', 'dimval847', 'dimval848', 'dimval849', 'dimval850', 'dimval851', 'dimval852', 'dimval853', 'dimval854', 'dimval855', 'dimval856', 'dimval857', 'dimval858', 'dimval859', 'dimval860', 'dimval861', 'dimval862', 'dimval863', 'dimval864', 'dimval865', 'dimval866', 'dimval867', 'dimval868', 'dimval869', 'dimval870', 'dimval871', 'dimval872', 'dimval873', 'dimval874', 'dimval875', 'dimval876', 'dimval877', 'dimval878', 'dimval879', 'dimval880', 'dimval881', 'dimval882', 'dimval883', 'dimval884', 'dimval885', 'dimval886', 'dimval887', 'dimval888', 'dimval889', 'dimval890', 'dimval891', 'dimval892', 'dimval893', 'dimval894', 'dimval895', 'dimval896', 'dimval897', 'dimval898', 'dimval899', 'dimval900', 'dimval901', 'dimval902', 'dimval903', 'dimval904', 'dimval905', 'dimval906', 'dimval907', 'dimval908', 'dimval909', 'dimval910', 'dimval911', 'dimval912', 'dimval913', 'dimval914', 'dimval915', 'dimval916', 'dimval917', 'dimval918', 'dimval919', 'dimval920', 'dimval921', 'dimval922', 'dimval923', 'dimval924', 'dimval925', 'dimval926', 'dimval927', 'dimval928', 'dimval929', 'dimval930', 'dimval931', 'dimval932', 'dimval933', 'dimval934', 'dimval935', 'dimval936', 'dimval937', 'dimval938', 'dimval939', 'dimval940', 'dimval941', 'dimval942', 'dimval943', 'dimval944', 'dimval945', 'dimval946', 'dimval947', 'dimval948', 'dimval949', 'dimval950', 'dimval951', 'dimval952', 'dimval953', 'dimval954', 'dimval955', 'dimval956', 'dimval957', 'dimval958', 'dimval959', 'dimval960', 'dimval961', 'dimval962', 'dimval963', 'dimval964', 'dimval965', 'dimval966', 'dimval967', 'dimval968', 'dimval969', 'dimval970', 'dimval971', 'dimval972', 'dimval973', 'dimval974', 'dimval975', 'dimval976', 'dimval977', 'dimval978', 'dimval979', 'dimval980', 'dimval981', 'dimval982', 'dimval983', 'dimval984', 'dimval985', 'dimval986', 'dimval987', 'dimval988', 'dimval989', 'dimval990', 'dimval991', 'dimval992', 'dimval993', 'dimval994', 'dimval995', 'dimval996', 'dimval997', 'dimval998', 'dimval999', 'dimval1000', 'dimval1001', 'dimval1002', 'dimval1003', 'dimval1004', 'dimval1005', 'dimval1006', 'dimval1007', 'dimval1008', 'dimval1009', 'dimval1010', 'dimval1011', 'dimval1012', 'dimval1013', 'dimval1014', 'dimval1015', 'dimval1016', 'dimval1017', 'dimval1018', 'dimval1019', 'dimval1020', 'dimval1021', 'dimval1022', 'dimval1023', 'dimval1024', 'dimval1025', 'dimval1026', 'dimval1027', 'dimval1028', 'dimval1029', 'dimval1030', 'dimval1031', 'dimval1032', 'dimval1033', 'dimval1034', 'dimval1035', 'dimval1036', 'dimval1037', 'dimval1038', 'dimval1039', 'dimval1040', 'dimval1041', 'dimval1042', 'dimval1043', 'dimval1044', 'dimval1045', 'dimval1046', 'dimval1047', 'dimval1048', 'dimval1049', 'dimval1050', 'dimval1051', 'dimval1052', 'dimval1053', 'dimval1054', 'dimval1055', 'dimval1056', 'dimval1057', 'dimval1058', 'dimval1059', 'dimval1060', 'dimval1061', 'dimval1062', 'dimval1063', 'dimval1064', 'dimval1065', 'dimval1066', 'dimval1067', 'dimval1068', 'dimval1069', 'dimval1070', 'dimval1071', 'dimval1072', 'dimval1073', 'dimval1074', 'dimval1075', 'dimval1076', 'dimval1077', 'dimval1078', 'dimval1079', 'dimval1080', 'dimval1081', 'dimval1082', 'dimval1083', 'dimval1084', 'dimval1085', 'dimval1086', 'dimval1087', 'dimval1088', 'dimval1089', 'dimval1090', 'dimval1091', 'dimval1092', 'dimval1093', 'dimval1094', 'dimval1095', 'dimval1096', 'dimval1097', 'dimval1098', 'dimval1099', 'dimval1100', 'dimval1101', 'dimval1102', 'dimval1103', 'dimval1104', 'dimval1105', 'dimval1106', 'dimval1107', 'dimval1108', 'dimval1109', 'dimval1110', 'dimval1111', 'dimval1112', 'dimval1113', 'dimval1114', 'dimval1115', 'dimval1116', 'dimval1117', 'dimval1118', 'dimval1119', 'dimval1120', 'dimval1121', 'dimval1122', 'dimval1123', 'dimval1124', 'dimval1125', 'dimval1126', 'dimval1127', 'dimval1128', 'dimval1129', 'dimval1130', 'dimval1131', 'dimval1132', 'dimval1133', 'dimval1134', 'dimval1135', 'dimval1136', 'dimval1137', 'dimval1138', 'dimval1139', 'dimval1140', 'dimval1141', 'dimval1142', 'dimval1143', 'dimval1144', 'dimval1145', 'dimval1146', 'dimval1147', 'dimval1148', 'dimval1149', 'dimval1150', 'dimval1151', 'dimval1152', 'dimval1153', 'dimval1154', 'dimval1155', 'dimval1156', 'dimval1157', 'dimval1158', 'dimval1159', 'dimval1160', 'dimval1161', 'dimval1162', 'dimval1163', 'dimval1164', 'dimval1165', 'dimval1166', 'dimval1167', 'dimval1168', 'dimval1169', 'dimval1170', 'dimval1171', 'dimval1172', 'dimval1173', 'dimval1174', 'dimval1175', 'dimval1176', 'dimval1177', 'dimval1178', 'dimval1179', 'dimval1180', 'dimval1181', 'dimval1182', 'dimval1183', 'dimval1184', 'dimval1185', 'dimval1186', 'dimval1187', 'dimval1188', 'dimval1189', 'dimval1190', 'dimval1191', 'dimval1192', 'dimval1193', 'dimval1194', 'dimval1195', 'dimval1196', 'dimval1197', 'dimval1198', 'dimval1199', 'dimval1200', 'dimval1201', 'dimval1202', 'dimval1203', 'dimval1204', 'dimval1205', 'dimval1206', 'dimval1207', 'dimval1208', 'dimval1209', 'dimval1210', 'dimval1211', 'dimval1212', 'dimval1213', 'dimval1214', 'dimval1215', 'dimval1216', 'dimval1217', 'dimval1218', 'dimval1219', 'dimval1220', 'dimval1221', 'dimval1222', 'dimval1223', 'dimval1224', 'dimval1225', 'dimval1226', 'dimval1227', 'dimval1228', 'dimval1229', 'dimval1230', 'dimval1231', 'dimval1232', 'dimval1233', 'dimval1234', 'dimval1235', 'dimval1236', 'dimval1237', 'dimval1238', 'dimval1239', 'dimval1240', 'dimval1241', 'dimval1242', 'dimval1243', 'dimval1244', 'dimval1245', 'dimval1246', 'dimval1247', 'dimval1248', 'dimval1249', 'dimval1250', 'dimval1251', 'dimval1252', 'dimval1253', 'dimval1254', 'dimval1255', 'dimval1256', 'dimval1257', 'dimval1258', 'dimval1259', 'dimval1260', 'dimval1261', 'dimval1262', 'dimval1263', 'dimval1264', 'dimval1265', 'dimval1266', 'dimval1267', 'dimval1268', 'dimval1269', 'dimval1270', 'dimval1271', 'dimval1272', 'dimval1273', 'dimval1274', 'dimval1275', 'dimval1276', 'dimval1277', 'dimval1278', 'dimval1279', 'dimval1280', 'dimval1281', 'dimval1282', 'dimval1283', 'dimval1284', 'dimval1285', 'dimval1286', 'dimval1287', 'dimval1288', 'dimval1289', 'dimval1290', 'dimval1291', 'dimval1292', 'dimval1293', 'dimval1294', 'dimval1295', 'dimval1296', 'dimval1297', 'dimval1298', 'dimval1299', 'dimval1300', 'dimval1301', 'dimval1302', 'dimval1303', 'dimval1304', 'dimval1305', 'dimval1306', 'dimval1307', 'dimval1308', 'dimval1309', 'dimval1310', 'dimval1311', 'dimval1312', 'dimval1313', 'dimval1314', 'dimval1315', 'dimval1316', 'dimval1317', 'dimval1318', 'dimval1319', 'dimval1320', 'dimval1321', 'dimval1322', 'dimval1323', 'dimval1324', 'dimval1325', 'dimval1326', 'dimval1327', 'dimval1328', 'dimval1329', 'dimval1330', 'dimval1331', 'dimval1332', 'dimval1333', 'dimval1334', 'dimval1335', 'dimval1336', 'dimval1337', 'dimval1338', 'dimval1339', 'dimval1340', 'dimval1341', 'dimval1342', 'dimval1343', 'dimval1344', 'dimval1345', 'dimval1346', 'dimval1347', 'dimval1348', 'dimval1349', 'dimval1350', 'dimval1351', 'dimval1352', 'dimval1353', 'dimval1354', 'dimval1355', 'dimval1356', 'dimval1357', 'dimval1358', 'dimval1359', 'dimval1360', 'dimval1361', 'dimval1362', 'dimval1363', 'dimval1364', 'dimval1365', 'dimval1366', 'dimval1367', 'dimval1368', 'dimval1369', 'dimval1370', 'dimval1371', 'dimval1372', 'dimval1373', 'dimval1374', 'dimval1375', 'dimval1376', 'dimval1377', 'dimval1378', 'dimval1379', 'dimval1380', 'dimval1381', 'dimval1382', 'dimval1383', 'dimval1384', 'dimval1385', 'dimval1386', 'dimval1387', 'dimval1388', 'dimval1389', 'dimval1390', 'dimval1391', 'dimval1392', 'dimval1393', 'dimval1394', 'dimval1395', 'dimval1396', 'dimval1397', 'dimval1398', 'dimval1399', 'dimval1400', 'dimval1401', 'dimval1402', 'dimval1403', 'dimval1404', 'dimval1405', 'dimval1406', 'dimval1407', 'dimval1408', 'dimval1409', 'dimval1410', 'dimval1411', 'dimval1412', 'dimval1413', 'dimval1414', 'dimval1415', 'dimval1416', 'dimval1417', 'dimval1418', 'dimval1419', 'dimval1420', 'dimval1421', 'dimval1422', 'dimval1423', 'dimval1424', 'dimval1425', 'dimval1426', 'dimval1427', 'dimval1428', 'dimval1429', 'dimval1430', 'dimval1431', 'dimval1432', 'dimval1433', 'dimval1434', 'dimval1435', 'dimval1436', 'dimval1437', 'dimval1438', 'dimval1439', 'dimval1440', 'dimval1441', 'dimval1442', 'dimval1443', 'dimval1444', 'dimval1445', 'dimval1446', 'dimval1447', 'dimval1448', 'dimval1449', 'dimval1450', 'dimval1451', 'dimval1452', 'dimval1453', 'dimval1454', 'dimval1455', 'dimval1456', 'dimval1457', 'dimval1458', 'dimval1459', 'dimval1460', 'dimval1461', 'dimval1462', 'dimval1463', 'dimval1464', 'dimval1465', 'dimval1466', 'dimval1467', 'dimval1468', 'dimval1469', 'dimval1470', 'dimval1471', 'dimval1472', 'dimval1473', 'dimval1474', 'dimval1475', 'dimval1476', 'dimval1477', 'dimval1478', 'dimval1479', 'dimval1480', 'dimval1481', 'dimval1482', 'dimval1483', 'dimval1484', 'dimval1485', 'dimval1486', 'dimval1487', 'dimval1488', 'dimval1489', 'dimval1490', 'dimval1491', 'dimval1492', 'dimval1493', 'dimval1494', 'dimval1495', 'dimval1496', 'dimval1497', 'dimval1498', 'dimval1499', 'dimval1500', 'dimval1501', 'dimval1502', 'dimval1503', 'dimval1504', 'dimval1505', 'dimval1506', 'dimval1507', 'dimval1508', 'dimval1509', 'dimval1510', 'dimval1511', 'dimval1512', 'dimval1513', 'dimval1514', 'dimval1515', 'dimval1516', 'dimval1517', 'dimval1518', 'dimval1519', 'dimval1520', 'dimval1521', 'dimval1522', 'dimval1523', 'dimval1524', 'dimval1525', 'dimval1526', 'dimval1527', 'dimval1528', 'dimval1529', 'dimval1530', 'dimval1531', 'dimval1532', 'dimval1533', 'dimval1534', 'dimval1535', 'dimval1536', 'dimval1537', 'dimval1538', 'dimval1539', 'dimval1540', 'dimval1541', 'dimval1542', 'dimval1543', 'dimval1544', 'dimval1545', 'dimval1546', 'dimval1547', 'dimval1548', 'dimval1549', 'dimval1550', 'dimval1551', 'dimval1552', 'dimval1553', 'dimval1554', 'dimval1555', 'dimval1556', 'dimval1557', 'dimval1558', 'dimval1559', 'dimval1560', 'dimval1561', 'dimval1562', 'dimval1563', 'dimval1564', 'dimval1565', 'dimval1566', 'dimval1567', 'dimval1568', 'dimval1569', 'dimval1570', 'dimval1571', 'dimval1572', 'dimval1573', 'dimval1574', 'dimval1575', 'dimval1576', 'dimval1577', 'dimval1578', 'dimval1579', 'dimval1580', 'dimval1581', 'dimval1582', 'dimval1583', 'dimval1584', 'dimval1585', 'dimval1586', 'dimval1587', 'dimval1588', 'dimval1589', 'dimval1590', 'dimval1591', 'dimval1592', 'dimval1593', 'dimval1594', 'dimval1595', 'dimval1596', 'dimval1597', 'dimval1598', 'dimval1599', 'dimval1600', 'dimval1601', 'dimval1602', 'dimval1603', 'dimval1604', 'dimval1605', 'dimval1606', 'dimval1607', 'dimval1608', 'dimval1609', 'dimval1610', 'dimval1611', 'dimval1612', 'dimval1613', 'dimval1614', 'dimval1615', 'dimval1616', 'dimval1617', 'dimval1618', 'dimval1619', 'dimval1620', 'dimval1621', 'dimval1622', 'dimval1623', 'dimval1624', 'dimval1625', 'dimval1626', 'dimval1627', 'dimval1628', 'dimval1629', 'dimval1630', 'dimval1631', 'dimval1632', 'dimval1633', 'dimval1634', 'dimval1635', 'dimval1636', 'dimval1637', 'dimval1638', 'dimval1639', 'dimval1640', 'dimval1641', 'dimval1642', 'dimval1643', 'dimval1644', 'dimval1645', 'dimval1646', 'dimval1647', 'dimval1648', 'dimval1649', 'dimval1650', 'dimval1651', 'dimval1652', 'dimval1653', 'dimval1654', 'dimval1655', 'dimval1656', 'dimval1657', 'dimval1658', 'dimval1659', 'dimval1660', 'dimval1661', 'dimval1662', 'dimval1663', 'dimval1664', 'dimval1665', 'dimval1666', 'dimval1667', 'dimval1668', 'dimval1669', 'dimval1670', 'dimval1671', 'dimval1672', 'dimval1673', 'dimval1674', 'dimval1675', 'dimval1676', 'dimval1677', 'dimval1678', 'dimval1679', 'dimval1680', 'dimval1681', 'dimval1682', 'dimval1683', 'dimval1684', 'dimval1685', 'dimval1686', 'dimval1687', 'dimval1688', 'dimval1689', 'dimval1690', 'dimval1691', 'dimval1692', 'dimval1693', 'dimval1694', 'dimval1695', 'dimval1696', 'dimval1697', 'dimval1698', 'dimval1699', 'dimval1700', 'dimval1701', 'dimval1702', 'dimval1703', 'dimval1704', 'dimval1705', 'dimval1706', 'dimval1707', 'dimval1708', 'dimval1709', 'dimval1710', 'dimval1711', 'dimval1712', 'dimval1713', 'dimval1714', 'dimval1715', 'dimval1716', 'dimval1717', 'dimval1718', 'dimval1719', 'dimval1720', 'dimval1721', 'dimval1722', 'dimval1723', 'dimval1724', 'dimval1725', 'dimval1726', 'dimval1727', 'dimval1728', 'dimval1729', 'dimval1730', 'dimval1731', 'dimval1732', 'dimval1733', 'dimval1734', 'dimval1735', 'dimval1736', 'dimval1737', 'dimval1738', 'dimval1739', 'dimval1740', 'dimval1741', 'dimval1742', 'dimval1743', 'dimval1744', 'dimval1745', 'dimval1746', 'dimval1747', 'dimval1748', 'dimval1749', 'dimval1750', 'dimval1751', 'dimval1752', 'dimval1753', 'dimval1754', 'dimval1755', 'dimval1756', 'dimval1757', 'dimval1758', 'dimval1759', 'dimval1760', 'dimval1761', 'dimval1762', 'dimval1763', 'dimval1764', 'dimval1765', 'dimval1766', 'dimval1767', 'dimval1768', 'dimval1769', 'dimval1770', 'dimval1771', 'dimval1772', 'dimval1773', 'dimval1774', 'dimval1775', 'dimval1776', 'dimval1777', 'dimval1778', 'dimval1779', 'dimval1780', 'dimval1781', 'dimval1782', 'dimval1783', 'dimval1784', 'dimval1785', 'dimval1786', 'dimval1787', 'dimval1788', 'dimval1789', 'dimval1790', 'dimval1791', 'dimval1792', 'dimval1793', 'dimval1794', 'dimval1795', 'dimval1796', 'dimval1797', 'dimval1798', 'dimval1799', 'dimval1800', 'dimval1801', 'dimval1802', 'dimval1803', 'dimval1804', 'dimval1805', 'dimval1806', 'dimval1807', 'dimval1808', 'dimval1809', 'dimval1810', 'dimval1811', 'dimval1812', 'dimval1813', 'dimval1814', 'dimval1815', 'dimval1816', 'dimval1817', 'dimval1818', 'dimval1819', 'dimval1820', 'dimval1821', 'dimval1822', 'dimval1823', 'dimval1824', 'dimval1825', 'dimval1826', 'dimval1827', 'dimval1828', 'dimval1829', 'dimval1830', 'dimval1831', 'dimval1832', 'dimval1833', 'dimval1834', 'dimval1835', 'dimval1836', 'dimval1837', 'dimval1838', 'dimval1839', 'dimval1840', 'dimval1841', 'dimval1842', 'dimval1843', 'dimval1844', 'dimval1845', 'dimval1846', 'dimval1847', 'dimval1848', 'dimval1849', 'dimval1850', 'dimval1851', 'dimval1852', 'dimval1853', 'dimval1854', 'dimval1855', 'dimval1856', 'dimval1857', 'dimval1858', 'dimval1859', 'dimval1860', 'dimval1861', 'dimval1862', 'dimval1863', 'dimval1864', 'dimval1865', 'dimval1866', 'dimval1867', 'dimval1868', 'dimval1869', 'dimval1870', 'dimval1871', 'dimval1872', 'dimval1873', 'dimval1874', 'dimval1875', 'dimval1876', 'dimval1877', 'dimval1878', 'dimval1879', 'dimval1880', 'dimval1881', 'dimval1882', 'dimval1883', 'dimval1884', 'dimval1885', 'dimval1886', 'dimval1887', 'dimval1888', 'dimval1889', 'dimval1890', 'dimval1891', 'dimval1892', 'dimval1893', 'dimval1894', 'dimval1895', 'dimval1896', 'dimval1897', 'dimval1898', 'dimval1899', 'dimval1900', 'dimval1901', 'dimval1902', 'dimval1903', 'dimval1904', 'dimval1905', 'dimval1906', 'dimval1907', 'dimval1908', 'dimval1909', 'dimval1910', 'dimval1911', 'dimval1912', 'dimval1913', 'dimval1914', 'dimval1915', 'dimval1916', 'dimval1917', 'dimval1918', 'dimval1919', 'dimval1920', 'dimval1921', 'dimval1922', 'dimval1923', 'dimval1924', 'dimval1925', 'dimval1926', 'dimval1927', 'dimval1928', 'dimval1929', 'dimval1930', 'dimval1931', 'dimval1932', 'dimval1933', 'dimval1934', 'dimval1935', 'dimval1936', 'dimval1937', 'dimval1938', 'dimval1939', 'dimval1940', 'dimval1941', 'dimval1942', 'dimval1943', 'dimval1944', 'dimval1945', 'dimval1946', 'dimval1947', 'dimval1948', 'dimval1949', 'dimval1950', 'dimval1951', 'dimval1952', 'dimval1953', 'dimval1954', 'dimval1955', 'dimval1956', 'dimval1957', 'dimval1958', 'dimval1959', 'dimval1960', 'dimval1961', 'dimval1962', 'dimval1963', 'dimval1964', 'dimval1965', 'dimval1966', 'dimval1967', 'dimval1968', 'dimval1969', 'dimval1970', 'dimval1971', 'dimval1972', 'dimval1973', 'dimval1974', 'dimval1975', 'dimval1976', 'dimval1977', 'dimval1978', 'dimval1979', 'dimval1980', 'dimval1981', 'dimval1982', 'dimval1983', 'dimval1984', 'dimval1985', 'dimval1986', 'dimval1987', 'dimval1988', 'dimval1989', 'dimval1990', 'dimval1991', 'dimval1992', 'dimval1993', 'dimval1994', 'dimval1995', 'dimval1996', 'dimval1997', 'dimval1998', 'dimval1999', 'dimval2000', 'dimval2001', 'dimval2002', 'dimval2003', 'dimval2004', 'dimval2005', 'dimval2006', 'dimval2007', 'dimval2008', 'dimval2009', 'dimval2010', 'dimval2011', 'dimval2012', 'dimval2013', 'dimval2014', 'dimval2015', 'dimval2016', 'dimval2017', 'dimval2018', 'dimval2019', 'dimval2020', 'dimval2021', 'dimval2022', 'dimval2023', 'dimval2024', 'dimval2025', 'dimval2026', 'dimval2027', 'dimval2028', 'dimval2029', 'dimval2030', 'dimval2031', 'dimval2032', 'dimval2033', 'dimval2034', 'dimval2035', 'dimval2036', 'dimval2037', 'dimval2038', 'dimval2039', 'dimval2040', 'dimval2041', 'dimval2042', 'dimval2043', 'dimval2044', 'dimval2045', 'dimval2046', 'dimval2047', 'dimval2048', 'dimval2049', 'dimval2050', 'dimval2051', 'dimval2052', 'dimval2053', 'dimval2054', 'dimval2055', 'dimval2056', 'dimval2057', 'dimval2058', 'dimval2059', 'dimval2060', 'dimval2061', 'dimval2062', 'dimval2063', 'dimval2064', 'dimval2065', 'dimval2066', 'dimval2067', 'dimval2068', 'dimval2069', 'dimval2070', 'dimval2071', 'dimval2072', 'dimval2073', 'dimval2074', 'dimval2075', 'dimval2076', 'dimval2077', 'dimval2078', 'dimval2079', 'dimval2080', 'dimval2081', 'dimval2082', 'dimval2083', 'dimval2084', 'dimval2085', 'dimval2086', 'dimval2087', 'dimval2088', 'dimval2089', 'dimval2090', 'dimval2091', 'dimval2092', 'dimval2093', 'dimval2094', 'dimval2095', 'dimval2096', 'dimval2097', 'dimval2098', 'dimval2099', 'dimval2100', 'dimval2101', 'dimval2102', 'dimval2103', 'dimval2104', 'dimval2105', 'dimval2106', 'dimval2107', 'dimval2108', 'dimval2109', 'dimval2110', 'dimval2111', 'dimval2112', 'dimval2113', 'dimval2114', 'dimval2115', 'dimval2116', 'dimval2117', 'dimval2118', 'dimval2119', 'dimval2120', 'dimval2121', 'dimval2122', 'dimval2123', 'dimval2124', 'dimval2125', 'dimval2126', 'dimval2127', 'dimval2128', 'dimval2129', 'dimval2130', 'dimval2131', 'dimval2132', 'dimval2133', 'dimval2134', 'dimval2135', 'dimval2136', 'dimval2137', 'dimval2138', 'dimval2139', 'dimval2140', 'dimval2141', 'dimval2142', 'dimval2143', 'dimval2144', 'dimval2145', 'dimval2146', 'dimval2147', 'dimval2148', 'dimval2149', 'dimval2150', 'dimval2151', 'dimval2152', 'dimval2153', 'dimval2154', 'dimval2155', 'dimval2156', 'dimval2157', 'dimval2158', 'dimval2159', 'dimval2160', 'dimval2161', 'dimval2162', 'dimval2163', 'dimval2164', 'dimval2165', 'dimval2166', 'dimval2167', 'dimval2168', 'dimval2169', 'dimval2170', 'dimval2171', 'dimval2172', 'dimval2173', 'dimval2174', 'dimval2175', 'dimval2176', 'dimval2177', 'dimval2178', 'dimval2179', 'dimval2180', 'dimval2181', 'dimval2182', 'dimval2183', 'dimval2184', 'dimval2185', 'dimval2186', 'dimval2187', 'dimval2188', 'dimval2189', 'dimval2190', 'dimval2191', 'dimval2192', 'dimval2193', 'dimval2194', 'dimval2195', 'dimval2196', 'dimval2197', 'dimval2198', 'dimval2199', 'dimval2200', 'dimval2201', 'dimval2202', 'dimval2203', 'dimval2204', 'dimval2205', 'dimval2206', 'dimval2207', 'dimval2208', 'dimval2209', 'dimval2210', 'dimval2211', 'dimval2212', 'dimval2213', 'dimval2214', 'dimval2215', 'dimval2216', 'dimval2217', 'dimval2218', 'dimval2219', 'dimval2220', 'dimval2221', 'dimval2222', 'dimval2223', 'dimval2224', 'dimval2225', 'dimval2226', 'dimval2227', 'dimval2228', 'dimval2229', 'dimval2230', 'dimval2231', 'dimval2232', 'dimval2233', 'dimval2234', 'dimval2235', 'dimval2236', 'dimval2237', 'dimval2238', 'dimval2239', 'dimval2240', 'dimval2241', 'dimval2242', 'dimval2243', 'dimval2244', 'dimval2245', 'dimval2246', 'dimval2247', 'dimval2248', 'dimval2249', 'dimval2250', 'dimval2251', 'dimval2252', 'dimval2253', 'dimval2254', 'dimval2255', 'dimval2256', 'dimval2257', 'dimval2258', 'dimval2259', 'dimval2260', 'dimval2261', 'dimval2262', 'dimval2263', 'dimval2264', 'dimval2265', 'dimval2266', 'dimval2267', 'dimval2268', 'dimval2269', 'dimval2270', 'dimval2271', 'dimval2272', 'dimval2273', 'dimval2274', 'dimval2275', 'dimval2276', 'dimval2277', 'dimval2278', 'dimval2279', 'dimval2280', 'dimval2281', 'dimval2282', 'dimval2283', 'dimval2284', 'dimval2285', 'dimval2286', 'dimval2287', 'dimval2288', 'dimval2289', 'dimval2290', 'dimval2291', 'dimval2292', 'dimval2293', 'dimval2294', 'dimval2295', 'dimval2296', 'dimval2297', 'dimval2298', 'dimval2299', 'dimval2300', 'dimval2301', 'dimval2302', 'dimval2303', 'dimval2304', 'dimval2305', 'dimval2306', 'dimval2307', 'dimval2308', 'dimval2309', 'dimval2310', 'dimval2311', 'dimval2312', 'dimval2313', 'dimval2314', 'dimval2315', 'dimval2316', 'dimval2317', 'dimval2318', 'dimval2319', 'dimval2320', 'dimval2321', 'dimval2322', 'dimval2323', 'dimval2324', 'dimval2325', 'dimval2326', 'dimval2327', 'dimval2328', 'dimval2329', 'dimval2330', 'dimval2331', 'dimval2332', 'dimval2333', 'dimval2334', 'dimval2335', 'dimval2336', 'dimval2337', 'dimval2338', 'dimval2339', 'dimval2340', 'dimval2341', 'dimval2342', 'dimval2343', 'dimval2344', 'dimval2345', 'dimval2346', 'dimval2347', 'dimval2348', 'dimval2349', 'dimval2350', 'dimval2351', 'dimval2352', 'dimval2353', 'dimval2354', 'dimval2355', 'dimval2356', 'dimval2357', 'dimval2358', 'dimval2359', 'dimval2360', 'dimval2361', 'dimval2362', 'dimval2363', 'dimval2364', 'dimval2365', 'dimval2366', 'dimval2367', 'dimval2368', 'dimval2369', 'dimval2370', 'dimval2371', 'dimval2372', 'dimval2373', 'dimval2374', 'dimval2375', 'dimval2376', 'dimval2377', 'dimval2378', 'dimval2379', 'dimval2380', 'dimval2381', 'dimval2382', 'dimval2383', 'dimval2384', 'dimval2385', 'dimval2386', 'dimval2387', 'dimval2388', 'dimval2389', 'dimval2390', 'dimval2391', 'dimval2392', 'dimval2393', 'dimval2394', 'dimval2395', 'dimval2396', 'dimval2397', 'dimval2398', 'dimval2399', 'dimval2400', 'dimval2401', 'dimval2402', 'dimval2403', 'dimval2404', 'dimval2405', 'dimval2406', 'dimval2407', 'dimval2408', 'dimval2409', 'dimval2410', 'dimval2411', 'dimval2412', 'dimval2413', 'dimval2414', 'dimval2415', 'dimval2416', 'dimval2417', 'dimval2418', 'dimval2419', 'dimval2420', 'dimval2421', 'dimval2422', 'dimval2423', 'dimval2424', 'dimval2425', 'dimval2426', 'dimval2427', 'dimval2428', 'dimval2429', 'dimval2430', 'dimval2431', 'dimval2432', 'dimval2433', 'dimval2434', 'dimval2435', 'dimval2436', 'dimval2437', 'dimval2438', 'dimval2439', 'dimval2440', 'dimval2441', 'dimval2442', 'dimval2443', 'dimval2444', 'dimval2445', 'dimval2446', 'dimval2447', 'dimval2448', 'dimval2449', 'dimval2450', 'dimval2451', 'dimval2452', 'dimval2453', 'dimval2454', 'dimval2455', 'dimval2456', 'dimval2457', 'dimval2458', 'dimval2459', 'dimval2460', 'dimval2461', 'dimval2462', 'dimval2463', 'dimval2464', 'dimval2465', 'dimval2466', 'dimval2467', 'dimval2468', 'dimval2469', 'dimval2470', 'dimval2471', 'dimval2472', 'dimval2473', 'dimval2474', 'dimval2475', 'dimval2476', 'dimval2477', 'dimval2478', 'dimval2479', 'dimval2480', 'dimval2481', 'dimval2482', 'dimval2483', 'dimval2484', 'dimval2485', 'dimval2486', 'dimval2487', 'dimval2488', 'dimval2489', 'dimval2490', 'dimval2491', 'dimval2492', 'dimval2493', 'dimval2494', 'dimval2495', 'dimval2496', 'dimval2497', 'dimval2498', 'dimval2499', 'dimval2500', 'dimval2501', 'dimval2502', 'dimval2503', 'dimval2504', 'dimval2505', 'dimval2506', 'dimval2507', 'dimval2508', 'dimval2509', 'dimval2510', 'dimval2511', 'dimval2512', 'dimval2513', 'dimval2514', 'dimval2515', 'dimval2516', 'dimval2517', 'dimval2518', 'dimval2519', 'dimval2520', 'dimval2521', 'dimval2522', 'dimval2523', 'dimval2524', 'dimval2525', 'dimval2526', 'dimval2527', 'dimval2528', 'dimval2529', 'dimval2530', 'dimval2531', 'dimval2532', 'dimval2533', 'dimval2534', 'dimval2535', 'dimval2536', 'dimval2537', 'dimval2538', 'dimval2539', 'dimval2540', 'dimval2541', 'dimval2542', 'dimval2543', 'dimval2544', 'dimval2545', 'dimval2546', 'dimval2547', 'dimval2548', 'dimval2549', 'dimval2550', 'dimval2551', 'dimval2552', 'dimval2553', 'dimval2554', 'dimval2555', 'dimval2556', 'dimval2557', 'dimval2558', 'dimval2559', 'dimval2560', 'dimval2561', 'dimval2562', 'dimval2563', 'dimval2564', 'dimval2565', 'dimval2566', 'dimval2567', 'dimval2568', 'dimval2569', 'dimval2570', 'dimval2571', 'dimval2572', 'dimval2573', 'dimval2574', 'dimval2575', 'dimval2576', 'dimval2577', 'dimval2578', 'dimval2579', 'dimval2580', 'dimval2581', 'dimval2582', 'dimval2583', 'dimval2584', 'dimval2585', 'dimval2586', 'dimval2587', 'dimval2588', 'dimval2589', 'dimval2590', 'dimval2591', 'dimval2592', 'dimval2593', 'dimval2594', 'dimval2595', 'dimval2596', 'dimval2597', 'dimval2598', 'dimval2599', 'dimval2600', 'dimval2601', 'dimval2602', 'dimval2603', 'dimval2604', 'dimval2605', 'dimval2606', 'dimval2607', 'dimval2608', 'dimval2609', 'dimval2610', 'dimval2611', 'dimval2612', 'dimval2613', 'dimval2614', 'dimval2615', 'dimval2616', 'dimval2617', 'dimval2618', 'dimval2619', 'dimval2620', 'dimval2621', 'dimval2622', 'dimval2623', 'dimval2624', 'dimval2625', 'dimval2626', 'dimval2627', 'dimval2628', 'dimval2629', 'dimval2630', 'dimval2631', 'dimval2632', 'dimval2633', 'dimval2634', 'dimval2635', 'dimval2636', 'dimval2637', 'dimval2638', 'dimval2639', 'dimval2640', 'dimval2641', 'dimval2642', 'dimval2643', 'dimval2644', 'dimval2645', 'dimval2646', 'dimval2647', 'dimval2648', 'dimval2649', 'dimval2650', 'dimval2651', 'dimval2652', 'dimval2653', 'dimval2654', 'dimval2655', 'dimval2656', 'dimval2657', 'dimval2658', 'dimval2659', 'dimval2660', 'dimval2661', 'dimval2662', 'dimval2663', 'dimval2664', 'dimval2665', 'dimval2666', 'dimval2667', 'dimval2668', 'dimval2669', 'dimval2670', 'dimval2671', 'dimval2672', 'dimval2673', 'dimval2674', 'dimval2675', 'dimval2676', 'dimval2677', 'dimval2678', 'dimval2679', 'dimval2680', 'dimval2681', 'dimval2682', 'dimval2683', 'dimval2684', 'dimval2685', 'dimval2686', 'dimval2687', 'dimval2688', 'dimval2689', 'dimval2690', 'dimval2691', 'dimval2692', 'dimval2693', 'dimval2694', 'dimval2695', 'dimval2696', 'dimval2697', 'dimval2698', 'dimval2699', 'dimval2700', 'dimval2701', 'dimval2702', 'dimval2703', 'dimval2704', 'dimval2705', 'dimval2706', 'dimval2707', 'dimval2708', 'dimval2709', 'dimval2710', 'dimval2711', 'dimval2712', 'dimval2713', 'dimval2714', 'dimval2715', 'dimval2716', 'dimval2717', 'dimval2718', 'dimval2719', 'dimval2720', 'dimval2721', 'dimval2722', 'dimval2723', 'dimval2724', 'dimval2725', 'dimval2726', 'dimval2727', 'dimval2728', 'dimval2729', 'dimval2730', 'dimval2731', 'dimval2732', 'dimval2733', 'dimval2734', 'dimval2735', 'dimval2736', 'dimval2737', 'dimval2738', 'dimval2739', 'dimval2740', 'dimval2741', 'dimval2742', 'dimval2743', 'dimval2744', 'dimval2745', 'dimval2746', 'dimval2747', 'dimval2748', 'dimval2749', 'dimval2750', 'dimval2751', 'dimval2752', 'dimval2753', 'dimval2754', 'dimval2755', 'dimval2756', 'dimval2757', 'dimval2758', 'dimval2759', 'dimval2760', 'dimval2761', 'dimval2762', 'dimval2763', 'dimval2764', 'dimval2765', 'dimval2766', 'dimval2767', 'dimval2768', 'dimval2769', 'dimval2770', 'dimval2771', 'dimval2772', 'dimval2773', 'dimval2774', 'dimval2775', 'dimval2776', 'dimval2777', 'dimval2778', 'dimval2779', 'dimval2780', 'dimval2781', 'dimval2782', 'dimval2783', 'dimval2784', 'dimval2785', 'dimval2786', 'dimval2787', 'dimval2788', 'dimval2789', 'dimval2790', 'dimval2791', 'dimval2792', 'dimval2793', 'dimval2794', 'dimval2795', 'dimval2796', 'dimval2797', 'dimval2798', 'dimval2799', 'dimval2800', 'dimval2801', 'dimval2802', 'dimval2803', 'dimval2804', 'dimval2805', 'dimval2806', 'dimval2807', 'dimval2808', 'dimval2809', 'dimval2810', 'dimval2811', 'dimval2812', 'dimval2813', 'dimval2814', 'dimval2815', 'dimval2816', 'dimval2817', 'dimval2818', 'dimval2819', 'dimval2820', 'dimval2821', 'dimval2822', 'dimval2823', 'dimval2824', 'dimval2825', 'dimval2826', 'dimval2827', 'dimval2828', 'dimval2829', 'dimval2830', 'dimval2831', 'dimval2832', 'dimval2833', 'dimval2834', 'dimval2835', 'dimval2836', 'dimval2837', 'dimval2838', 'dimval2839', 'dimval2840', 'dimval2841', 'dimval2842', 'dimval2843', 'dimval2844', 'dimval2845', 'dimval2846', 'dimval2847', 'dimval2848', 'dimval2849', 'dimval2850', 'dimval2851', 'dimval2852', 'dimval2853', 'dimval2854', 'dimval2855', 'dimval2856', 'dimval2857', 'dimval2858', 'dimval2859', 'dimval2860', 'dimval2861', 'dimval2862', 'dimval2863', 'dimval2864', 'dimval2865', 'dimval2866', 'dimval2867', 'dimval2868', 'dimval2869', 'dimval2870', 'dimval2871', 'dimval2872', 'dimval2873', 'dimval2874', 'dimval2875', 'dimval2876', 'dimval2877', 'dimval2878', 'dimval2879', 'dimval2880', 'dimval2881', 'dimval2882', 'dimval2883', 'dimval2884', 'dimval2885', 'dimval2886', 'dimval2887', 'dimval2888', 'dimval2889', 'dimval2890', 'dimval2891', 'dimval2892', 'dimval2893', 'dimval2894', 'dimval2895', 'dimval2896', 'dimval2897', 'dimval2898', 'dimval2899', 'dimval2900', 'dimval2901', 'dimval2902', 'dimval2903', 'dimval2904', 'dimval2905', 'dimval2906', 'dimval2907', 'dimval2908', 'dimval2909', 'dimval2910', 'dimval2911', 'dimval2912', 'dimval2913', 'dimval2914', 'dimval2915', 'dimval2916', 'dimval2917', 'dimval2918', 'dimval2919', 'dimval2920', 'dimval2921', 'dimval2922', 'dimval2923', 'dimval2924', 'dimval2925', 'dimval2926', 'dimval2927', 'dimval2928', 'dimval2929', 'dimval2930', 'dimval2931', 'dimval2932', 'dimval2933', 'dimval2934', 'dimval2935', 'dimval2936', 'dimval2937', 'dimval2938', 'dimval2939', 'dimval2940', 'dimval2941', 'dimval2942', 'dimval2943', 'dimval2944', 'dimval2945', 'dimval2946', 'dimval2947', 'dimval2948', 'dimval2949', 'dimval2950', 'dimval2951', 'dimval2952', 'dimval2953', 'dimval2954', 'dimval2955', 'dimval2956', 'dimval2957', 'dimval2958', 'dimval2959', 'dimval2960', 'dimval2961', 'dimval2962', 'dimval2963', 'dimval2964', 'dimval2965', 'dimval2966', 'dimval2967', 'dimval2968', 'dimval2969', 'dimval2970', 'dimval2971', 'dimval2972', 'dimval2973', 'dimval2974', 'dimval2975', 'dimval2976', 'dimval2977', 'dimval2978', 'dimval2979', 'dimval2980', 'dimval2981', 'dimval2982', 'dimval2983', 'dimval2984', 'dimval2985', 'dimval2986', 'dimval2987', 'dimval2988', 'dimval2989', 'dimval2990', 'dimval2991', 'dimval2992', 'dimval2993', 'dimval2994', 'dimval2995', 'dimval2996', 'dimval2997', 'dimval2998', 'dimval2999', 'dimval3000', 'dimval3001', 'dimval3002', 'dimval3003', 'dimval3004', 'dimval3005', 'dimval3006', 'dimval3007', 'dimval3008', 'dimval3009', 'dimval3010', 'dimval3011', 'dimval3012', 'dimval3013', 'dimval3014', 'dimval3015', 'dimval3016', 'dimval3017', 'dimval3018', 'dimval3019', 'dimval3020', 'dimval3021', 'dimval3022', 'dimval3023', 'dimval3024', 'dimval3025', 'dimval3026', 'dimval3027', 'dimval3028', 'dimval3029', 'dimval3030', 'dimval3031', 'dimval3032', 'dimval3033', 'dimval3034', 'dimval3035', 'dimval3036', 'dimval3037', 'dimval3038', 'dimval3039', 'dimval3040', 'dimval3041', 'dimval3042', 'dimval3043', 'dimval3044', 'dimval3045', 'dimval3046', 'dimval3047', 'dimval3048', 'dimval3049', 'dimval3050', 'dimval3051', 'dimval3052', 'dimval3053', 'dimval3054', 'dimval3055', 'dimval3056', 'dimval3057', 'dimval3058', 'dimval3059', 'dimval3060', 'dimval3061', 'dimval3062', 'dimval3063', 'dimval3064', 'dimval3065', 'dimval3066', 'dimval3067', 'dimval3068', 'dimval3069', 'dimval3070', 'dimval3071', 'dimval3072', 'dimval3073', 'dimval3074', 'dimval3075', 'dimval3076', 'dimval3077', 'dimval3078', 'dimval3079', 'dimval3080', 'dimval3081', 'dimval3082', 'dimval3083', 'dimval3084', 'dimval3085', 'dimval3086', 'dimval3087', 'dimval3088', 'dimval3089', 'dimval3090', 'dimval3091', 'dimval3092', 'dimval3093', 'dimval3094', 'dimval3095', 'dimval3096', 'dimval3097', 'dimval3098', 'dimval3099', 'dimval3100', 'dimval3101', 'dimval3102', 'dimval3103', 'dimval3104', 'dimval3105', 'dimval3106', 'dimval3107', 'dimval3108', 'dimval3109', 'dimval3110', 'dimval3111', 'dimval3112', 'dimval3113', 'dimval3114', 'dimval3115', 'dimval3116', 'dimval3117', 'dimval3118', 'dimval3119', 'dimval3120', 'dimval3121', 'dimval3122', 'dimval3123', 'dimval3124', 'dimval3125', 'dimval3126', 'dimval3127', 'dimval3128', 'dimval3129', 'dimval3130', 'dimval3131', 'dimval3132', 'dimval3133', 'dimval3134', 'dimval3135', 'dimval3136', 'dimval3137', 'dimval3138', 'dimval3139', 'dimval3140', 'dimval3141', 'dimval3142', 'dimval3143', 'dimval3144', 'dimval3145', 'dimval3146', 'dimval3147', 'dimval3148', 'dimval3149', 'dimval3150', 'dimval3151', 'dimval3152', 'dimval3153', 'dimval3154', 'dimval3155', 'dimval3156', 'dimval3157', 'dimval3158', 'dimval3159', 'dimval3160', 'dimval3161', 'dimval3162', 'dimval3163', 'dimval3164', 'dimval3165', 'dimval3166', 'dimval3167', 'dimval3168', 'dimval3169', 'dimval3170', 'dimval3171', 'dimval3172', 'dimval3173', 'dimval3174', 'dimval3175', 'dimval3176', 'dimval3177', 'dimval3178', 'dimval3179', 'dimval3180', 'dimval3181', 'dimval3182', 'dimval3183', 'dimval3184', 'dimval3185', 'dimval3186', 'dimval3187', 'dimval3188', 'dimval3189', 'dimval3190', 'dimval3191', 'dimval3192', 'dimval3193', 'dimval3194', 'dimval3195', 'dimval3196', 'dimval3197', 'dimval3198', 'dimval3199', 'dimval3200', 'dimval3201', 'dimval3202', 'dimval3203', 'dimval3204', 'dimval3205', 'dimval3206', 'dimval3207', 'dimval3208', 'dimval3209', 'dimval3210', 'dimval3211', 'dimval3212', 'dimval3213', 'dimval3214', 'dimval3215', 'dimval3216', 'dimval3217', 'dimval3218', 'dimval3219', 'dimval3220', 'dimval3221', 'dimval3222', 'dimval3223', 'dimval3224', 'dimval3225', 'dimval3226', 'dimval3227', 'dimval3228', 'dimval3229', 'dimval3230', 'dimval3231', 'dimval3232', 'dimval3233', 'dimval3234', 'dimval3235', 'dimval3236', 'dimval3237', 'dimval3238', 'dimval3239', 'dimval3240', 'dimval3241', 'dimval3242', 'dimval3243', 'dimval3244', 'dimval3245', 'dimval3246', 'dimval3247', 'dimval3248', 'dimval3249', 'dimval3250', 'dimval3251', 'dimval3252', 'dimval3253', 'dimval3254', 'dimval3255', 'dimval3256', 'dimval3257', 'dimval3258', 'dimval3259', 'dimval3260', 'dimval3261', 'dimval3262', 'dimval3263', 'dimval3264', 'dimval3265', 'dimval3266', 'dimval3267', 'dimval3268', 'dimval3269', 'dimval3270', 'dimval3271', 'dimval3272', 'dimval3273', 'dimval3274', 'dimval3275', 'dimval3276', 'dimval3277', 'dimval3278', 'dimval3279', 'dimval3280', 'dimval3281', 'dimval3282', 'dimval3283', 'dimval3284', 'dimval3285', 'dimval3286', 'dimval3287', 'dimval3288', 'dimval3289', 'dimval3290', 'dimval3291', 'dimval3292', 'dimval3293', 'dimval3294', 'dimval3295', 'dimval3296', 'dimval3297', 'dimval3298', 'dimval3299', 'dimval3300', 'dimval3301', 'dimval3302', 'dimval3303', 'dimval3304', 'dimval3305', 'dimval3306', 'dimval3307', 'dimval3308', 'dimval3309', 'dimval3310', 'dimval3311', 'dimval3312', 'dimval3313', 'dimval3314', 'dimval3315', 'dimval3316', 'dimval3317', 'dimval3318', 'dimval3319', 'dimval3320', 'dimval3321', 'dimval3322', 'dimval3323', 'dimval3324', 'dimval3325', 'dimval3326', 'dimval3327', 'dimval3328', 'dimval3329', 'dimval3330', 'dimval3331', 'dimval3332', 'dimval3333', 'dimval3334', 'dimval3335', 'dimval3336', 'dimval3337', 'dimval3338', 'dimval3339', 'dimval3340', 'dimval3341', 'dimval3342', 'dimval3343', 'dimval3344', 'dimval3345', 'dimval3346', 'dimval3347', 'dimval3348', 'dimval3349', 'dimval3350', 'dimval3351', 'dimval3352', 'dimval3353', 'dimval3354', 'dimval3355', 'dimval3356', 'dimval3357', 'dimval3358', 'dimval3359', 'dimval3360', 'dimval3361', 'dimval3362', 'dimval3363', 'dimval3364', 'dimval3365', 'dimval3366', 'dimval3367', 'dimval3368', 'dimval3369', 'dimval3370', 'dimval3371', 'dimval3372', 'dimval3373', 'dimval3374', 'dimval3375', 'dimval3376', 'dimval3377', 'dimval3378', 'dimval3379', 'dimval3380', 'dimval3381', 'dimval3382', 'dimval3383', 'dimval3384', 'dimval3385', 'dimval3386', 'dimval3387', 'dimval3388', 'dimval3389', 'dimval3390', 'dimval3391', 'dimval3392', 'dimval3393', 'dimval3394', 'dimval3395', 'dimval3396', 'dimval3397', 'dimval3398', 'dimval3399', 'dimval3400', 'dimval3401', 'dimval3402', 'dimval3403', 'dimval3404', 'dimval3405', 'dimval3406', 'dimval3407', 'dimval3408', 'dimval3409', 'dimval3410', 'dimval3411', 'dimval3412', 'dimval3413', 'dimval3414', 'dimval3415', 'dimval3416', 'dimval3417', 'dimval3418', 'dimval3419', 'dimval3420', 'dimval3421', 'dimval3422', 'dimval3423', 'dimval3424', 'dimval3425', 'dimval3426', 'dimval3427', 'dimval3428', 'dimval3429', 'dimval3430', 'dimval3431', 'dimval3432', 'dimval3433', 'dimval3434', 'dimval3435', 'dimval3436', 'dimval3437', 'dimval3438', 'dimval3439', 'dimval3440', 'dimval3441', 'dimval3442', 'dimval3443', 'dimval3444', 'dimval3445', 'dimval3446', 'dimval3447', 'dimval3448', 'dimval3449', 'dimval3450', 'dimval3451', 'dimval3452', 'dimval3453', 'dimval3454', 'dimval3455', 'dimval3456', 'dimval3457', 'dimval3458', 'dimval3459', 'dimval3460', 'dimval3461', 'dimval3462', 'dimval3463', 'dimval3464', 'dimval3465', 'dimval3466', 'dimval3467', 'dimval3468', 'dimval3469', 'dimval3470', 'dimval3471', 'dimval3472', 'dimval3473', 'dimval3474', 'dimval3475', 'dimval3476', 'dimval3477', 'dimval3478', 'dimval3479', 'dimval3480', 'dimval3481', 'dimval3482', 'dimval3483', 'dimval3484', 'dimval3485', 'dimval3486', 'dimval3487', 'dimval3488', 'dimval3489', 'dimval3490', 'dimval3491', 'dimval3492', 'dimval3493', 'dimval3494', 'dimval3495', 'dimval3496', 'dimval3497', 'dimval3498', 'dimval3499', 'dimval3500', 'dimval3501', 'dimval3502', 'dimval3503', 'dimval3504', 'dimval3505', 'dimval3506', 'dimval3507', 'dimval3508', 'dimval3509', 'dimval3510', 'dimval3511', 'dimval3512', 'dimval3513', 'dimval3514', 'dimval3515', 'dimval3516', 'dimval3517', 'dimval3518', 'dimval3519', 'dimval3520', 'dimval3521', 'dimval3522', 'dimval3523', 'dimval3524', 'dimval3525', 'dimval3526', 'dimval3527', 'dimval3528', 'dimval3529', 'dimval3530', 'dimval3531', 'dimval3532', 'dimval3533', 'dimval3534', 'dimval3535', 'dimval3536', 'dimval3537', 'dimval3538', 'dimval3539', 'dimval3540', 'dimval3541', 'dimval3542', 'dimval3543', 'dimval3544', 'dimval3545', 'dimval3546', 'dimval3547', 'dimval3548', 'dimval3549', 'dimval3550', 'dimval3551', 'dimval3552', 'dimval3553', 'dimval3554', 'dimval3555', 'dimval3556', 'dimval3557', 'dimval3558', 'dimval3559', 'dimval3560', 'dimval3561', 'dimval3562', 'dimval3563', 'dimval3564', 'dimval3565', 'dimval3566', 'dimval3567', 'dimval3568', 'dimval3569', 'dimval3570', 'dimval3571', 'dimval3572', 'dimval3573', 'dimval3574', 'dimval3575', 'dimval3576', 'dimval3577', 'dimval3578', 'dimval3579', 'dimval3580', 'dimval3581', 'dimval3582', 'dimval3583', 'dimval3584', 'dimval3585', 'dimval3586', 'dimval3587', 'dimval3588', 'dimval3589', 'dimval3590', 'dimval3591', 'dimval3592', 'dimval3593', 'dimval3594', 'dimval3595', 'dimval3596', 'dimval3597', 'dimval3598', 'dimval3599', 'dimval3600', 'dimval3601', 'dimval3602', 'dimval3603', 'dimval3604', 'dimval3605', 'dimval3606', 'dimval3607', 'dimval3608', 'dimval3609', 'dimval3610', 'dimval3611', 'dimval3612', 'dimval3613', 'dimval3614', 'dimval3615', 'dimval3616', 'dimval3617', 'dimval3618', 'dimval3619', 'dimval3620', 'dimval3621', 'dimval3622', 'dimval3623', 'dimval3624', 'dimval3625', 'dimval3626', 'dimval3627', 'dimval3628', 'dimval3629', 'dimval3630', 'dimval3631', 'dimval3632', 'dimval3633', 'dimval3634', 'dimval3635', 'dimval3636', 'dimval3637', 'dimval3638', 'dimval3639', 'dimval3640', 'dimval3641', 'dimval3642', 'dimval3643', 'dimval3644', 'dimval3645', 'dimval3646', 'dimval3647', 'dimval3648', 'dimval3649', 'dimval3650', 'dimval3651', 'dimval3652', 'dimval3653', 'dimval3654', 'dimval3655', 'dimval3656', 'dimval3657', 'dimval3658', 'dimval3659', 'dimval3660', 'dimval3661', 'dimval3662', 'dimval3663', 'dimval3664', 'dimval3665', 'dimval3666', 'dimval3667', 'dimval3668', 'dimval3669', 'dimval3670', 'dimval3671', 'dimval3672', 'dimval3673', 'dimval3674', 'dimval3675', 'dimval3676', 'dimval3677', 'dimval3678', 'dimval3679', 'dimval3680', 'dimval3681', 'dimval3682', 'dimval3683', 'dimval3684', 'dimval3685', 'dimval3686', 'dimval3687', 'dimval3688', 'dimval3689', 'dimval3690', 'dimval3691', 'dimval3692', 'dimval3693', 'dimval3694', 'dimval3695', 'dimval3696', 'dimval3697', 'dimval3698', 'dimval3699', 'dimval3700', 'dimval3701', 'dimval3702', 'dimval3703', 'dimval3704', 'dimval3705', 'dimval3706', 'dimval3707', 'dimval3708', 'dimval3709', 'dimval3710', 'dimval3711', 'dimval3712', 'dimval3713', 'dimval3714', 'dimval3715', 'dimval3716', 'dimval3717', 'dimval3718', 'dimval3719', 'dimval3720', 'dimval3721', 'dimval3722', 'dimval3723', 'dimval3724', 'dimval3725', 'dimval3726', 'dimval3727', 'dimval3728', 'dimval3729', 'dimval3730', 'dimval3731', 'dimval3732', 'dimval3733', 'dimval3734', 'dimval3735', 'dimval3736', 'dimval3737', 'dimval3738', 'dimval3739', 'dimval3740', 'dimval3741', 'dimval3742', 'dimval3743', 'dimval3744', 'dimval3745', 'dimval3746', 'dimval3747', 'dimval3748', 'dimval3749', 'dimval3750', 'dimval3751', 'dimval3752', 'dimval3753', 'dimval3754', 'dimval3755', 'dimval3756', 'dimval3757', 'dimval3758', 'dimval3759', 'dimval3760', 'dimval3761', 'dimval3762', 'dimval3763', 'dimval3764', 'dimval3765', 'dimval3766', 'dimval3767', 'dimval3768', 'dimval3769', 'dimval3770', 'dimval3771', 'dimval3772', 'dimval3773', 'dimval3774', 'dimval3775', 'dimval3776', 'dimval3777', 'dimval3778', 'dimval3779', 'dimval3780', 'dimval3781', 'dimval3782', 'dimval3783', 'dimval3784', 'dimval3785', 'dimval3786', 'dimval3787', 'dimval3788', 'dimval3789', 'dimval3790', 'dimval3791', 'dimval3792', 'dimval3793', 'dimval3794', 'dimval3795', 'dimval3796', 'dimval3797', 'dimval3798', 'dimval3799', 'dimval3800', 'dimval3801', 'dimval3802', 'dimval3803', 'dimval3804', 'dimval3805', 'dimval3806', 'dimval3807', 'dimval3808', 'dimval3809', 'dimval3810', 'dimval3811', 'dimval3812', 'dimval3813', 'dimval3814', 'dimval3815', 'dimval3816', 'dimval3817', 'dimval3818', 'dimval3819', 'dimval3820', 'dimval3821', 'dimval3822', 'dimval3823', 'dimval3824', 'dimval3825', 'dimval3826', 'dimval3827', 'dimval3828', 'dimval3829', 'dimval3830', 'dimval3831', 'dimval3832', 'dimval3833', 'dimval3834', 'dimval3835', 'dimval3836', 'dimval3837', 'dimval3838', 'dimval3839', 'dimval3840', 'dimval3841', 'dimval3842', 'dimval3843', 'dimval3844', 'dimval3845', 'dimval3846', 'dimval3847', 'dimval3848', 'dimval3849', 'dimval3850', 'dimval3851', 'dimval3852', 'dimval3853', 'dimval3854', 'dimval3855', 'dimval3856', 'dimval3857', 'dimval3858', 'dimval3859', 'dimval3860', 'dimval3861', 'dimval3862', 'dimval3863', 'dimval3864', 'dimval3865', 'dimval3866', 'dimval3867', 'dimval3868', 'dimval3869', 'dimval3870', 'dimval3871', 'dimval3872', 'dimval3873', 'dimval3874', 'dimval3875', 'dimval3876', 'dimval3877', 'dimval3878', 'dimval3879', 'dimval3880', 'dimval3881', 'dimval3882', 'dimval3883', 'dimval3884', 'dimval3885', 'dimval3886', 'dimval3887', 'dimval3888', 'dimval3889', 'dimval3890', 'dimval3891', 'dimval3892', 'dimval3893', 'dimval3894', 'dimval3895', 'dimval3896', 'dimval3897', 'dimval3898', 'dimval3899', 'dimval3900', 'dimval3901', 'dimval3902', 'dimval3903', 'dimval3904', 'dimval3905', 'dimval3906', 'dimval3907', 'dimval3908', 'dimval3909', 'dimval3910', 'dimval3911', 'dimval3912', 'dimval3913', 'dimval3914', 'dimval3915', 'dimval3916', 'dimval3917', 'dimval3918', 'dimval3919', 'dimval3920', 'dimval3921', 'dimval3922', 'dimval3923', 'dimval3924', 'dimval3925', 'dimval3926', 'dimval3927', 'dimval3928', 'dimval3929', 'dimval3930', 'dimval3931', 'dimval3932', 'dimval3933', 'dimval3934', 'dimval3935', 'dimval3936', 'dimval3937', 'dimval3938', 'dimval3939', 'dimval3940', 'dimval3941', 'dimval3942', 'dimval3943', 'dimval3944', 'dimval3945', 'dimval3946', 'dimval3947', 'dimval3948', 'dimval3949', 'dimval3950', 'dimval3951', 'dimval3952', 'dimval3953', 'dimval3954', 'dimval3955', 'dimval3956', 'dimval3957', 'dimval3958', 'dimval3959', 'dimval3960', 'dimval3961', 'dimval3962', 'dimval3963', 'dimval3964', 'dimval3965', 'dimval3966', 'dimval3967', 'dimval3968', 'dimval3969', 'dimval3970', 'dimval3971', 'dimval3972', 'dimval3973', 'dimval3974', 'dimval3975', 'dimval3976', 'dimval3977', 'dimval3978', 'dimval3979', 'dimval3980', 'dimval3981', 'dimval3982', 'dimval3983', 'dimval3984', 'dimval3985', 'dimval3986', 'dimval3987', 'dimval3988', 'dimval3989', 'dimval3990', 'dimval3991', 'dimval3992', 'dimval3993', 'dimval3994', 'dimval3995', 'dimval3996', 'dimval3997', 'dimval3998', 'dimval3999', 'dimval4000', 'dimval4001', 'dimval4002', 'dimval4003', 'dimval4004', 'dimval4005', 'dimval4006', 'dimval4007', 'dimval4008', 'dimval4009', 'dimval4010', 'dimval4011', 'dimval4012', 'dimval4013', 'dimval4014', 'dimval4015', 'dimval4016', 'dimval4017', 'dimval4018', 'dimval4019', 'dimval4020', 'dimval4021', 'dimval4022', 'dimval4023', 'dimval4024', 'dimval4025', 'dimval4026', 'dimval4027', 'dimval4028', 'dimval4029', 'dimval4030', 'dimval4031', 'dimval4032', 'dimval4033', 'dimval4034', 'dimval4035', 'dimval4036', 'dimval4037', 'dimval4038', 'dimval4039', 'dimval4040', 'dimval4041', 'dimval4042', 'dimval4043', 'dimval4044', 'dimval4045', 'dimval4046', 'dimval4047', 'dimval4048', 'dimval4049', 'dimval4050', 'dimval4051', 'dimval4052', 'dimval4053', 'dimval4054', 'dimval4055', 'dimval4056', 'dimval4057', 'dimval4058', 'dimval4059', 'dimval4060', 'dimval4061', 'dimval4062', 'dimval4063', 'dimval4064', 'dimval4065', 'dimval4066', 'dimval4067', 'dimval4068', 'dimval4069', 'dimval4070', 'dimval4071', 'dimval4072', 'dimval4073', 'dimval4074', 'dimval4075', 'dimval4076', 'dimval4077', 'dimval4078', 'dimval4079', 'dimval4080', 'dimval4081', 'dimval4082', 'dimval4083', 'dimval4084', 'dimval4085', 'dimval4086', 'dimval4087', 'dimval4088', 'dimval4089', 'dimval4090', 'dimval4091', 'dimval4092', 'dimval4093', 'dimval4094', 'dimval4095', 'dimval4096', 'dimval4097', 'dimval4098', 'dimval4099', 'dimval4100', 'dimval4101', 'dimval4102', 'dimval4103', 'dimval4104', 'dimval4105', 'dimval4106', 'dimval4107', 'dimval4108', 'dimval4109', 'dimval4110', 'dimval4111', 'dimval4112', 'dimval4113', 'dimval4114', 'dimval4115', 'dimval4116', 'dimval4117', 'dimval4118', 'dimval4119', 'dimval4120', 'dimval4121', 'dimval4122', 'dimval4123', 'dimval4124', 'dimval4125', 'dimval4126', 'dimval4127', 'dimval4128', 'dimval4129', 'dimval4130', 'dimval4131', 'dimval4132', 'dimval4133', 'dimval4134', 'dimval4135', 'dimval4136', 'dimval4137', 'dimval4138', 'dimval4139', 'dimval4140', 'dimval4141', 'dimval4142', 'dimval4143', 'dimval4144', 'dimval4145', 'dimval4146', 'dimval4147', 'dimval4148', 'dimval4149', 'dimval4150', 'dimval4151', 'dimval4152', 'dimval4153', 'dimval4154', 'dimval4155', 'dimval4156', 'dimval4157', 'dimval4158', 'dimval4159', 'dimval4160', 'dimval4161', 'dimval4162', 'dimval4163', 'dimval4164', 'dimval4165', 'dimval4166', 'dimval4167', 'dimval4168', 'dimval4169', 'dimval4170', 'dimval4171', 'dimval4172', 'dimval4173', 'dimval4174', 'dimval4175', 'dimval4176', 'dimval4177', 'dimval4178', 'dimval4179', 'dimval4180', 'dimval4181', 'dimval4182', 'dimval4183', 'dimval4184', 'dimval4185', 'dimval4186', 'dimval4187', 'dimval4188', 'dimval4189', 'dimval4190', 'dimval4191', 'dimval4192', 'dimval4193', 'dimval4194', 'dimval4195', 'dimval4196', 'dimval4197', 'dimval4198', 'dimval4199', 'dimval4200', 'dimval4201', 'dimval4202', 'dimval4203', 'dimval4204', 'dimval4205', 'dimval4206', 'dimval4207', 'dimval4208', 'dimval4209', 'dimval4210', 'dimval4211', 'dimval4212', 'dimval4213', 'dimval4214']\n"
     ]
    }
   ],
   "source": [
    "# Use a list comprehension to add \"dimval\" to each dimension_id.\n",
    "dimval_ids = [\"dimval\" + str(dimval_id) for dimval_id in dimension_value_ids]\n",
    "\n",
    "print(dimval_ids)"
   ]
  },
  {
   "cell_type": "code",
   "execution_count": 184,
   "metadata": {},
   "outputs": [
    {
     "name": "stdout",
     "output_type": "stream",
     "text": [
      "           Dimension Value  Dimension Value ID\n",
      "1             12-23 months                   1\n",
      "2             24-35 months                   2\n",
      "3             36-47 months                   3\n",
      "4             48-59 months                   4\n",
      "5              6-11 months                   5\n",
      "...                    ...                 ...\n",
      "155443    Mashonaland West                4210\n",
      "155444            Masvingo                4211\n",
      "155445  Matabeleland North                4212\n",
      "155446  Matabeleland South                4213\n",
      "155447            Midlands                4214\n",
      "\n",
      "[4214 rows x 2 columns]\n"
     ]
    }
   ],
   "source": [
    "# Add the dimval_ids list as a new column\n",
    "dimension_value_df['Dimension Value ID'] = dimension_value_ids\n",
    "\n",
    "print(dimension_value_df)"
   ]
  },
  {
   "cell_type": "code",
   "execution_count": 185,
   "metadata": {},
   "outputs": [
    {
     "data": {
      "text/html": [
       "<div>\n",
       "<style scoped>\n",
       "    .dataframe tbody tr th:only-of-type {\n",
       "        vertical-align: middle;\n",
       "    }\n",
       "\n",
       "    .dataframe tbody tr th {\n",
       "        vertical-align: top;\n",
       "    }\n",
       "\n",
       "    .dataframe thead th {\n",
       "        text-align: right;\n",
       "    }\n",
       "</style>\n",
       "<table border=\"1\" class=\"dataframe\">\n",
       "  <thead>\n",
       "    <tr style=\"text-align: right;\">\n",
       "      <th></th>\n",
       "      <th>Dimension Value ID</th>\n",
       "      <th>Dimension Value</th>\n",
       "    </tr>\n",
       "  </thead>\n",
       "  <tbody>\n",
       "    <tr>\n",
       "      <th>1</th>\n",
       "      <td>1</td>\n",
       "      <td>12-23 months</td>\n",
       "    </tr>\n",
       "    <tr>\n",
       "      <th>2</th>\n",
       "      <td>2</td>\n",
       "      <td>24-35 months</td>\n",
       "    </tr>\n",
       "    <tr>\n",
       "      <th>3</th>\n",
       "      <td>3</td>\n",
       "      <td>36-47 months</td>\n",
       "    </tr>\n",
       "    <tr>\n",
       "      <th>4</th>\n",
       "      <td>4</td>\n",
       "      <td>48-59 months</td>\n",
       "    </tr>\n",
       "    <tr>\n",
       "      <th>5</th>\n",
       "      <td>5</td>\n",
       "      <td>6-11 months</td>\n",
       "    </tr>\n",
       "    <tr>\n",
       "      <th>...</th>\n",
       "      <td>...</td>\n",
       "      <td>...</td>\n",
       "    </tr>\n",
       "    <tr>\n",
       "      <th>155443</th>\n",
       "      <td>4210</td>\n",
       "      <td>Mashonaland West</td>\n",
       "    </tr>\n",
       "    <tr>\n",
       "      <th>155444</th>\n",
       "      <td>4211</td>\n",
       "      <td>Masvingo</td>\n",
       "    </tr>\n",
       "    <tr>\n",
       "      <th>155445</th>\n",
       "      <td>4212</td>\n",
       "      <td>Matabeleland North</td>\n",
       "    </tr>\n",
       "    <tr>\n",
       "      <th>155446</th>\n",
       "      <td>4213</td>\n",
       "      <td>Matabeleland South</td>\n",
       "    </tr>\n",
       "    <tr>\n",
       "      <th>155447</th>\n",
       "      <td>4214</td>\n",
       "      <td>Midlands</td>\n",
       "    </tr>\n",
       "  </tbody>\n",
       "</table>\n",
       "<p>4214 rows × 2 columns</p>\n",
       "</div>"
      ],
      "text/plain": [
       "        Dimension Value ID     Dimension Value\n",
       "1                        1        12-23 months\n",
       "2                        2        24-35 months\n",
       "3                        3        36-47 months\n",
       "4                        4        48-59 months\n",
       "5                        5         6-11 months\n",
       "...                    ...                 ...\n",
       "155443                4210    Mashonaland West\n",
       "155444                4211            Masvingo\n",
       "155445                4212  Matabeleland North\n",
       "155446                4213  Matabeleland South\n",
       "155447                4214            Midlands\n",
       "\n",
       "[4214 rows x 2 columns]"
      ]
     },
     "execution_count": 185,
     "metadata": {},
     "output_type": "execute_result"
    }
   ],
   "source": [
    "# Reorder the columns so that 'Dimension Value ID' is first\n",
    "dimension_value_df = dimension_value_df[['Dimension Value ID', 'Dimension Value']]\n",
    "\n",
    "# Display the updated DataFrame\n",
    "dimension_value_df"
   ]
  },
  {
   "cell_type": "code",
   "execution_count": 186,
   "metadata": {},
   "outputs": [],
   "source": [
    "# Export dimension_value_df as CSV file.\n",
    "dimension_value_df.to_csv(\"data/dimension_value.csv\", index=False)"
   ]
  },
  {
   "cell_type": "code",
   "execution_count": 118,
   "metadata": {},
   "outputs": [
    {
     "name": "stdout",
     "output_type": "stream",
     "text": [
      "             Income Group\n",
      "1              Low income\n",
      "1005  Upper middle income\n",
      "2600  Lower middle income\n",
      "4525          High income\n"
     ]
    }
   ],
   "source": [
    "# Create a new DataFrame with unique values from the 'Income Group' column\n",
    "income_group_df = cleaned_df[['Income Group']].drop_duplicates()\n",
    "\n",
    "# Display the new DataFrame\n",
    "print(income_group_df)"
   ]
  },
  {
   "cell_type": "code",
   "execution_count": 188,
   "metadata": {},
   "outputs": [
    {
     "name": "stdout",
     "output_type": "stream",
     "text": [
      "[1 2 3 4]\n"
     ]
    }
   ],
   "source": [
    "# Create numpy array for each of the income groups\n",
    "income_ids = np.arange(1, len(income_group_df) + 1)\n",
    "print(income_ids)"
   ]
  },
  {
   "cell_type": "code",
   "execution_count": 189,
   "metadata": {},
   "outputs": [
    {
     "name": "stdout",
     "output_type": "stream",
     "text": [
      "['inc1', 'inc2', 'inc3', 'inc4']\n"
     ]
    }
   ],
   "source": [
    "# Use a list comprehension to add \"inc\" to each income_id.\n",
    "inc_ids = [\"inc\" + str(inc_id) for inc_id in income_ids]\n",
    "\n",
    "print(inc_ids)"
   ]
  },
  {
   "cell_type": "code",
   "execution_count": 190,
   "metadata": {},
   "outputs": [
    {
     "name": "stdout",
     "output_type": "stream",
     "text": [
      "             Income Group Income ID\n",
      "1              Low income      inc1\n",
      "1005  Upper middle income      inc2\n",
      "2600  Lower middle income      inc3\n",
      "4525          High income      inc4\n"
     ]
    }
   ],
   "source": [
    "# Add the inc_ids list as a new column\n",
    "income_group_df['Income ID'] = inc_ids\n",
    "\n",
    "print(income_group_df)"
   ]
  },
  {
   "cell_type": "code",
   "execution_count": 191,
   "metadata": {},
   "outputs": [
    {
     "data": {
      "text/html": [
       "<div>\n",
       "<style scoped>\n",
       "    .dataframe tbody tr th:only-of-type {\n",
       "        vertical-align: middle;\n",
       "    }\n",
       "\n",
       "    .dataframe tbody tr th {\n",
       "        vertical-align: top;\n",
       "    }\n",
       "\n",
       "    .dataframe thead th {\n",
       "        text-align: right;\n",
       "    }\n",
       "</style>\n",
       "<table border=\"1\" class=\"dataframe\">\n",
       "  <thead>\n",
       "    <tr style=\"text-align: right;\">\n",
       "      <th></th>\n",
       "      <th>Income ID</th>\n",
       "      <th>Income Group</th>\n",
       "    </tr>\n",
       "  </thead>\n",
       "  <tbody>\n",
       "    <tr>\n",
       "      <th>1</th>\n",
       "      <td>inc1</td>\n",
       "      <td>Low income</td>\n",
       "    </tr>\n",
       "    <tr>\n",
       "      <th>1005</th>\n",
       "      <td>inc2</td>\n",
       "      <td>Upper middle income</td>\n",
       "    </tr>\n",
       "    <tr>\n",
       "      <th>2600</th>\n",
       "      <td>inc3</td>\n",
       "      <td>Lower middle income</td>\n",
       "    </tr>\n",
       "    <tr>\n",
       "      <th>4525</th>\n",
       "      <td>inc4</td>\n",
       "      <td>High income</td>\n",
       "    </tr>\n",
       "  </tbody>\n",
       "</table>\n",
       "</div>"
      ],
      "text/plain": [
       "     Income ID         Income Group\n",
       "1         inc1           Low income\n",
       "1005      inc2  Upper middle income\n",
       "2600      inc3  Lower middle income\n",
       "4525      inc4          High income"
      ]
     },
     "execution_count": 191,
     "metadata": {},
     "output_type": "execute_result"
    }
   ],
   "source": [
    "# Reorder the columns so that 'Income ID' is first\n",
    "income_group_df = income_group_df[['Income ID', 'Income Group']]\n",
    "\n",
    "# Display the updated DataFrame\n",
    "income_group_df"
   ]
  },
  {
   "cell_type": "code",
   "execution_count": 206,
   "metadata": {},
   "outputs": [],
   "source": [
    "# Export income_group_df as CSV file.\n",
    "income_group_df.to_csv(\"data/income_group.csv\", index=False)"
   ]
  },
  {
   "cell_type": "code",
   "execution_count": 200,
   "metadata": {},
   "outputs": [
    {
     "name": "stdout",
     "output_type": "stream",
     "text": [
      "                     Region\n",
      "1     Eastern Mediterranean\n",
      "1005               European\n",
      "1555                African\n",
      "3164               Americas\n",
      "4525        Western Pacific\n",
      "5308        South-East Asia\n"
     ]
    }
   ],
   "source": [
    "# Create a new DataFrame with unique values from the 'Region' column\n",
    "region_df = cleaned_df[['Region']].drop_duplicates()\n",
    "\n",
    "# Display the new DataFrame\n",
    "print(region_df)"
   ]
  },
  {
   "cell_type": "code",
   "execution_count": 201,
   "metadata": {},
   "outputs": [
    {
     "name": "stdout",
     "output_type": "stream",
     "text": [
      "[1 2 3 4 5 6]\n"
     ]
    }
   ],
   "source": [
    "# Create numpy array for each of the regions\n",
    "region_ids = np.arange(1, len(region_df) + 1)\n",
    "print(region_ids)"
   ]
  },
  {
   "cell_type": "code",
   "execution_count": 202,
   "metadata": {},
   "outputs": [
    {
     "name": "stdout",
     "output_type": "stream",
     "text": [
      "['reg1', 'reg2', 'reg3', 'reg4', 'reg5', 'reg6']\n"
     ]
    }
   ],
   "source": [
    "# Use a list comprehension to add \"reg\" to each region_ids.\n",
    "reg_ids = [\"reg\" + str(reg_id) for reg_id in region_ids]\n",
    "\n",
    "print(reg_ids)"
   ]
  },
  {
   "cell_type": "code",
   "execution_count": 203,
   "metadata": {},
   "outputs": [
    {
     "name": "stdout",
     "output_type": "stream",
     "text": [
      "                     Region Region ID\n",
      "1     Eastern Mediterranean      reg1\n",
      "1005               European      reg2\n",
      "1555                African      reg3\n",
      "3164               Americas      reg4\n",
      "4525        Western Pacific      reg5\n",
      "5308        South-East Asia      reg6\n"
     ]
    }
   ],
   "source": [
    "# Add the reg_ids list as a new column\n",
    "region_df['Region ID'] = reg_ids\n",
    "\n",
    "print(region_df)"
   ]
  },
  {
   "cell_type": "code",
   "execution_count": 204,
   "metadata": {},
   "outputs": [
    {
     "data": {
      "text/html": [
       "<div>\n",
       "<style scoped>\n",
       "    .dataframe tbody tr th:only-of-type {\n",
       "        vertical-align: middle;\n",
       "    }\n",
       "\n",
       "    .dataframe tbody tr th {\n",
       "        vertical-align: top;\n",
       "    }\n",
       "\n",
       "    .dataframe thead th {\n",
       "        text-align: right;\n",
       "    }\n",
       "</style>\n",
       "<table border=\"1\" class=\"dataframe\">\n",
       "  <thead>\n",
       "    <tr style=\"text-align: right;\">\n",
       "      <th></th>\n",
       "      <th>Region ID</th>\n",
       "      <th>Region</th>\n",
       "    </tr>\n",
       "  </thead>\n",
       "  <tbody>\n",
       "    <tr>\n",
       "      <th>1</th>\n",
       "      <td>reg1</td>\n",
       "      <td>Eastern Mediterranean</td>\n",
       "    </tr>\n",
       "    <tr>\n",
       "      <th>1005</th>\n",
       "      <td>reg2</td>\n",
       "      <td>European</td>\n",
       "    </tr>\n",
       "    <tr>\n",
       "      <th>1555</th>\n",
       "      <td>reg3</td>\n",
       "      <td>African</td>\n",
       "    </tr>\n",
       "    <tr>\n",
       "      <th>3164</th>\n",
       "      <td>reg4</td>\n",
       "      <td>Americas</td>\n",
       "    </tr>\n",
       "    <tr>\n",
       "      <th>4525</th>\n",
       "      <td>reg5</td>\n",
       "      <td>Western Pacific</td>\n",
       "    </tr>\n",
       "    <tr>\n",
       "      <th>5308</th>\n",
       "      <td>reg6</td>\n",
       "      <td>South-East Asia</td>\n",
       "    </tr>\n",
       "  </tbody>\n",
       "</table>\n",
       "</div>"
      ],
      "text/plain": [
       "     Region ID                 Region\n",
       "1         reg1  Eastern Mediterranean\n",
       "1005      reg2               European\n",
       "1555      reg3                African\n",
       "3164      reg4               Americas\n",
       "4525      reg5        Western Pacific\n",
       "5308      reg6        South-East Asia"
      ]
     },
     "execution_count": 204,
     "metadata": {},
     "output_type": "execute_result"
    }
   ],
   "source": [
    "# Reorder the columns so that 'Region ID' is first\n",
    "region_df = region_df[['Region ID', 'Region']]\n",
    "\n",
    "# Display the updated DataFrame\n",
    "region_df"
   ]
  },
  {
   "cell_type": "code",
   "execution_count": 205,
   "metadata": {},
   "outputs": [],
   "source": [
    "# Export region_df as CSV file.\n",
    "region_df.to_csv(\"data/region.csv\", index=False)"
   ]
  }
 ],
 "metadata": {
  "kernelspec": {
   "display_name": "dev",
   "language": "python",
   "name": "python3"
  },
  "language_info": {
   "codemirror_mode": {
    "name": "ipython",
    "version": 3
   },
   "file_extension": ".py",
   "mimetype": "text/x-python",
   "name": "python",
   "nbconvert_exporter": "python",
   "pygments_lexer": "ipython3",
   "version": "3.11.9"
  }
 },
 "nbformat": 4,
 "nbformat_minor": 2
}
